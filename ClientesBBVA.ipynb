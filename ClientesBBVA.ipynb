{
  "nbformat": 4,
  "nbformat_minor": 0,
  "metadata": {
    "colab": {
      "name": "ClientesBBVA.ipynb",
      "version": "0.3.2",
      "provenance": [],
      "collapsed_sections": []
    },
    "kernelspec": {
      "name": "python3",
      "display_name": "Python 3"
    },
    "accelerator": "TPU"
  },
  "cells": [
    {
      "metadata": {
        "id": "Y8BvURqmaI5d",
        "colab_type": "text"
      },
      "cell_type": "markdown",
      "source": [
        "# PYD BBVA\n",
        "\n",
        "## Proyecto analítico Young Professional Data\n",
        "\n",
        "## Ricardo Andrés Medina Aponte\n"
      ]
    },
    {
      "metadata": {
        "id": "PmO8OlN7mt6a",
        "colab_type": "text"
      },
      "cell_type": "markdown",
      "source": [
        "#"
      ]
    },
    {
      "metadata": {
        "id": "7JBz8tSRYJUH",
        "colab_type": "code",
        "colab": {}
      },
      "cell_type": "code",
      "source": [
        "import pandas as pd\n",
        "import seaborn as sns\n",
        "import numpy as np\n",
        "import matplotlib.pyplot as plt"
      ],
      "execution_count": 0,
      "outputs": []
    },
    {
      "metadata": {
        "id": "kZ8fZutkeW5s",
        "colab_type": "code",
        "colab": {}
      },
      "cell_type": "code",
      "source": [
        "#GUARDAR purchase_per EN ARCHIVO csv\n",
        "# pd.DataFrame(hist_trans, index=hist_trans.index, columns=['purchase_per']).to_csv('purchase_periods.csv', index_label='ID')\n",
        "# from google.colab import files\n",
        "# files.download('purchase_periods.csv')"
      ],
      "execution_count": 0,
      "outputs": []
    },
    {
      "metadata": {
        "id": "DTOnHN1KkM9N",
        "colab_type": "code",
        "outputId": "0f0e31da-eba4-4442-9fc2-7cb8699b135d",
        "colab": {
          "base_uri": "https://localhost:8080/",
          "height": 35
        }
      },
      "cell_type": "code",
      "source": [
        "fileId = drive.CreateFile({'id': '1VCGGzGtYpyMXVbQHFLZXvFr1_jYAtpG4'}) \n",
        "print (fileId['title']) \n",
        "fileId.GetContentFile('BASE_ID.txt')  # Save Drive file as a local file"
      ],
      "execution_count": 5,
      "outputs": [
        {
          "output_type": "stream",
          "text": [
            "BASE_ID.txt\n"
          ],
          "name": "stdout"
        }
      ]
    },
    {
      "metadata": {
        "id": "i4Y6gH9-IYW9",
        "colab_type": "code",
        "outputId": "ec2b0d2b-e4e4-4572-92be-205f0186eb80",
        "colab": {
          "base_uri": "https://localhost:8080/",
          "height": 35
        }
      },
      "cell_type": "code",
      "source": [
        "fileId = drive.CreateFile({'id': '1NhU1PPcQRxTygVsP4c7hYCtEmE97LGK0'}) \n",
        "print (fileId['title']) \n",
        "fileId.GetContentFile('BASE_MOVIMIENTOS.txt')  # Save Drive file as a local file"
      ],
      "execution_count": 6,
      "outputs": [
        {
          "output_type": "stream",
          "text": [
            "BASE_MOVIMIENTOS.txt\n"
          ],
          "name": "stdout"
        }
      ]
    },
    {
      "metadata": {
        "id": "BhIEoBEdZH2q",
        "colab_type": "code",
        "outputId": "4383fa66-548f-43fd-c014-cdea8a0e21ab",
        "colab": {
          "base_uri": "https://localhost:8080/",
          "height": 35
        }
      },
      "cell_type": "code",
      "source": [
        "fileId = drive.CreateFile({'id': '1XtIQws9XZqR5MMowrieI78n_aNjizXr4'}) \n",
        "print (fileId['title']) \n",
        "fileId.GetContentFile('BASE_MOVS.csv')  # Save Drive file as a local file"
      ],
      "execution_count": 7,
      "outputs": [
        {
          "output_type": "stream",
          "text": [
            "BASE_MOVS.csv\n"
          ],
          "name": "stdout"
        }
      ]
    },
    {
      "metadata": {
        "id": "93xlngdvp959",
        "colab_type": "text"
      },
      "cell_type": "markdown",
      "source": [
        "#CARGUE DE LAS BASES"
      ]
    },
    {
      "metadata": {
        "id": "P3ouKJPAwqgE",
        "colab_type": "text"
      },
      "cell_type": "markdown",
      "source": [
        "##BASE_ID.txt: Información particular de cada cliente en la que se incluye alguna información demográfica. En particular se indica si el cliente se considera fugado."
      ]
    },
    {
      "metadata": {
        "id": "JUp5m7xFYJUK",
        "colab_type": "code",
        "outputId": "b65b0559-5100-49e9-e262-2825b3d231ad",
        "colab": {
          "base_uri": "https://localhost:8080/",
          "height": 204
        }
      },
      "cell_type": "code",
      "source": [
        "#Cargue de la base de descripción de clientes\n",
        "df = pd.read_csv('BASE_ID.txt', sep='\\t')\n",
        "\n",
        "#Primeros 5 registros\n",
        "df.head()"
      ],
      "execution_count": 8,
      "outputs": [
        {
          "output_type": "execute_result",
          "data": {
            "text/html": [
              "<div>\n",
              "<style scoped>\n",
              "    .dataframe tbody tr th:only-of-type {\n",
              "        vertical-align: middle;\n",
              "    }\n",
              "\n",
              "    .dataframe tbody tr th {\n",
              "        vertical-align: top;\n",
              "    }\n",
              "\n",
              "    .dataframe thead th {\n",
              "        text-align: right;\n",
              "    }\n",
              "</style>\n",
              "<table border=\"1\" class=\"dataframe\">\n",
              "  <thead>\n",
              "    <tr style=\"text-align: right;\">\n",
              "      <th></th>\n",
              "      <th>CLIENTE_CC</th>\n",
              "      <th>FECHA_ALTA</th>\n",
              "      <th>FECHA_NACIMIENTO</th>\n",
              "      <th>SEXO</th>\n",
              "      <th>ESTADO_CIVIL</th>\n",
              "      <th>SITUACION_LABORAL</th>\n",
              "      <th>fuga</th>\n",
              "      <th>MES_DE_FUGA</th>\n",
              "    </tr>\n",
              "  </thead>\n",
              "  <tbody>\n",
              "    <tr>\n",
              "      <th>0</th>\n",
              "      <td>1,00</td>\n",
              "      <td>sep301996</td>\n",
              "      <td>19300823</td>\n",
              "      <td>F</td>\n",
              "      <td>CASADO</td>\n",
              "      <td>otros</td>\n",
              "      <td>1.0</td>\n",
              "      <td>2.0</td>\n",
              "    </tr>\n",
              "    <tr>\n",
              "      <th>1</th>\n",
              "      <td>2,00</td>\n",
              "      <td>may011986</td>\n",
              "      <td>19530630</td>\n",
              "      <td>HOMBRE</td>\n",
              "      <td>UNION LIBRE</td>\n",
              "      <td>Contrato fijo</td>\n",
              "      <td>NaN</td>\n",
              "      <td>NaN</td>\n",
              "    </tr>\n",
              "    <tr>\n",
              "      <th>2</th>\n",
              "      <td>3,00</td>\n",
              "      <td>dic011994</td>\n",
              "      <td>19540721</td>\n",
              "      <td>F</td>\n",
              "      <td>UNION LIBRE</td>\n",
              "      <td>OTROS</td>\n",
              "      <td>1.0</td>\n",
              "      <td>11.0</td>\n",
              "    </tr>\n",
              "    <tr>\n",
              "      <th>3</th>\n",
              "      <td>4,00</td>\n",
              "      <td>ago271997</td>\n",
              "      <td>19390503</td>\n",
              "      <td>M</td>\n",
              "      <td>CASADO</td>\n",
              "      <td>OTROS</td>\n",
              "      <td>NaN</td>\n",
              "      <td>NaN</td>\n",
              "    </tr>\n",
              "    <tr>\n",
              "      <th>4</th>\n",
              "      <td>5,00</td>\n",
              "      <td>jul211997</td>\n",
              "      <td>19311013</td>\n",
              "      <td>F</td>\n",
              "      <td>CASADO</td>\n",
              "      <td>contrato autonomo.</td>\n",
              "      <td>NaN</td>\n",
              "      <td>NaN</td>\n",
              "    </tr>\n",
              "  </tbody>\n",
              "</table>\n",
              "</div>"
            ],
            "text/plain": [
              "  CLIENTE_CC FECHA_ALTA FECHA_NACIMIENTO    SEXO ESTADO_CIVIL  \\\n",
              "0       1,00  sep301996         19300823       F       CASADO   \n",
              "1       2,00  may011986         19530630  HOMBRE  UNION LIBRE   \n",
              "2       3,00  dic011994         19540721       F  UNION LIBRE   \n",
              "3       4,00  ago271997         19390503       M       CASADO   \n",
              "4       5,00  jul211997         19311013       F       CASADO   \n",
              "\n",
              "    SITUACION_LABORAL  fuga  MES_DE_FUGA  \n",
              "0               otros   1.0          2.0  \n",
              "1       Contrato fijo   NaN          NaN  \n",
              "2               OTROS   1.0         11.0  \n",
              "3               OTROS   NaN          NaN  \n",
              "4  contrato autonomo.   NaN          NaN  "
            ]
          },
          "metadata": {
            "tags": []
          },
          "execution_count": 8
        }
      ]
    },
    {
      "metadata": {
        "id": "1OdIRYV4YJUO",
        "colab_type": "code",
        "outputId": "7a48aa4b-f4d2-4fd5-8cbf-ee9462faff70",
        "colab": {
          "base_uri": "https://localhost:8080/",
          "height": 204
        }
      },
      "cell_type": "code",
      "source": [
        "#Últimos 5 registros\n",
        "df.tail()"
      ],
      "execution_count": 9,
      "outputs": [
        {
          "output_type": "execute_result",
          "data": {
            "text/html": [
              "<div>\n",
              "<style scoped>\n",
              "    .dataframe tbody tr th:only-of-type {\n",
              "        vertical-align: middle;\n",
              "    }\n",
              "\n",
              "    .dataframe tbody tr th {\n",
              "        vertical-align: top;\n",
              "    }\n",
              "\n",
              "    .dataframe thead th {\n",
              "        text-align: right;\n",
              "    }\n",
              "</style>\n",
              "<table border=\"1\" class=\"dataframe\">\n",
              "  <thead>\n",
              "    <tr style=\"text-align: right;\">\n",
              "      <th></th>\n",
              "      <th>CLIENTE_CC</th>\n",
              "      <th>FECHA_ALTA</th>\n",
              "      <th>FECHA_NACIMIENTO</th>\n",
              "      <th>SEXO</th>\n",
              "      <th>ESTADO_CIVIL</th>\n",
              "      <th>SITUACION_LABORAL</th>\n",
              "      <th>fuga</th>\n",
              "      <th>MES_DE_FUGA</th>\n",
              "    </tr>\n",
              "  </thead>\n",
              "  <tbody>\n",
              "    <tr>\n",
              "      <th>2495</th>\n",
              "      <td>2496,00</td>\n",
              "      <td>dic142016</td>\n",
              "      <td>19790212</td>\n",
              "      <td>M</td>\n",
              "      <td>CASADO</td>\n",
              "      <td>Contrato fijo</td>\n",
              "      <td>NaN</td>\n",
              "      <td>NaN</td>\n",
              "    </tr>\n",
              "    <tr>\n",
              "      <th>2496</th>\n",
              "      <td>2497,00</td>\n",
              "      <td>dic162016</td>\n",
              "      <td>19880424</td>\n",
              "      <td>MUJER</td>\n",
              "      <td>UNION LIBRE</td>\n",
              "      <td>CONTRATO TEMPORAL</td>\n",
              "      <td>NaN</td>\n",
              "      <td>NaN</td>\n",
              "    </tr>\n",
              "    <tr>\n",
              "      <th>2497</th>\n",
              "      <td>2498,00</td>\n",
              "      <td>dic162016</td>\n",
              "      <td>19780726</td>\n",
              "      <td>mujer</td>\n",
              "      <td>SOLTERO</td>\n",
              "      <td>OTROS</td>\n",
              "      <td>1.0</td>\n",
              "      <td>4.0</td>\n",
              "    </tr>\n",
              "    <tr>\n",
              "      <th>2498</th>\n",
              "      <td>2499,00</td>\n",
              "      <td>dic212016</td>\n",
              "      <td>19950630</td>\n",
              "      <td>M</td>\n",
              "      <td>SOLTERO</td>\n",
              "      <td>OTROS</td>\n",
              "      <td>1.0</td>\n",
              "      <td>3.0</td>\n",
              "    </tr>\n",
              "    <tr>\n",
              "      <th>2499</th>\n",
              "      <td>2500,00</td>\n",
              "      <td>dic262016</td>\n",
              "      <td>19461201</td>\n",
              "      <td>M</td>\n",
              "      <td>CASADO</td>\n",
              "      <td>CONTRATO AUTONOMO</td>\n",
              "      <td>1.0</td>\n",
              "      <td>2.0</td>\n",
              "    </tr>\n",
              "  </tbody>\n",
              "</table>\n",
              "</div>"
            ],
            "text/plain": [
              "     CLIENTE_CC FECHA_ALTA FECHA_NACIMIENTO   SEXO ESTADO_CIVIL  \\\n",
              "2495    2496,00  dic142016         19790212      M       CASADO   \n",
              "2496    2497,00  dic162016         19880424  MUJER  UNION LIBRE   \n",
              "2497    2498,00  dic162016         19780726  mujer      SOLTERO   \n",
              "2498    2499,00  dic212016         19950630      M      SOLTERO   \n",
              "2499    2500,00  dic262016         19461201      M       CASADO   \n",
              "\n",
              "      SITUACION_LABORAL  fuga  MES_DE_FUGA  \n",
              "2495      Contrato fijo   NaN          NaN  \n",
              "2496  CONTRATO TEMPORAL   NaN          NaN  \n",
              "2497              OTROS   1.0          4.0  \n",
              "2498              OTROS   1.0          3.0  \n",
              "2499  CONTRATO AUTONOMO   1.0          2.0  "
            ]
          },
          "metadata": {
            "tags": []
          },
          "execution_count": 9
        }
      ]
    },
    {
      "metadata": {
        "id": "B-fYgUOgYJUQ",
        "colab_type": "code",
        "outputId": "06756b45-abec-48a1-f009-4cc888e56a89",
        "colab": {
          "base_uri": "https://localhost:8080/",
          "height": 251
        }
      },
      "cell_type": "code",
      "source": [
        "#Información de las variables\n",
        "df.info()"
      ],
      "execution_count": 60,
      "outputs": [
        {
          "output_type": "stream",
          "text": [
            "<class 'pandas.core.frame.DataFrame'>\n",
            "RangeIndex: 2500 entries, 0 to 2499\n",
            "Data columns (total 8 columns):\n",
            "CLIENTE_CC           2500 non-null int64\n",
            "FECHA_ALTA           2500 non-null datetime64[ns]\n",
            "FECHA_NACIMIENTO     2500 non-null object\n",
            "SEXO                 2500 non-null category\n",
            "ESTADO_CIVIL         2482 non-null category\n",
            "SITUACION_LABORAL    2500 non-null category\n",
            "fuga                 2500 non-null float64\n",
            "MES_DE_FUGA          722 non-null float64\n",
            "dtypes: category(3), datetime64[ns](1), float64(2), int64(1), object(1)\n",
            "memory usage: 105.6+ KB\n"
          ],
          "name": "stdout"
        }
      ]
    },
    {
      "metadata": {
        "id": "carV4BDxYJUW",
        "colab_type": "code",
        "outputId": "c0c7778c-53d9-4c39-9cce-a4b8fe026d27",
        "colab": {
          "base_uri": "https://localhost:8080/",
          "height": 179
        }
      },
      "cell_type": "code",
      "source": [
        "#Datos faltantes en cada variable\n",
        "df.isnull().sum()"
      ],
      "execution_count": 11,
      "outputs": [
        {
          "output_type": "execute_result",
          "data": {
            "text/plain": [
              "CLIENTE_CC              0\n",
              "FECHA_ALTA              0\n",
              "FECHA_NACIMIENTO        0\n",
              "SEXO                    0\n",
              "ESTADO_CIVIL           18\n",
              "SITUACION_LABORAL       0\n",
              "fuga                 1778\n",
              "MES_DE_FUGA          1778\n",
              "dtype: int64"
            ]
          },
          "metadata": {
            "tags": []
          },
          "execution_count": 11
        }
      ]
    },
    {
      "metadata": {
        "id": "ATvmaI05szxU",
        "colab_type": "text"
      },
      "cell_type": "markdown",
      "source": [
        "###TRANSFORMACION DE VARIABLES"
      ]
    },
    {
      "metadata": {
        "id": "PnW8o-ykXFhG",
        "colab_type": "code",
        "outputId": "bb96c905-20dd-4d10-850a-5d0218efd4be",
        "colab": {
          "base_uri": "https://localhost:8080/",
          "height": 204
        }
      },
      "cell_type": "code",
      "source": [
        "#VARIABLE CLIENTE_CC\n",
        "df['CLIENTE_CC'] = df['CLIENTE_CC'].str.replace(',00','')\n",
        "\n",
        "#Cambiamos la variable a entera\n",
        "df['CLIENTE_CC'] = df['CLIENTE_CC'].astype('int') \n",
        "df.head()"
      ],
      "execution_count": 12,
      "outputs": [
        {
          "output_type": "execute_result",
          "data": {
            "text/html": [
              "<div>\n",
              "<style scoped>\n",
              "    .dataframe tbody tr th:only-of-type {\n",
              "        vertical-align: middle;\n",
              "    }\n",
              "\n",
              "    .dataframe tbody tr th {\n",
              "        vertical-align: top;\n",
              "    }\n",
              "\n",
              "    .dataframe thead th {\n",
              "        text-align: right;\n",
              "    }\n",
              "</style>\n",
              "<table border=\"1\" class=\"dataframe\">\n",
              "  <thead>\n",
              "    <tr style=\"text-align: right;\">\n",
              "      <th></th>\n",
              "      <th>CLIENTE_CC</th>\n",
              "      <th>FECHA_ALTA</th>\n",
              "      <th>FECHA_NACIMIENTO</th>\n",
              "      <th>SEXO</th>\n",
              "      <th>ESTADO_CIVIL</th>\n",
              "      <th>SITUACION_LABORAL</th>\n",
              "      <th>fuga</th>\n",
              "      <th>MES_DE_FUGA</th>\n",
              "    </tr>\n",
              "  </thead>\n",
              "  <tbody>\n",
              "    <tr>\n",
              "      <th>0</th>\n",
              "      <td>1</td>\n",
              "      <td>sep301996</td>\n",
              "      <td>19300823</td>\n",
              "      <td>F</td>\n",
              "      <td>CASADO</td>\n",
              "      <td>otros</td>\n",
              "      <td>1.0</td>\n",
              "      <td>2.0</td>\n",
              "    </tr>\n",
              "    <tr>\n",
              "      <th>1</th>\n",
              "      <td>2</td>\n",
              "      <td>may011986</td>\n",
              "      <td>19530630</td>\n",
              "      <td>HOMBRE</td>\n",
              "      <td>UNION LIBRE</td>\n",
              "      <td>Contrato fijo</td>\n",
              "      <td>NaN</td>\n",
              "      <td>NaN</td>\n",
              "    </tr>\n",
              "    <tr>\n",
              "      <th>2</th>\n",
              "      <td>3</td>\n",
              "      <td>dic011994</td>\n",
              "      <td>19540721</td>\n",
              "      <td>F</td>\n",
              "      <td>UNION LIBRE</td>\n",
              "      <td>OTROS</td>\n",
              "      <td>1.0</td>\n",
              "      <td>11.0</td>\n",
              "    </tr>\n",
              "    <tr>\n",
              "      <th>3</th>\n",
              "      <td>4</td>\n",
              "      <td>ago271997</td>\n",
              "      <td>19390503</td>\n",
              "      <td>M</td>\n",
              "      <td>CASADO</td>\n",
              "      <td>OTROS</td>\n",
              "      <td>NaN</td>\n",
              "      <td>NaN</td>\n",
              "    </tr>\n",
              "    <tr>\n",
              "      <th>4</th>\n",
              "      <td>5</td>\n",
              "      <td>jul211997</td>\n",
              "      <td>19311013</td>\n",
              "      <td>F</td>\n",
              "      <td>CASADO</td>\n",
              "      <td>contrato autonomo.</td>\n",
              "      <td>NaN</td>\n",
              "      <td>NaN</td>\n",
              "    </tr>\n",
              "  </tbody>\n",
              "</table>\n",
              "</div>"
            ],
            "text/plain": [
              "   CLIENTE_CC FECHA_ALTA FECHA_NACIMIENTO    SEXO ESTADO_CIVIL  \\\n",
              "0           1  sep301996         19300823       F       CASADO   \n",
              "1           2  may011986         19530630  HOMBRE  UNION LIBRE   \n",
              "2           3  dic011994         19540721       F  UNION LIBRE   \n",
              "3           4  ago271997         19390503       M       CASADO   \n",
              "4           5  jul211997         19311013       F       CASADO   \n",
              "\n",
              "    SITUACION_LABORAL  fuga  MES_DE_FUGA  \n",
              "0               otros   1.0          2.0  \n",
              "1       Contrato fijo   NaN          NaN  \n",
              "2               OTROS   1.0         11.0  \n",
              "3               OTROS   NaN          NaN  \n",
              "4  contrato autonomo.   NaN          NaN  "
            ]
          },
          "metadata": {
            "tags": []
          },
          "execution_count": 12
        }
      ]
    },
    {
      "metadata": {
        "id": "dWKBu9UcYJUZ",
        "colab_type": "code",
        "outputId": "fd2b4c46-9195-497d-c748-fa96b433e861",
        "colab": {
          "base_uri": "https://localhost:8080/",
          "height": 173
        }
      },
      "cell_type": "code",
      "source": [
        "#Una descripción de las variables Demograficas categoricas:\n",
        "df[['SEXO', 'ESTADO_CIVIL', 'SITUACION_LABORAL']].describe()"
      ],
      "execution_count": 13,
      "outputs": [
        {
          "output_type": "execute_result",
          "data": {
            "text/html": [
              "<div>\n",
              "<style scoped>\n",
              "    .dataframe tbody tr th:only-of-type {\n",
              "        vertical-align: middle;\n",
              "    }\n",
              "\n",
              "    .dataframe tbody tr th {\n",
              "        vertical-align: top;\n",
              "    }\n",
              "\n",
              "    .dataframe thead th {\n",
              "        text-align: right;\n",
              "    }\n",
              "</style>\n",
              "<table border=\"1\" class=\"dataframe\">\n",
              "  <thead>\n",
              "    <tr style=\"text-align: right;\">\n",
              "      <th></th>\n",
              "      <th>SEXO</th>\n",
              "      <th>ESTADO_CIVIL</th>\n",
              "      <th>SITUACION_LABORAL</th>\n",
              "    </tr>\n",
              "  </thead>\n",
              "  <tbody>\n",
              "    <tr>\n",
              "      <th>count</th>\n",
              "      <td>2500</td>\n",
              "      <td>2482</td>\n",
              "      <td>2500</td>\n",
              "    </tr>\n",
              "    <tr>\n",
              "      <th>unique</th>\n",
              "      <td>12</td>\n",
              "      <td>6</td>\n",
              "      <td>10</td>\n",
              "    </tr>\n",
              "    <tr>\n",
              "      <th>top</th>\n",
              "      <td>M</td>\n",
              "      <td>SOLTERO</td>\n",
              "      <td>OTROS</td>\n",
              "    </tr>\n",
              "    <tr>\n",
              "      <th>freq</th>\n",
              "      <td>463</td>\n",
              "      <td>1032</td>\n",
              "      <td>608</td>\n",
              "    </tr>\n",
              "  </tbody>\n",
              "</table>\n",
              "</div>"
            ],
            "text/plain": [
              "        SEXO ESTADO_CIVIL SITUACION_LABORAL\n",
              "count   2500         2482              2500\n",
              "unique    12            6                10\n",
              "top        M      SOLTERO             OTROS\n",
              "freq     463         1032               608"
            ]
          },
          "metadata": {
            "tags": []
          },
          "execution_count": 13
        }
      ]
    },
    {
      "metadata": {
        "id": "2MNlCLGWttgT",
        "colab_type": "text"
      },
      "cell_type": "markdown",
      "source": [
        "Las variables de SEXO, ESTADO CIVIL y SITUACIÓN LABORAL tienen un volumen grande de categorias, por lo que es necesario explorar una a una."
      ]
    },
    {
      "metadata": {
        "id": "jnm1_MJWYJUb",
        "colab_type": "code",
        "outputId": "ddfbbf19-2957-4110-e8e6-3a852001e5cf",
        "colab": {
          "base_uri": "https://localhost:8080/",
          "height": 251
        }
      },
      "cell_type": "code",
      "source": [
        "#VARIABLE SEXO\n",
        "df['SEXO'].value_counts()"
      ],
      "execution_count": 14,
      "outputs": [
        {
          "output_type": "execute_result",
          "data": {
            "text/plain": [
              "M            463\n",
              "mujer        306\n",
              "F            284\n",
              "HOMBRE       180\n",
              "MUJER        178\n",
              "Hombre       172\n",
              "Mujer        168\n",
              "femenino     160\n",
              "FEMENINO     154\n",
              "masculino    150\n",
              "Masc.        149\n",
              "varón        136\n",
              "Name: SEXO, dtype: int64"
            ]
          },
          "metadata": {
            "tags": []
          },
          "execution_count": 14
        }
      ]
    },
    {
      "metadata": {
        "id": "2Diu5pobuDhj",
        "colab_type": "text"
      },
      "cell_type": "markdown",
      "source": [
        "Es necesario definir un único tipo de categoría para HOMBRE y MUJER."
      ]
    },
    {
      "metadata": {
        "id": "nf6CTJDDYJUe",
        "colab_type": "code",
        "outputId": "573ca997-b644-4697-cad6-7992c15a5501",
        "colab": {
          "base_uri": "https://localhost:8080/",
          "height": 53
        }
      },
      "cell_type": "code",
      "source": [
        "df['SEXO'].unique()"
      ],
      "execution_count": 15,
      "outputs": [
        {
          "output_type": "execute_result",
          "data": {
            "text/plain": [
              "array(['F', 'HOMBRE', 'M', 'Hombre', 'mujer', 'femenino', 'masculino',\n",
              "       'FEMENINO', 'Mujer', 'varón', 'Masc.', 'MUJER'], dtype=object)"
            ]
          },
          "metadata": {
            "tags": []
          },
          "execution_count": 15
        }
      ]
    },
    {
      "metadata": {
        "id": "Ii0rcj3AYJUi",
        "colab_type": "code",
        "colab": {}
      },
      "cell_type": "code",
      "source": [
        "#Transformación de todas las categoria de MASCULINO\n",
        "df.loc[df['SEXO'].isin(['HOMBRE', 'Hombre','masculino','Masc.','varón']),'SEXO']= 'M'"
      ],
      "execution_count": 0,
      "outputs": []
    },
    {
      "metadata": {
        "id": "o8187tZkYJUk",
        "colab_type": "code",
        "colab": {}
      },
      "cell_type": "code",
      "source": [
        "#Transformación de todas las categoria de MASCULINO\n",
        "df.loc[df['SEXO'].isin(['mujer', 'MUJER','Mujer','femenino','FEMENINO']),'SEXO']='F'"
      ],
      "execution_count": 0,
      "outputs": []
    },
    {
      "metadata": {
        "id": "utRMftpPYJUm",
        "colab_type": "code",
        "outputId": "fc4f8372-ce4c-42f1-d19b-8bb591f5d90f",
        "colab": {
          "base_uri": "https://localhost:8080/",
          "height": 71
        }
      },
      "cell_type": "code",
      "source": [
        "#Finalmente quedamos con las categorias 'M' y 'F', Masculino y Femenino respectivamente.\n",
        "df['SEXO'].value_counts()"
      ],
      "execution_count": 18,
      "outputs": [
        {
          "output_type": "execute_result",
          "data": {
            "text/plain": [
              "F    1250\n",
              "M    1250\n",
              "Name: SEXO, dtype: int64"
            ]
          },
          "metadata": {
            "tags": []
          },
          "execution_count": 18
        }
      ]
    },
    {
      "metadata": {
        "id": "XcJfJR78va6m",
        "colab_type": "text"
      },
      "cell_type": "markdown",
      "source": [
        "**VARIABLE ESTADO CIVIL**"
      ]
    },
    {
      "metadata": {
        "id": "m-HAPzaPYJUp",
        "colab_type": "code",
        "outputId": "b5365806-20dc-40f2-8f56-636d075a95d0",
        "colab": {
          "base_uri": "https://localhost:8080/",
          "height": 143
        }
      },
      "cell_type": "code",
      "source": [
        "#ESTADO CIVIL\n",
        "df['ESTADO_CIVIL'].value_counts()"
      ],
      "execution_count": 19,
      "outputs": [
        {
          "output_type": "execute_result",
          "data": {
            "text/plain": [
              "SOLTERO        1032\n",
              "CASADO          799\n",
              "UNION LIBRE     391\n",
              "VIUDO           137\n",
              "SEPARADO         92\n",
              "DIVORCIADO       31\n",
              "Name: ESTADO_CIVIL, dtype: int64"
            ]
          },
          "metadata": {
            "tags": []
          },
          "execution_count": 19
        }
      ]
    },
    {
      "metadata": {
        "id": "cVTxgukYvUyF",
        "colab_type": "text"
      },
      "cell_type": "markdown",
      "source": [
        "La variable ESTADO CIVIL parece no tener problemas en cuanto a sus categorias."
      ]
    },
    {
      "metadata": {
        "id": "ZRdjfalmveiL",
        "colab_type": "text"
      },
      "cell_type": "markdown",
      "source": [
        "**VARIABLE SITUACION LABORAL**"
      ]
    },
    {
      "metadata": {
        "id": "L5uag2haYJUr",
        "colab_type": "code",
        "outputId": "33304a0d-1460-49ea-e47b-e8958b0dd055",
        "colab": {
          "base_uri": "https://localhost:8080/",
          "height": 215
        }
      },
      "cell_type": "code",
      "source": [
        "#SITUACION_LABORAL\n",
        "df['SITUACION_LABORAL'].value_counts()"
      ],
      "execution_count": 20,
      "outputs": [
        {
          "output_type": "execute_result",
          "data": {
            "text/plain": [
              "OTROS                 608\n",
              "CONTRATO FIJO         567\n",
              "Contrato fijo         498\n",
              "CONTRATO TEMPORAL     223\n",
              "temporal              215\n",
              "otros                 124\n",
              "contrato autonomo.     96\n",
              "CONTRATO AUTONOMO      87\n",
              "SIN CLASIFICAR         42\n",
              " desconocido           40\n",
              "Name: SITUACION_LABORAL, dtype: int64"
            ]
          },
          "metadata": {
            "tags": []
          },
          "execution_count": 20
        }
      ]
    },
    {
      "metadata": {
        "id": "zkhPot7zYJUv",
        "colab_type": "code",
        "outputId": "3cc4e9e8-6cc1-4614-984b-f231400764ba",
        "colab": {
          "base_uri": "https://localhost:8080/",
          "height": 89
        }
      },
      "cell_type": "code",
      "source": [
        "df['SITUACION_LABORAL'].unique()"
      ],
      "execution_count": 21,
      "outputs": [
        {
          "output_type": "execute_result",
          "data": {
            "text/plain": [
              "array(['otros', 'Contrato fijo', 'OTROS', 'contrato autonomo.',\n",
              "       ' desconocido   ', 'CONTRATO AUTONOMO', 'CONTRATO FIJO',\n",
              "       'CONTRATO TEMPORAL', 'temporal     ', 'SIN CLASIFICAR'],\n",
              "      dtype=object)"
            ]
          },
          "metadata": {
            "tags": []
          },
          "execution_count": 21
        }
      ]
    },
    {
      "metadata": {
        "id": "OXM6_WyHuvZS",
        "colab_type": "text"
      },
      "cell_type": "markdown",
      "source": [
        "La variable SITUACION LABORAL tiene varias maneras de denotar la misma categoria, por lo que es necesario unificarlas."
      ]
    },
    {
      "metadata": {
        "id": "3sdbgZhxYJUx",
        "colab_type": "code",
        "colab": {}
      },
      "cell_type": "code",
      "source": [
        "#Categoria contrato FIJO\n",
        "df.loc[df['SITUACION_LABORAL'].isin(['CONTRATO FIJO', 'Contrato fijo']),'SITUACION_LABORAL']= 'FIJO'"
      ],
      "execution_count": 0,
      "outputs": []
    },
    {
      "metadata": {
        "id": "n3ZCb1KbYJUz",
        "colab_type": "code",
        "colab": {}
      },
      "cell_type": "code",
      "source": [
        "#Categoria contrato OTROS\n",
        "df.loc[df['SITUACION_LABORAL'].isin(['otros']),'SITUACION_LABORAL']= 'OTROS'"
      ],
      "execution_count": 0,
      "outputs": []
    },
    {
      "metadata": {
        "id": "BN4kf-RkYJU1",
        "colab_type": "code",
        "colab": {}
      },
      "cell_type": "code",
      "source": [
        "#Categoria contrato AUTÓNOMO\n",
        "df.loc[df['SITUACION_LABORAL'].isin(['contrato autonomo.', 'CONTRATO AUTONOMO']),'SITUACION_LABORAL']= 'AUTONOMO'"
      ],
      "execution_count": 0,
      "outputs": []
    },
    {
      "metadata": {
        "id": "7Z7VNaViYJU3",
        "colab_type": "code",
        "colab": {}
      },
      "cell_type": "code",
      "source": [
        "#Categoria contrato TEMPORAL\n",
        "df.loc[df['SITUACION_LABORAL'].isin(['CONTRATO TEMPORAL', 'temporal     ']),'SITUACION_LABORAL']= 'TEMPORAL'"
      ],
      "execution_count": 0,
      "outputs": []
    },
    {
      "metadata": {
        "id": "dkWniVZ1YJU5",
        "colab_type": "code",
        "colab": {}
      },
      "cell_type": "code",
      "source": [
        "#Categoria contrato DESCONOCIDO\n",
        "df.loc[df['SITUACION_LABORAL'].isin(['SIN CLASIFICAR', ' desconocido   ']),'SITUACION_LABORAL']= 'DESCONOCIDO'"
      ],
      "execution_count": 0,
      "outputs": []
    },
    {
      "metadata": {
        "id": "yL2OzubFYJU6",
        "colab_type": "code",
        "outputId": "646570c1-0668-4ea3-e6ef-adfa0a03e5e2",
        "colab": {
          "base_uri": "https://localhost:8080/",
          "height": 125
        }
      },
      "cell_type": "code",
      "source": [
        "#Finalmente quedan unificadas las categorias\n",
        "df['SITUACION_LABORAL'].value_counts()"
      ],
      "execution_count": 27,
      "outputs": [
        {
          "output_type": "execute_result",
          "data": {
            "text/plain": [
              "FIJO           1065\n",
              "OTROS           732\n",
              "TEMPORAL        438\n",
              "AUTONOMO        183\n",
              "DESCONOCIDO      82\n",
              "Name: SITUACION_LABORAL, dtype: int64"
            ]
          },
          "metadata": {
            "tags": []
          },
          "execution_count": 27
        }
      ]
    },
    {
      "metadata": {
        "id": "o4sINSdPYJU9",
        "colab_type": "code",
        "outputId": "6e64f227-7d3a-4f0c-a18f-a54b93c53ca2",
        "colab": {
          "base_uri": "https://localhost:8080/",
          "height": 251
        }
      },
      "cell_type": "code",
      "source": [
        "#Tipificación de las variables como CATEGORICAS\n",
        "df[['SEXO', 'ESTADO_CIVIL', 'SITUACION_LABORAL']] = df[['SEXO', 'ESTADO_CIVIL', 'SITUACION_LABORAL']].apply(lambda x: x.astype('category'))\n",
        "df.info()"
      ],
      "execution_count": 28,
      "outputs": [
        {
          "output_type": "stream",
          "text": [
            "<class 'pandas.core.frame.DataFrame'>\n",
            "RangeIndex: 2500 entries, 0 to 2499\n",
            "Data columns (total 8 columns):\n",
            "CLIENTE_CC           2500 non-null int64\n",
            "FECHA_ALTA           2500 non-null object\n",
            "FECHA_NACIMIENTO     2500 non-null object\n",
            "SEXO                 2500 non-null category\n",
            "ESTADO_CIVIL         2482 non-null category\n",
            "SITUACION_LABORAL    2500 non-null category\n",
            "fuga                 722 non-null float64\n",
            "MES_DE_FUGA          722 non-null float64\n",
            "dtypes: category(3), float64(2), int64(1), object(2)\n",
            "memory usage: 105.6+ KB\n"
          ],
          "name": "stdout"
        }
      ]
    },
    {
      "metadata": {
        "id": "XMY7-kczvsXh",
        "colab_type": "text"
      },
      "cell_type": "markdown",
      "source": [
        "**VARIABLES FECHA ALTA Y FECHA NACIMIENTO**"
      ]
    },
    {
      "metadata": {
        "id": "iioBu2TcYJVC",
        "colab_type": "code",
        "colab": {}
      },
      "cell_type": "code",
      "source": [
        "#FECHAS"
      ],
      "execution_count": 0,
      "outputs": []
    },
    {
      "metadata": {
        "id": "oNEY1FKZYJVD",
        "colab_type": "code",
        "outputId": "4a4d9a00-de80-4553-8eab-919f591a1546",
        "colab": {
          "base_uri": "https://localhost:8080/",
          "height": 173
        }
      },
      "cell_type": "code",
      "source": [
        "df[['FECHA_ALTA', 'FECHA_NACIMIENTO']].describe()"
      ],
      "execution_count": 30,
      "outputs": [
        {
          "output_type": "execute_result",
          "data": {
            "text/html": [
              "<div>\n",
              "<style scoped>\n",
              "    .dataframe tbody tr th:only-of-type {\n",
              "        vertical-align: middle;\n",
              "    }\n",
              "\n",
              "    .dataframe tbody tr th {\n",
              "        vertical-align: top;\n",
              "    }\n",
              "\n",
              "    .dataframe thead th {\n",
              "        text-align: right;\n",
              "    }\n",
              "</style>\n",
              "<table border=\"1\" class=\"dataframe\">\n",
              "  <thead>\n",
              "    <tr style=\"text-align: right;\">\n",
              "      <th></th>\n",
              "      <th>FECHA_ALTA</th>\n",
              "      <th>FECHA_NACIMIENTO</th>\n",
              "    </tr>\n",
              "  </thead>\n",
              "  <tbody>\n",
              "    <tr>\n",
              "      <th>count</th>\n",
              "      <td>2500</td>\n",
              "      <td>2500</td>\n",
              "    </tr>\n",
              "    <tr>\n",
              "      <th>unique</th>\n",
              "      <td>1660</td>\n",
              "      <td>2361</td>\n",
              "    </tr>\n",
              "    <tr>\n",
              "      <th>top</th>\n",
              "      <td>feb272002</td>\n",
              "      <td>0001-01-01</td>\n",
              "    </tr>\n",
              "    <tr>\n",
              "      <th>freq</th>\n",
              "      <td>190</td>\n",
              "      <td>13</td>\n",
              "    </tr>\n",
              "  </tbody>\n",
              "</table>\n",
              "</div>"
            ],
            "text/plain": [
              "       FECHA_ALTA FECHA_NACIMIENTO\n",
              "count        2500             2500\n",
              "unique       1660             2361\n",
              "top     feb272002       0001-01-01\n",
              "freq          190               13"
            ]
          },
          "metadata": {
            "tags": []
          },
          "execution_count": 30
        }
      ]
    },
    {
      "metadata": {
        "id": "7Smu1W77YJVG",
        "colab_type": "code",
        "outputId": "71f80af4-65e0-4f8c-cf1a-45c015b26805",
        "colab": {
          "base_uri": "https://localhost:8080/",
          "height": 204
        }
      },
      "cell_type": "code",
      "source": [
        "df[['FECHA_ALTA', 'FECHA_NACIMIENTO']].head()"
      ],
      "execution_count": 31,
      "outputs": [
        {
          "output_type": "execute_result",
          "data": {
            "text/html": [
              "<div>\n",
              "<style scoped>\n",
              "    .dataframe tbody tr th:only-of-type {\n",
              "        vertical-align: middle;\n",
              "    }\n",
              "\n",
              "    .dataframe tbody tr th {\n",
              "        vertical-align: top;\n",
              "    }\n",
              "\n",
              "    .dataframe thead th {\n",
              "        text-align: right;\n",
              "    }\n",
              "</style>\n",
              "<table border=\"1\" class=\"dataframe\">\n",
              "  <thead>\n",
              "    <tr style=\"text-align: right;\">\n",
              "      <th></th>\n",
              "      <th>FECHA_ALTA</th>\n",
              "      <th>FECHA_NACIMIENTO</th>\n",
              "    </tr>\n",
              "  </thead>\n",
              "  <tbody>\n",
              "    <tr>\n",
              "      <th>0</th>\n",
              "      <td>sep301996</td>\n",
              "      <td>19300823</td>\n",
              "    </tr>\n",
              "    <tr>\n",
              "      <th>1</th>\n",
              "      <td>may011986</td>\n",
              "      <td>19530630</td>\n",
              "    </tr>\n",
              "    <tr>\n",
              "      <th>2</th>\n",
              "      <td>dic011994</td>\n",
              "      <td>19540721</td>\n",
              "    </tr>\n",
              "    <tr>\n",
              "      <th>3</th>\n",
              "      <td>ago271997</td>\n",
              "      <td>19390503</td>\n",
              "    </tr>\n",
              "    <tr>\n",
              "      <th>4</th>\n",
              "      <td>jul211997</td>\n",
              "      <td>19311013</td>\n",
              "    </tr>\n",
              "  </tbody>\n",
              "</table>\n",
              "</div>"
            ],
            "text/plain": [
              "  FECHA_ALTA FECHA_NACIMIENTO\n",
              "0  sep301996         19300823\n",
              "1  may011986         19530630\n",
              "2  dic011994         19540721\n",
              "3  ago271997         19390503\n",
              "4  jul211997         19311013"
            ]
          },
          "metadata": {
            "tags": []
          },
          "execution_count": 31
        }
      ]
    },
    {
      "metadata": {
        "id": "d26noMrPv-jD",
        "colab_type": "text"
      },
      "cell_type": "markdown",
      "source": [
        "Las variables presentan distintos tipos de formato."
      ]
    },
    {
      "metadata": {
        "id": "1qvo8g5Dm6Sb",
        "colab_type": "code",
        "colab": {}
      },
      "cell_type": "code",
      "source": [
        "#Se cambian los meses al idioma de máquina (ingles)\n",
        "df['FECHA_ALTA'] = df['FECHA_ALTA'].str.replace('ene','jan')\n",
        "df['FECHA_ALTA'] = df['FECHA_ALTA'].str.replace('abr','apr')\n",
        "df['FECHA_ALTA'] = df['FECHA_ALTA'].str.replace('ago','aug')\n",
        "df['FECHA_ALTA'] = df['FECHA_ALTA'].str.replace('dic','dec')"
      ],
      "execution_count": 0,
      "outputs": []
    },
    {
      "metadata": {
        "id": "rLEW-pdTYJVO",
        "colab_type": "code",
        "outputId": "bba728de-e1e5-4eb5-fed6-5adb40fd9f76",
        "colab": {
          "base_uri": "https://localhost:8080/",
          "height": 125
        }
      },
      "cell_type": "code",
      "source": [
        "#Se tipifica en formato fecha\n",
        "df['FECHA_ALTA'] = pd.to_datetime(df['FECHA_ALTA'], format='%b%d%Y')\n",
        "df['FECHA_ALTA'].head()"
      ],
      "execution_count": 35,
      "outputs": [
        {
          "output_type": "execute_result",
          "data": {
            "text/plain": [
              "0   1996-09-30\n",
              "1   1986-05-01\n",
              "2   1994-12-01\n",
              "3   1997-08-27\n",
              "4   1997-07-21\n",
              "Name: FECHA_ALTA, dtype: datetime64[ns]"
            ]
          },
          "metadata": {
            "tags": []
          },
          "execution_count": 35
        }
      ]
    },
    {
      "metadata": {
        "id": "L6p8WIeqxGu9",
        "colab_type": "text"
      },
      "cell_type": "markdown",
      "source": [
        "**VARIABLE FECHA NACIMIENTO**"
      ]
    },
    {
      "metadata": {
        "id": "BxLKJoYQYJVQ",
        "colab_type": "code",
        "outputId": "85941089-0fc4-4498-ba49-9f1bcff73f87",
        "colab": {
          "base_uri": "https://localhost:8080/",
          "height": 173
        }
      },
      "cell_type": "code",
      "source": [
        "df[['FECHA_NACIMIENTO']].describe()"
      ],
      "execution_count": 36,
      "outputs": [
        {
          "output_type": "execute_result",
          "data": {
            "text/html": [
              "<div>\n",
              "<style scoped>\n",
              "    .dataframe tbody tr th:only-of-type {\n",
              "        vertical-align: middle;\n",
              "    }\n",
              "\n",
              "    .dataframe tbody tr th {\n",
              "        vertical-align: top;\n",
              "    }\n",
              "\n",
              "    .dataframe thead th {\n",
              "        text-align: right;\n",
              "    }\n",
              "</style>\n",
              "<table border=\"1\" class=\"dataframe\">\n",
              "  <thead>\n",
              "    <tr style=\"text-align: right;\">\n",
              "      <th></th>\n",
              "      <th>FECHA_NACIMIENTO</th>\n",
              "    </tr>\n",
              "  </thead>\n",
              "  <tbody>\n",
              "    <tr>\n",
              "      <th>count</th>\n",
              "      <td>2500</td>\n",
              "    </tr>\n",
              "    <tr>\n",
              "      <th>unique</th>\n",
              "      <td>2361</td>\n",
              "    </tr>\n",
              "    <tr>\n",
              "      <th>top</th>\n",
              "      <td>0001-01-01</td>\n",
              "    </tr>\n",
              "    <tr>\n",
              "      <th>freq</th>\n",
              "      <td>13</td>\n",
              "    </tr>\n",
              "  </tbody>\n",
              "</table>\n",
              "</div>"
            ],
            "text/plain": [
              "       FECHA_NACIMIENTO\n",
              "count              2500\n",
              "unique             2361\n",
              "top          0001-01-01\n",
              "freq                 13"
            ]
          },
          "metadata": {
            "tags": []
          },
          "execution_count": 36
        }
      ]
    },
    {
      "metadata": {
        "id": "e124dzSRxSKM",
        "colab_type": "text"
      },
      "cell_type": "markdown",
      "source": [
        "La fecha de nacimiento se encuentra con un valor erroneo 0001-01-01 del cual hay 13 registros:"
      ]
    },
    {
      "metadata": {
        "id": "L_Q5ufAnYJVS",
        "colab_type": "code",
        "outputId": "9149dec0-475d-407e-aad6-7f55a187ab31",
        "colab": {
          "base_uri": "https://localhost:8080/",
          "height": 452
        }
      },
      "cell_type": "code",
      "source": [
        "df.loc[df['FECHA_NACIMIENTO']=='0001-01-01'] "
      ],
      "execution_count": 37,
      "outputs": [
        {
          "output_type": "execute_result",
          "data": {
            "text/html": [
              "<div>\n",
              "<style scoped>\n",
              "    .dataframe tbody tr th:only-of-type {\n",
              "        vertical-align: middle;\n",
              "    }\n",
              "\n",
              "    .dataframe tbody tr th {\n",
              "        vertical-align: top;\n",
              "    }\n",
              "\n",
              "    .dataframe thead th {\n",
              "        text-align: right;\n",
              "    }\n",
              "</style>\n",
              "<table border=\"1\" class=\"dataframe\">\n",
              "  <thead>\n",
              "    <tr style=\"text-align: right;\">\n",
              "      <th></th>\n",
              "      <th>CLIENTE_CC</th>\n",
              "      <th>FECHA_ALTA</th>\n",
              "      <th>FECHA_NACIMIENTO</th>\n",
              "      <th>SEXO</th>\n",
              "      <th>ESTADO_CIVIL</th>\n",
              "      <th>SITUACION_LABORAL</th>\n",
              "      <th>fuga</th>\n",
              "      <th>MES_DE_FUGA</th>\n",
              "    </tr>\n",
              "  </thead>\n",
              "  <tbody>\n",
              "    <tr>\n",
              "      <th>124</th>\n",
              "      <td>125</td>\n",
              "      <td>1997-09-12</td>\n",
              "      <td>0001-01-01</td>\n",
              "      <td>F</td>\n",
              "      <td>NaN</td>\n",
              "      <td>DESCONOCIDO</td>\n",
              "      <td>NaN</td>\n",
              "      <td>NaN</td>\n",
              "    </tr>\n",
              "    <tr>\n",
              "      <th>149</th>\n",
              "      <td>150</td>\n",
              "      <td>1997-05-21</td>\n",
              "      <td>0001-01-01</td>\n",
              "      <td>M</td>\n",
              "      <td>NaN</td>\n",
              "      <td>TEMPORAL</td>\n",
              "      <td>NaN</td>\n",
              "      <td>NaN</td>\n",
              "    </tr>\n",
              "    <tr>\n",
              "      <th>677</th>\n",
              "      <td>678</td>\n",
              "      <td>2002-02-27</td>\n",
              "      <td>0001-01-01</td>\n",
              "      <td>M</td>\n",
              "      <td>NaN</td>\n",
              "      <td>DESCONOCIDO</td>\n",
              "      <td>NaN</td>\n",
              "      <td>NaN</td>\n",
              "    </tr>\n",
              "    <tr>\n",
              "      <th>687</th>\n",
              "      <td>688</td>\n",
              "      <td>2002-02-27</td>\n",
              "      <td>0001-01-01</td>\n",
              "      <td>F</td>\n",
              "      <td>NaN</td>\n",
              "      <td>DESCONOCIDO</td>\n",
              "      <td>1.0</td>\n",
              "      <td>3.0</td>\n",
              "    </tr>\n",
              "    <tr>\n",
              "      <th>747</th>\n",
              "      <td>748</td>\n",
              "      <td>2002-02-27</td>\n",
              "      <td>0001-01-01</td>\n",
              "      <td>F</td>\n",
              "      <td>NaN</td>\n",
              "      <td>OTROS</td>\n",
              "      <td>NaN</td>\n",
              "      <td>NaN</td>\n",
              "    </tr>\n",
              "    <tr>\n",
              "      <th>758</th>\n",
              "      <td>759</td>\n",
              "      <td>2002-02-27</td>\n",
              "      <td>0001-01-01</td>\n",
              "      <td>M</td>\n",
              "      <td>NaN</td>\n",
              "      <td>DESCONOCIDO</td>\n",
              "      <td>NaN</td>\n",
              "      <td>NaN</td>\n",
              "    </tr>\n",
              "    <tr>\n",
              "      <th>767</th>\n",
              "      <td>768</td>\n",
              "      <td>2002-02-27</td>\n",
              "      <td>0001-01-01</td>\n",
              "      <td>F</td>\n",
              "      <td>SOLTERO</td>\n",
              "      <td>DESCONOCIDO</td>\n",
              "      <td>NaN</td>\n",
              "      <td>NaN</td>\n",
              "    </tr>\n",
              "    <tr>\n",
              "      <th>781</th>\n",
              "      <td>782</td>\n",
              "      <td>2002-02-27</td>\n",
              "      <td>0001-01-01</td>\n",
              "      <td>F</td>\n",
              "      <td>NaN</td>\n",
              "      <td>DESCONOCIDO</td>\n",
              "      <td>NaN</td>\n",
              "      <td>NaN</td>\n",
              "    </tr>\n",
              "    <tr>\n",
              "      <th>787</th>\n",
              "      <td>788</td>\n",
              "      <td>1999-09-22</td>\n",
              "      <td>0001-01-01</td>\n",
              "      <td>F</td>\n",
              "      <td>NaN</td>\n",
              "      <td>OTROS</td>\n",
              "      <td>NaN</td>\n",
              "      <td>NaN</td>\n",
              "    </tr>\n",
              "    <tr>\n",
              "      <th>798</th>\n",
              "      <td>799</td>\n",
              "      <td>2002-02-27</td>\n",
              "      <td>0001-01-01</td>\n",
              "      <td>M</td>\n",
              "      <td>NaN</td>\n",
              "      <td>DESCONOCIDO</td>\n",
              "      <td>NaN</td>\n",
              "      <td>NaN</td>\n",
              "    </tr>\n",
              "    <tr>\n",
              "      <th>818</th>\n",
              "      <td>819</td>\n",
              "      <td>2002-02-27</td>\n",
              "      <td>0001-01-01</td>\n",
              "      <td>M</td>\n",
              "      <td>NaN</td>\n",
              "      <td>DESCONOCIDO</td>\n",
              "      <td>NaN</td>\n",
              "      <td>NaN</td>\n",
              "    </tr>\n",
              "    <tr>\n",
              "      <th>843</th>\n",
              "      <td>844</td>\n",
              "      <td>2002-02-27</td>\n",
              "      <td>0001-01-01</td>\n",
              "      <td>M</td>\n",
              "      <td>NaN</td>\n",
              "      <td>DESCONOCIDO</td>\n",
              "      <td>NaN</td>\n",
              "      <td>NaN</td>\n",
              "    </tr>\n",
              "    <tr>\n",
              "      <th>846</th>\n",
              "      <td>847</td>\n",
              "      <td>2002-02-27</td>\n",
              "      <td>0001-01-01</td>\n",
              "      <td>F</td>\n",
              "      <td>NaN</td>\n",
              "      <td>DESCONOCIDO</td>\n",
              "      <td>NaN</td>\n",
              "      <td>NaN</td>\n",
              "    </tr>\n",
              "  </tbody>\n",
              "</table>\n",
              "</div>"
            ],
            "text/plain": [
              "     CLIENTE_CC FECHA_ALTA FECHA_NACIMIENTO SEXO ESTADO_CIVIL  \\\n",
              "124         125 1997-09-12       0001-01-01    F          NaN   \n",
              "149         150 1997-05-21       0001-01-01    M          NaN   \n",
              "677         678 2002-02-27       0001-01-01    M          NaN   \n",
              "687         688 2002-02-27       0001-01-01    F          NaN   \n",
              "747         748 2002-02-27       0001-01-01    F          NaN   \n",
              "758         759 2002-02-27       0001-01-01    M          NaN   \n",
              "767         768 2002-02-27       0001-01-01    F      SOLTERO   \n",
              "781         782 2002-02-27       0001-01-01    F          NaN   \n",
              "787         788 1999-09-22       0001-01-01    F          NaN   \n",
              "798         799 2002-02-27       0001-01-01    M          NaN   \n",
              "818         819 2002-02-27       0001-01-01    M          NaN   \n",
              "843         844 2002-02-27       0001-01-01    M          NaN   \n",
              "846         847 2002-02-27       0001-01-01    F          NaN   \n",
              "\n",
              "    SITUACION_LABORAL  fuga  MES_DE_FUGA  \n",
              "124       DESCONOCIDO   NaN          NaN  \n",
              "149          TEMPORAL   NaN          NaN  \n",
              "677       DESCONOCIDO   NaN          NaN  \n",
              "687       DESCONOCIDO   1.0          3.0  \n",
              "747             OTROS   NaN          NaN  \n",
              "758       DESCONOCIDO   NaN          NaN  \n",
              "767       DESCONOCIDO   NaN          NaN  \n",
              "781       DESCONOCIDO   NaN          NaN  \n",
              "787             OTROS   NaN          NaN  \n",
              "798       DESCONOCIDO   NaN          NaN  \n",
              "818       DESCONOCIDO   NaN          NaN  \n",
              "843       DESCONOCIDO   NaN          NaN  \n",
              "846       DESCONOCIDO   NaN          NaN  "
            ]
          },
          "metadata": {
            "tags": []
          },
          "execution_count": 37
        }
      ]
    },
    {
      "metadata": {
        "id": "9QeSD3UkxjWB",
        "colab_type": "text"
      },
      "cell_type": "markdown",
      "source": [
        "Estas fechas erroneas coinciden con valores NaN en Estado Civil, y la gran mayoría no presenta fuga. Además la fecha de alta para la gran mayoría es 2002-02-27. "
      ]
    },
    {
      "metadata": {
        "id": "cVnrY4rlYJVU",
        "colab_type": "code",
        "outputId": "5c2bb4da-fc03-42eb-f596-1b5d87ad8254",
        "colab": {
          "base_uri": "https://localhost:8080/",
          "height": 607
        }
      },
      "cell_type": "code",
      "source": [
        "#valores perdidos en ESTADO CIVIL\n",
        "df[df['ESTADO_CIVIL'].isnull()]"
      ],
      "execution_count": 38,
      "outputs": [
        {
          "output_type": "execute_result",
          "data": {
            "text/html": [
              "<div>\n",
              "<style scoped>\n",
              "    .dataframe tbody tr th:only-of-type {\n",
              "        vertical-align: middle;\n",
              "    }\n",
              "\n",
              "    .dataframe tbody tr th {\n",
              "        vertical-align: top;\n",
              "    }\n",
              "\n",
              "    .dataframe thead th {\n",
              "        text-align: right;\n",
              "    }\n",
              "</style>\n",
              "<table border=\"1\" class=\"dataframe\">\n",
              "  <thead>\n",
              "    <tr style=\"text-align: right;\">\n",
              "      <th></th>\n",
              "      <th>CLIENTE_CC</th>\n",
              "      <th>FECHA_ALTA</th>\n",
              "      <th>FECHA_NACIMIENTO</th>\n",
              "      <th>SEXO</th>\n",
              "      <th>ESTADO_CIVIL</th>\n",
              "      <th>SITUACION_LABORAL</th>\n",
              "      <th>fuga</th>\n",
              "      <th>MES_DE_FUGA</th>\n",
              "    </tr>\n",
              "  </thead>\n",
              "  <tbody>\n",
              "    <tr>\n",
              "      <th>124</th>\n",
              "      <td>125</td>\n",
              "      <td>1997-09-12</td>\n",
              "      <td>0001-01-01</td>\n",
              "      <td>F</td>\n",
              "      <td>NaN</td>\n",
              "      <td>DESCONOCIDO</td>\n",
              "      <td>NaN</td>\n",
              "      <td>NaN</td>\n",
              "    </tr>\n",
              "    <tr>\n",
              "      <th>149</th>\n",
              "      <td>150</td>\n",
              "      <td>1997-05-21</td>\n",
              "      <td>0001-01-01</td>\n",
              "      <td>M</td>\n",
              "      <td>NaN</td>\n",
              "      <td>TEMPORAL</td>\n",
              "      <td>NaN</td>\n",
              "      <td>NaN</td>\n",
              "    </tr>\n",
              "    <tr>\n",
              "      <th>677</th>\n",
              "      <td>678</td>\n",
              "      <td>2002-02-27</td>\n",
              "      <td>0001-01-01</td>\n",
              "      <td>M</td>\n",
              "      <td>NaN</td>\n",
              "      <td>DESCONOCIDO</td>\n",
              "      <td>NaN</td>\n",
              "      <td>NaN</td>\n",
              "    </tr>\n",
              "    <tr>\n",
              "      <th>687</th>\n",
              "      <td>688</td>\n",
              "      <td>2002-02-27</td>\n",
              "      <td>0001-01-01</td>\n",
              "      <td>F</td>\n",
              "      <td>NaN</td>\n",
              "      <td>DESCONOCIDO</td>\n",
              "      <td>1.0</td>\n",
              "      <td>3.0</td>\n",
              "    </tr>\n",
              "    <tr>\n",
              "      <th>710</th>\n",
              "      <td>711</td>\n",
              "      <td>2005-09-07</td>\n",
              "      <td>20050722</td>\n",
              "      <td>M</td>\n",
              "      <td>NaN</td>\n",
              "      <td>OTROS</td>\n",
              "      <td>NaN</td>\n",
              "      <td>NaN</td>\n",
              "    </tr>\n",
              "    <tr>\n",
              "      <th>747</th>\n",
              "      <td>748</td>\n",
              "      <td>2002-02-27</td>\n",
              "      <td>0001-01-01</td>\n",
              "      <td>F</td>\n",
              "      <td>NaN</td>\n",
              "      <td>OTROS</td>\n",
              "      <td>NaN</td>\n",
              "      <td>NaN</td>\n",
              "    </tr>\n",
              "    <tr>\n",
              "      <th>755</th>\n",
              "      <td>756</td>\n",
              "      <td>2002-02-27</td>\n",
              "      <td>19300901</td>\n",
              "      <td>M</td>\n",
              "      <td>NaN</td>\n",
              "      <td>DESCONOCIDO</td>\n",
              "      <td>NaN</td>\n",
              "      <td>NaN</td>\n",
              "    </tr>\n",
              "    <tr>\n",
              "      <th>758</th>\n",
              "      <td>759</td>\n",
              "      <td>2002-02-27</td>\n",
              "      <td>0001-01-01</td>\n",
              "      <td>M</td>\n",
              "      <td>NaN</td>\n",
              "      <td>DESCONOCIDO</td>\n",
              "      <td>NaN</td>\n",
              "      <td>NaN</td>\n",
              "    </tr>\n",
              "    <tr>\n",
              "      <th>775</th>\n",
              "      <td>776</td>\n",
              "      <td>2002-02-27</td>\n",
              "      <td>19390922</td>\n",
              "      <td>F</td>\n",
              "      <td>NaN</td>\n",
              "      <td>DESCONOCIDO</td>\n",
              "      <td>NaN</td>\n",
              "      <td>NaN</td>\n",
              "    </tr>\n",
              "    <tr>\n",
              "      <th>781</th>\n",
              "      <td>782</td>\n",
              "      <td>2002-02-27</td>\n",
              "      <td>0001-01-01</td>\n",
              "      <td>F</td>\n",
              "      <td>NaN</td>\n",
              "      <td>DESCONOCIDO</td>\n",
              "      <td>NaN</td>\n",
              "      <td>NaN</td>\n",
              "    </tr>\n",
              "    <tr>\n",
              "      <th>787</th>\n",
              "      <td>788</td>\n",
              "      <td>1999-09-22</td>\n",
              "      <td>0001-01-01</td>\n",
              "      <td>F</td>\n",
              "      <td>NaN</td>\n",
              "      <td>OTROS</td>\n",
              "      <td>NaN</td>\n",
              "      <td>NaN</td>\n",
              "    </tr>\n",
              "    <tr>\n",
              "      <th>798</th>\n",
              "      <td>799</td>\n",
              "      <td>2002-02-27</td>\n",
              "      <td>0001-01-01</td>\n",
              "      <td>M</td>\n",
              "      <td>NaN</td>\n",
              "      <td>DESCONOCIDO</td>\n",
              "      <td>NaN</td>\n",
              "      <td>NaN</td>\n",
              "    </tr>\n",
              "    <tr>\n",
              "      <th>804</th>\n",
              "      <td>805</td>\n",
              "      <td>2002-02-27</td>\n",
              "      <td>19340805</td>\n",
              "      <td>F</td>\n",
              "      <td>NaN</td>\n",
              "      <td>DESCONOCIDO</td>\n",
              "      <td>NaN</td>\n",
              "      <td>NaN</td>\n",
              "    </tr>\n",
              "    <tr>\n",
              "      <th>818</th>\n",
              "      <td>819</td>\n",
              "      <td>2002-02-27</td>\n",
              "      <td>0001-01-01</td>\n",
              "      <td>M</td>\n",
              "      <td>NaN</td>\n",
              "      <td>DESCONOCIDO</td>\n",
              "      <td>NaN</td>\n",
              "      <td>NaN</td>\n",
              "    </tr>\n",
              "    <tr>\n",
              "      <th>840</th>\n",
              "      <td>841</td>\n",
              "      <td>2002-02-27</td>\n",
              "      <td>19401208</td>\n",
              "      <td>F</td>\n",
              "      <td>NaN</td>\n",
              "      <td>DESCONOCIDO</td>\n",
              "      <td>NaN</td>\n",
              "      <td>NaN</td>\n",
              "    </tr>\n",
              "    <tr>\n",
              "      <th>843</th>\n",
              "      <td>844</td>\n",
              "      <td>2002-02-27</td>\n",
              "      <td>0001-01-01</td>\n",
              "      <td>M</td>\n",
              "      <td>NaN</td>\n",
              "      <td>DESCONOCIDO</td>\n",
              "      <td>NaN</td>\n",
              "      <td>NaN</td>\n",
              "    </tr>\n",
              "    <tr>\n",
              "      <th>846</th>\n",
              "      <td>847</td>\n",
              "      <td>2002-02-27</td>\n",
              "      <td>0001-01-01</td>\n",
              "      <td>F</td>\n",
              "      <td>NaN</td>\n",
              "      <td>DESCONOCIDO</td>\n",
              "      <td>NaN</td>\n",
              "      <td>NaN</td>\n",
              "    </tr>\n",
              "    <tr>\n",
              "      <th>895</th>\n",
              "      <td>896</td>\n",
              "      <td>2002-05-16</td>\n",
              "      <td>19981224</td>\n",
              "      <td>M</td>\n",
              "      <td>NaN</td>\n",
              "      <td>DESCONOCIDO</td>\n",
              "      <td>NaN</td>\n",
              "      <td>NaN</td>\n",
              "    </tr>\n",
              "  </tbody>\n",
              "</table>\n",
              "</div>"
            ],
            "text/plain": [
              "     CLIENTE_CC FECHA_ALTA FECHA_NACIMIENTO SEXO ESTADO_CIVIL  \\\n",
              "124         125 1997-09-12       0001-01-01    F          NaN   \n",
              "149         150 1997-05-21       0001-01-01    M          NaN   \n",
              "677         678 2002-02-27       0001-01-01    M          NaN   \n",
              "687         688 2002-02-27       0001-01-01    F          NaN   \n",
              "710         711 2005-09-07         20050722    M          NaN   \n",
              "747         748 2002-02-27       0001-01-01    F          NaN   \n",
              "755         756 2002-02-27         19300901    M          NaN   \n",
              "758         759 2002-02-27       0001-01-01    M          NaN   \n",
              "775         776 2002-02-27         19390922    F          NaN   \n",
              "781         782 2002-02-27       0001-01-01    F          NaN   \n",
              "787         788 1999-09-22       0001-01-01    F          NaN   \n",
              "798         799 2002-02-27       0001-01-01    M          NaN   \n",
              "804         805 2002-02-27         19340805    F          NaN   \n",
              "818         819 2002-02-27       0001-01-01    M          NaN   \n",
              "840         841 2002-02-27         19401208    F          NaN   \n",
              "843         844 2002-02-27       0001-01-01    M          NaN   \n",
              "846         847 2002-02-27       0001-01-01    F          NaN   \n",
              "895         896 2002-05-16         19981224    M          NaN   \n",
              "\n",
              "    SITUACION_LABORAL  fuga  MES_DE_FUGA  \n",
              "124       DESCONOCIDO   NaN          NaN  \n",
              "149          TEMPORAL   NaN          NaN  \n",
              "677       DESCONOCIDO   NaN          NaN  \n",
              "687       DESCONOCIDO   1.0          3.0  \n",
              "710             OTROS   NaN          NaN  \n",
              "747             OTROS   NaN          NaN  \n",
              "755       DESCONOCIDO   NaN          NaN  \n",
              "758       DESCONOCIDO   NaN          NaN  \n",
              "775       DESCONOCIDO   NaN          NaN  \n",
              "781       DESCONOCIDO   NaN          NaN  \n",
              "787             OTROS   NaN          NaN  \n",
              "798       DESCONOCIDO   NaN          NaN  \n",
              "804       DESCONOCIDO   NaN          NaN  \n",
              "818       DESCONOCIDO   NaN          NaN  \n",
              "840       DESCONOCIDO   NaN          NaN  \n",
              "843       DESCONOCIDO   NaN          NaN  \n",
              "846       DESCONOCIDO   NaN          NaN  \n",
              "895       DESCONOCIDO   NaN          NaN  "
            ]
          },
          "metadata": {
            "tags": []
          },
          "execution_count": 38
        }
      ]
    },
    {
      "metadata": {
        "id": "oVXDbH78yExR",
        "colab_type": "text"
      },
      "cell_type": "markdown",
      "source": [
        " "
      ]
    },
    {
      "metadata": {
        "scrolled": true,
        "id": "Qtz5YcKDYJVW",
        "colab_type": "code",
        "outputId": "326c2550-50bd-4661-f688-d57daf293b53",
        "colab": {
          "base_uri": "https://localhost:8080/",
          "height": 125
        }
      },
      "cell_type": "code",
      "source": [
        "# df[df['FECHA_NACIMIENTO']=='0001-01-01'] = pd.to_datetime(df[df['FECHA_NACIMIENTO']=='0001-01-01'], format='%Y%m%d')\n",
        "df['FECHA_NACIMIENTO'].head()"
      ],
      "execution_count": 39,
      "outputs": [
        {
          "output_type": "execute_result",
          "data": {
            "text/plain": [
              "0    19300823\n",
              "1    19530630\n",
              "2    19540721\n",
              "3    19390503\n",
              "4    19311013\n",
              "Name: FECHA_NACIMIENTO, dtype: object"
            ]
          },
          "metadata": {
            "tags": []
          },
          "execution_count": 39
        }
      ]
    },
    {
      "metadata": {
        "id": "WHPb72QdYJVZ",
        "colab_type": "code",
        "outputId": "6447e5e3-75e7-413d-862e-ce4f317cc1aa",
        "colab": {
          "base_uri": "https://localhost:8080/",
          "height": 441
        }
      },
      "cell_type": "code",
      "source": [
        "pd.to_datetime(df[df['FECHA_NACIMIENTO']!='0001-01-01'], format='%Y%m%d')"
      ],
      "execution_count": 40,
      "outputs": [
        {
          "output_type": "error",
          "ename": "ValueError",
          "evalue": "ignored",
          "traceback": [
            "\u001b[0;31m---------------------------------------------------------------------------\u001b[0m",
            "\u001b[0;31mValueError\u001b[0m                                Traceback (most recent call last)",
            "\u001b[0;32m<ipython-input-40-c8422e111979>\u001b[0m in \u001b[0;36m<module>\u001b[0;34m()\u001b[0m\n\u001b[0;32m----> 1\u001b[0;31m \u001b[0mpd\u001b[0m\u001b[0;34m.\u001b[0m\u001b[0mto_datetime\u001b[0m\u001b[0;34m(\u001b[0m\u001b[0mdf\u001b[0m\u001b[0;34m[\u001b[0m\u001b[0mdf\u001b[0m\u001b[0;34m[\u001b[0m\u001b[0;34m'FECHA_NACIMIENTO'\u001b[0m\u001b[0;34m]\u001b[0m\u001b[0;34m!=\u001b[0m\u001b[0;34m'0001-01-01'\u001b[0m\u001b[0;34m]\u001b[0m\u001b[0;34m,\u001b[0m \u001b[0mformat\u001b[0m\u001b[0;34m=\u001b[0m\u001b[0;34m'%Y%m%d'\u001b[0m\u001b[0;34m)\u001b[0m\u001b[0;34m\u001b[0m\u001b[0;34m\u001b[0m\u001b[0m\n\u001b[0m",
            "\u001b[0;32m/usr/local/lib/python3.6/dist-packages/pandas/core/tools/datetimes.py\u001b[0m in \u001b[0;36mto_datetime\u001b[0;34m(arg, errors, dayfirst, yearfirst, utc, box, format, exact, unit, infer_datetime_format, origin)\u001b[0m\n\u001b[1;32m    374\u001b[0m         \u001b[0mresult\u001b[0m \u001b[0;34m=\u001b[0m \u001b[0mSeries\u001b[0m\u001b[0;34m(\u001b[0m\u001b[0mvalues\u001b[0m\u001b[0;34m,\u001b[0m \u001b[0mindex\u001b[0m\u001b[0;34m=\u001b[0m\u001b[0marg\u001b[0m\u001b[0;34m.\u001b[0m\u001b[0mindex\u001b[0m\u001b[0;34m,\u001b[0m \u001b[0mname\u001b[0m\u001b[0;34m=\u001b[0m\u001b[0marg\u001b[0m\u001b[0;34m.\u001b[0m\u001b[0mname\u001b[0m\u001b[0;34m)\u001b[0m\u001b[0;34m\u001b[0m\u001b[0;34m\u001b[0m\u001b[0m\n\u001b[1;32m    375\u001b[0m     \u001b[0;32melif\u001b[0m \u001b[0misinstance\u001b[0m\u001b[0;34m(\u001b[0m\u001b[0marg\u001b[0m\u001b[0;34m,\u001b[0m \u001b[0;34m(\u001b[0m\u001b[0mABCDataFrame\u001b[0m\u001b[0;34m,\u001b[0m \u001b[0mMutableMapping\u001b[0m\u001b[0;34m)\u001b[0m\u001b[0;34m)\u001b[0m\u001b[0;34m:\u001b[0m\u001b[0;34m\u001b[0m\u001b[0;34m\u001b[0m\u001b[0m\n\u001b[0;32m--> 376\u001b[0;31m         \u001b[0mresult\u001b[0m \u001b[0;34m=\u001b[0m \u001b[0m_assemble_from_unit_mappings\u001b[0m\u001b[0;34m(\u001b[0m\u001b[0marg\u001b[0m\u001b[0;34m,\u001b[0m \u001b[0merrors\u001b[0m\u001b[0;34m=\u001b[0m\u001b[0merrors\u001b[0m\u001b[0;34m)\u001b[0m\u001b[0;34m\u001b[0m\u001b[0;34m\u001b[0m\u001b[0m\n\u001b[0m\u001b[1;32m    377\u001b[0m     \u001b[0;32melif\u001b[0m \u001b[0misinstance\u001b[0m\u001b[0;34m(\u001b[0m\u001b[0marg\u001b[0m\u001b[0;34m,\u001b[0m \u001b[0mABCIndexClass\u001b[0m\u001b[0;34m)\u001b[0m\u001b[0;34m:\u001b[0m\u001b[0;34m\u001b[0m\u001b[0;34m\u001b[0m\u001b[0m\n\u001b[1;32m    378\u001b[0m         \u001b[0mresult\u001b[0m \u001b[0;34m=\u001b[0m \u001b[0m_convert_listlike\u001b[0m\u001b[0;34m(\u001b[0m\u001b[0marg\u001b[0m\u001b[0;34m,\u001b[0m \u001b[0mbox\u001b[0m\u001b[0;34m,\u001b[0m \u001b[0mformat\u001b[0m\u001b[0;34m,\u001b[0m \u001b[0mname\u001b[0m\u001b[0;34m=\u001b[0m\u001b[0marg\u001b[0m\u001b[0;34m.\u001b[0m\u001b[0mname\u001b[0m\u001b[0;34m)\u001b[0m\u001b[0;34m\u001b[0m\u001b[0;34m\u001b[0m\u001b[0m\n",
            "\u001b[0;32m/usr/local/lib/python3.6/dist-packages/pandas/core/tools/datetimes.py\u001b[0m in \u001b[0;36m_assemble_from_unit_mappings\u001b[0;34m(arg, errors)\u001b[0m\n\u001b[1;32m    453\u001b[0m         raise ValueError(\"to assemble mappings requires at least that \"\n\u001b[1;32m    454\u001b[0m                          \u001b[0;34m\"[year, month, day] be specified: [{required}] \"\u001b[0m\u001b[0;34m\u001b[0m\u001b[0;34m\u001b[0m\u001b[0m\n\u001b[0;32m--> 455\u001b[0;31m                          \"is missing\".format(required=','.join(req)))\n\u001b[0m\u001b[1;32m    456\u001b[0m \u001b[0;34m\u001b[0m\u001b[0m\n\u001b[1;32m    457\u001b[0m     \u001b[0;31m# keys we don't recognize\u001b[0m\u001b[0;34m\u001b[0m\u001b[0;34m\u001b[0m\u001b[0;34m\u001b[0m\u001b[0m\n",
            "\u001b[0;31mValueError\u001b[0m: to assemble mappings requires at least that [year, month, day] be specified: [day,month,year] is missing"
          ]
        }
      ]
    },
    {
      "metadata": {
        "id": "jfiW8jwd0IF6",
        "colab_type": "text"
      },
      "cell_type": "markdown",
      "source": [
        "**VARIABLE FUGA**"
      ]
    },
    {
      "metadata": {
        "id": "VvT34ueiYJVb",
        "colab_type": "code",
        "colab": {}
      },
      "cell_type": "code",
      "source": [
        "#Cambiamos los valores perdidos a 0.\n",
        "df.loc[df['fuga'].isnull(),'fuga'] = 0"
      ],
      "execution_count": 0,
      "outputs": []
    },
    {
      "metadata": {
        "id": "ftdnKBAuz0Dv",
        "colab_type": "text"
      },
      "cell_type": "markdown",
      "source": [
        "###DESCRIPTIVAS DE LAS VARIABLES:"
      ]
    },
    {
      "metadata": {
        "id": "01IFcFs9j5FD",
        "colab_type": "code",
        "outputId": "c9d7eed6-8c86-43f1-e759-72cad4e09f11",
        "colab": {
          "base_uri": "https://localhost:8080/",
          "height": 450
        }
      },
      "cell_type": "code",
      "source": [
        "fig, ax = plt.subplots(figsize=(7, 7))\n",
        "plt.pie(df['fuga'].value_counts(), labels=['No','Si'],autopct='%1.0f%%', \n",
        "        pctdistance=0.5, labeldistance=1.1,shadow=True)\n",
        "ax.set_title('CLIENTES FUGADOS', fontsize=20)"
      ],
      "execution_count": 42,
      "outputs": [
        {
          "output_type": "execute_result",
          "data": {
            "text/plain": [
              "Text(0.5, 1.0, 'CLIENTES FUGADOS')"
            ]
          },
          "metadata": {
            "tags": []
          },
          "execution_count": 42
        },
        {
          "output_type": "display_data",
          "data": {
            "image/png": "[encoded data removed]",
            "text/plain": [
              "<Figure size 504x504 with 1 Axes>"
            ]
          },
          "metadata": {
            "tags": []
          }
        }
      ]
    },
    {
      "metadata": {
        "id": "yPtJoAOmj487",
        "colab_type": "code",
        "outputId": "00eeb98e-1b22-47a1-a21b-0a18cf4407b1",
        "colab": {
          "base_uri": "https://localhost:8080/",
          "height": 450
        }
      },
      "cell_type": "code",
      "source": [
        "fig, ax = plt.subplots(figsize=(7, 7))\n",
        "plt.pie(df['SEXO'].value_counts(), labels=['HOMBRE','MUJER'],autopct='%1.0f%%', \n",
        "        pctdistance=0.5, labeldistance=1.1,shadow=True)\n",
        "ax.set_title('SEXO', fontsize=20)"
      ],
      "execution_count": 43,
      "outputs": [
        {
          "output_type": "execute_result",
          "data": {
            "text/plain": [
              "Text(0.5, 1.0, 'SEXO')"
            ]
          },
          "metadata": {
            "tags": []
          },
          "execution_count": 43
        },
        {
          "output_type": "display_data",
          "data": {
            "image/png": "[encoded data removed]",
            "text/plain": [
              "<Figure size 504x504 with 1 Axes>"
            ]
          },
          "metadata": {
            "tags": []
          }
        }
      ]
    },
    {
      "metadata": {
        "id": "FD4WsLfej4x0",
        "colab_type": "code",
        "outputId": "1f21b9fd-95a1-40d5-a9a2-52690aea2753",
        "colab": {
          "base_uri": "https://localhost:8080/",
          "height": 525
        }
      },
      "cell_type": "code",
      "source": [
        "fig, ax = plt.subplots(figsize=(10, 7))\n",
        "sns.countplot('ESTADO_CIVIL',hue='fuga',data=df[['fuga','ESTADO_CIVIL']])\n",
        "ax.set_title('CLIENTES FUGADOS POR ESTADO CIVIL', fontsize=25)\n",
        "# ax.set_xticklabels([\"NO\",\"SI\"], fontsize=13)\n",
        "ax.set_xlabel(\"ESTADO CIVIL\", fontsize=15)\n",
        "ax.set_ylabel(\"CANTIDAD\", fontsize=15)"
      ],
      "execution_count": 44,
      "outputs": [
        {
          "output_type": "stream",
          "text": [
            "/usr/local/lib/python3.6/dist-packages/seaborn/categorical.py:1468: FutureWarning: remove_na is deprecated and is a private function. Do not use.\n",
            "  stat_data = remove_na(group_data[hue_mask])\n"
          ],
          "name": "stderr"
        },
        {
          "output_type": "execute_result",
          "data": {
            "text/plain": [
              "Text(0, 0.5, 'CANTIDAD')"
            ]
          },
          "metadata": {
            "tags": []
          },
          "execution_count": 44
        },
        {
          "output_type": "display_data",
          "data": {
            "image/png": "[encoded data removed]",
            "text/plain": [
              "<Figure size 720x504 with 1 Axes>"
            ]
          },
          "metadata": {
            "tags": []
          }
        }
      ]
    },
    {
      "metadata": {
        "id": "DVN76hRikG11",
        "colab_type": "code",
        "outputId": "2c42eecf-d842-4d5e-e8c3-022e55ddb9c5",
        "colab": {
          "base_uri": "https://localhost:8080/",
          "height": 525
        }
      },
      "cell_type": "code",
      "source": [
        "fig, ax = plt.subplots(figsize=(10, 7))\n",
        "sns.countplot('SITUACION_LABORAL',hue='fuga',data=df[['fuga','SITUACION_LABORAL']])\n",
        "ax.set_title('CLIENTES FUGADOS POR SITUACION LABORAL', fontsize=25)\n",
        "# ax.set_xticklabels([\"NO\",\"SI\"], fontsize=13)\n",
        "ax.set_xlabel(\"SITUACION LABORAL\", fontsize=15)\n",
        "ax.set_ylabel(\"CANTIDAD\", fontsize=15)"
      ],
      "execution_count": 45,
      "outputs": [
        {
          "output_type": "stream",
          "text": [
            "/usr/local/lib/python3.6/dist-packages/seaborn/categorical.py:1468: FutureWarning: remove_na is deprecated and is a private function. Do not use.\n",
            "  stat_data = remove_na(group_data[hue_mask])\n"
          ],
          "name": "stderr"
        },
        {
          "output_type": "execute_result",
          "data": {
            "text/plain": [
              "Text(0, 0.5, 'CANTIDAD')"
            ]
          },
          "metadata": {
            "tags": []
          },
          "execution_count": 45
        },
        {
          "output_type": "display_data",
          "data": {
            "image/png": "[encoded data removed]",
            "text/plain": [
              "<Figure size 720x504 with 1 Axes>"
            ]
          },
          "metadata": {
            "tags": []
          }
        }
      ]
    },
    {
      "metadata": {
        "id": "Iey7mAsAkDIq",
        "colab_type": "code",
        "colab": {}
      },
      "cell_type": "code",
      "source": [
        ""
      ],
      "execution_count": 0,
      "outputs": []
    },
    {
      "metadata": {
        "id": "URuiZCnLYJVc",
        "colab_type": "code",
        "colab": {}
      },
      "cell_type": "code",
      "source": [
        ""
      ],
      "execution_count": 0,
      "outputs": []
    },
    {
      "metadata": {
        "id": "lMCpjU9v2Kag",
        "colab_type": "text"
      },
      "cell_type": "markdown",
      "source": [
        "##BASE_MOVIMIENTOS.txt: Información asociada a montos y saldos de productos de los clientes a diferentes cortes con alguna información adicional."
      ]
    },
    {
      "metadata": {
        "scrolled": false,
        "id": "IkFRdaPYYJVd",
        "colab_type": "code",
        "outputId": "b064ef3b-73f7-42fc-ac25-6604187dc781",
        "colab": {
          "base_uri": "https://localhost:8080/",
          "height": 873
        }
      },
      "cell_type": "code",
      "source": [
        "#CARGUE DE LA BASE DE MOVIMIENTOS\n",
        "movs = pd.read_csv('BASE_MOVIMIENTOS.txt', index_col=0)"
      ],
      "execution_count": 54,
      "outputs": [
        {
          "output_type": "error",
          "ename": "ParserError",
          "evalue": "ignored",
          "traceback": [
            "\u001b[0;31m---------------------------------------------------------------------------\u001b[0m",
            "\u001b[0;31mParserError\u001b[0m                               Traceback (most recent call last)",
            "\u001b[0;32m<ipython-input-54-488b6d061c1d>\u001b[0m in \u001b[0;36m<module>\u001b[0;34m()\u001b[0m\n\u001b[0;32m----> 1\u001b[0;31m \u001b[0mmovs\u001b[0m \u001b[0;34m=\u001b[0m \u001b[0mpd\u001b[0m\u001b[0;34m.\u001b[0m\u001b[0mread_csv\u001b[0m\u001b[0;34m(\u001b[0m\u001b[0;34m'BASE_MOVIMIENTOS.txt'\u001b[0m\u001b[0;34m,\u001b[0m \u001b[0mindex_col\u001b[0m\u001b[0;34m=\u001b[0m\u001b[0;36m0\u001b[0m\u001b[0;34m)\u001b[0m\u001b[0;34m\u001b[0m\u001b[0;34m\u001b[0m\u001b[0m\n\u001b[0m",
            "\u001b[0;32m/usr/local/lib/python3.6/dist-packages/pandas/io/parsers.py\u001b[0m in \u001b[0;36mparser_f\u001b[0;34m(filepath_or_buffer, sep, delimiter, header, names, index_col, usecols, squeeze, prefix, mangle_dupe_cols, dtype, engine, converters, true_values, false_values, skipinitialspace, skiprows, nrows, na_values, keep_default_na, na_filter, verbose, skip_blank_lines, parse_dates, infer_datetime_format, keep_date_col, date_parser, dayfirst, iterator, chunksize, compression, thousands, decimal, lineterminator, quotechar, quoting, escapechar, comment, encoding, dialect, tupleize_cols, error_bad_lines, warn_bad_lines, skipfooter, skip_footer, doublequote, delim_whitespace, as_recarray, compact_ints, use_unsigned, low_memory, buffer_lines, memory_map, float_precision)\u001b[0m\n\u001b[1;32m    707\u001b[0m                     skip_blank_lines=skip_blank_lines)\n\u001b[1;32m    708\u001b[0m \u001b[0;34m\u001b[0m\u001b[0m\n\u001b[0;32m--> 709\u001b[0;31m         \u001b[0;32mreturn\u001b[0m \u001b[0m_read\u001b[0m\u001b[0;34m(\u001b[0m\u001b[0mfilepath_or_buffer\u001b[0m\u001b[0;34m,\u001b[0m \u001b[0mkwds\u001b[0m\u001b[0;34m)\u001b[0m\u001b[0;34m\u001b[0m\u001b[0;34m\u001b[0m\u001b[0m\n\u001b[0m\u001b[1;32m    710\u001b[0m \u001b[0;34m\u001b[0m\u001b[0m\n\u001b[1;32m    711\u001b[0m     \u001b[0mparser_f\u001b[0m\u001b[0;34m.\u001b[0m\u001b[0m__name__\u001b[0m \u001b[0;34m=\u001b[0m \u001b[0mname\u001b[0m\u001b[0;34m\u001b[0m\u001b[0;34m\u001b[0m\u001b[0m\n",
            "\u001b[0;32m/usr/local/lib/python3.6/dist-packages/pandas/io/parsers.py\u001b[0m in \u001b[0;36m_read\u001b[0;34m(filepath_or_buffer, kwds)\u001b[0m\n\u001b[1;32m    453\u001b[0m \u001b[0;34m\u001b[0m\u001b[0m\n\u001b[1;32m    454\u001b[0m     \u001b[0;32mtry\u001b[0m\u001b[0;34m:\u001b[0m\u001b[0;34m\u001b[0m\u001b[0;34m\u001b[0m\u001b[0m\n\u001b[0;32m--> 455\u001b[0;31m         \u001b[0mdata\u001b[0m \u001b[0;34m=\u001b[0m \u001b[0mparser\u001b[0m\u001b[0;34m.\u001b[0m\u001b[0mread\u001b[0m\u001b[0;34m(\u001b[0m\u001b[0mnrows\u001b[0m\u001b[0;34m)\u001b[0m\u001b[0;34m\u001b[0m\u001b[0;34m\u001b[0m\u001b[0m\n\u001b[0m\u001b[1;32m    456\u001b[0m     \u001b[0;32mfinally\u001b[0m\u001b[0;34m:\u001b[0m\u001b[0;34m\u001b[0m\u001b[0;34m\u001b[0m\u001b[0m\n\u001b[1;32m    457\u001b[0m         \u001b[0mparser\u001b[0m\u001b[0;34m.\u001b[0m\u001b[0mclose\u001b[0m\u001b[0;34m(\u001b[0m\u001b[0;34m)\u001b[0m\u001b[0;34m\u001b[0m\u001b[0;34m\u001b[0m\u001b[0m\n",
            "\u001b[0;32m/usr/local/lib/python3.6/dist-packages/pandas/io/parsers.py\u001b[0m in \u001b[0;36mread\u001b[0;34m(self, nrows)\u001b[0m\n\u001b[1;32m   1067\u001b[0m                 \u001b[0;32mraise\u001b[0m \u001b[0mValueError\u001b[0m\u001b[0;34m(\u001b[0m\u001b[0;34m'skipfooter not supported for iteration'\u001b[0m\u001b[0;34m)\u001b[0m\u001b[0;34m\u001b[0m\u001b[0;34m\u001b[0m\u001b[0m\n\u001b[1;32m   1068\u001b[0m \u001b[0;34m\u001b[0m\u001b[0m\n\u001b[0;32m-> 1069\u001b[0;31m         \u001b[0mret\u001b[0m \u001b[0;34m=\u001b[0m \u001b[0mself\u001b[0m\u001b[0;34m.\u001b[0m\u001b[0m_engine\u001b[0m\u001b[0;34m.\u001b[0m\u001b[0mread\u001b[0m\u001b[0;34m(\u001b[0m\u001b[0mnrows\u001b[0m\u001b[0;34m)\u001b[0m\u001b[0;34m\u001b[0m\u001b[0;34m\u001b[0m\u001b[0m\n\u001b[0m\u001b[1;32m   1070\u001b[0m \u001b[0;34m\u001b[0m\u001b[0m\n\u001b[1;32m   1071\u001b[0m         \u001b[0;32mif\u001b[0m \u001b[0mself\u001b[0m\u001b[0;34m.\u001b[0m\u001b[0moptions\u001b[0m\u001b[0;34m.\u001b[0m\u001b[0mget\u001b[0m\u001b[0;34m(\u001b[0m\u001b[0;34m'as_recarray'\u001b[0m\u001b[0;34m)\u001b[0m\u001b[0;34m:\u001b[0m\u001b[0;34m\u001b[0m\u001b[0;34m\u001b[0m\u001b[0m\n",
            "\u001b[0;32m/usr/local/lib/python3.6/dist-packages/pandas/io/parsers.py\u001b[0m in \u001b[0;36mread\u001b[0;34m(self, nrows)\u001b[0m\n\u001b[1;32m   1837\u001b[0m     \u001b[0;32mdef\u001b[0m \u001b[0mread\u001b[0m\u001b[0;34m(\u001b[0m\u001b[0mself\u001b[0m\u001b[0;34m,\u001b[0m \u001b[0mnrows\u001b[0m\u001b[0;34m=\u001b[0m\u001b[0;32mNone\u001b[0m\u001b[0;34m)\u001b[0m\u001b[0;34m:\u001b[0m\u001b[0;34m\u001b[0m\u001b[0;34m\u001b[0m\u001b[0m\n\u001b[1;32m   1838\u001b[0m         \u001b[0;32mtry\u001b[0m\u001b[0;34m:\u001b[0m\u001b[0;34m\u001b[0m\u001b[0;34m\u001b[0m\u001b[0m\n\u001b[0;32m-> 1839\u001b[0;31m             \u001b[0mdata\u001b[0m \u001b[0;34m=\u001b[0m \u001b[0mself\u001b[0m\u001b[0;34m.\u001b[0m\u001b[0m_reader\u001b[0m\u001b[0;34m.\u001b[0m\u001b[0mread\u001b[0m\u001b[0;34m(\u001b[0m\u001b[0mnrows\u001b[0m\u001b[0;34m)\u001b[0m\u001b[0;34m\u001b[0m\u001b[0;34m\u001b[0m\u001b[0m\n\u001b[0m\u001b[1;32m   1840\u001b[0m         \u001b[0;32mexcept\u001b[0m \u001b[0mStopIteration\u001b[0m\u001b[0;34m:\u001b[0m\u001b[0;34m\u001b[0m\u001b[0;34m\u001b[0m\u001b[0m\n\u001b[1;32m   1841\u001b[0m             \u001b[0;32mif\u001b[0m \u001b[0mself\u001b[0m\u001b[0;34m.\u001b[0m\u001b[0m_first_chunk\u001b[0m\u001b[0;34m:\u001b[0m\u001b[0;34m\u001b[0m\u001b[0;34m\u001b[0m\u001b[0m\n",
            "\u001b[0;32mpandas/_libs/parsers.pyx\u001b[0m in \u001b[0;36mpandas._libs.parsers.TextReader.read\u001b[0;34m()\u001b[0m\n",
            "\u001b[0;32mpandas/_libs/parsers.pyx\u001b[0m in \u001b[0;36mpandas._libs.parsers.TextReader._read_low_memory\u001b[0;34m()\u001b[0m\n",
            "\u001b[0;32mpandas/_libs/parsers.pyx\u001b[0m in \u001b[0;36mpandas._libs.parsers.TextReader._read_rows\u001b[0;34m()\u001b[0m\n",
            "\u001b[0;32mpandas/_libs/parsers.pyx\u001b[0m in \u001b[0;36mpandas._libs.parsers.TextReader._tokenize_rows\u001b[0;34m()\u001b[0m\n",
            "\u001b[0;32mpandas/_libs/parsers.pyx\u001b[0m in \u001b[0;36mpandas._libs.parsers.raise_parser_error\u001b[0;34m()\u001b[0m\n",
            "\u001b[0;31mParserError\u001b[0m: Error tokenizing data. C error: Expected 5 fields in line 3, saw 6\n"
          ]
        }
      ]
    },
    {
      "metadata": {
        "id": "e-PeTIua2gON",
        "colab_type": "text"
      },
      "cell_type": "markdown",
      "source": [
        "La base no puede ser cargada ya que tiene una estructura irregular, es necesario el cargue linea  a linea:"
      ]
    },
    {
      "metadata": {
        "id": "jFkYjc_mYJVf",
        "colab_type": "code",
        "colab": {}
      },
      "cell_type": "code",
      "source": [
        "f = open('BASE_MOVIMIENTOS.txt')\n",
        "contents = f.read()\n",
        "lines = []\n",
        "file_as_list = contents.splitlines()\n",
        "for line in file_as_list:\n",
        "    lines.append(line)"
      ],
      "execution_count": 0,
      "outputs": []
    },
    {
      "metadata": {
        "id": "wg2ntweCYJVj",
        "colab_type": "code",
        "outputId": "fb1b7785-5ed7-478a-8211-eb482b41da0e",
        "colab": {
          "base_uri": "https://localhost:8080/",
          "height": 287
        }
      },
      "cell_type": "code",
      "source": [
        "#Primera linea\n",
        "lines[0].split()\n"
      ],
      "execution_count": 47,
      "outputs": [
        {
          "output_type": "execute_result",
          "data": {
            "text/plain": [
              "['ID',\n",
              " 'FECHA_INFORMACION',\n",
              " 'SALDO_AHORROS',\n",
              " 'SALDO_FONDOS',\n",
              " 'SALDO_CREDITO1',\n",
              " 'SALDO_CREDITO2',\n",
              " 'SALDO_TARJETA',\n",
              " 'MONTO_COMPRAS1',\n",
              " 'MONTO_CAJERO1',\n",
              " 'MONTO_COMPRAS2',\n",
              " 'MONTO_CAJERO2',\n",
              " 'MONTO_ABONOS_NOMINA',\n",
              " 'INDICADOR_MORA',\n",
              " 'SALDO_ACTIVO',\n",
              " 'SALDO_PASIVO']"
            ]
          },
          "metadata": {
            "tags": []
          },
          "execution_count": 47
        }
      ]
    },
    {
      "metadata": {
        "id": "BRdb0MByYJVl",
        "colab_type": "code",
        "outputId": "3df677cf-6d88-4c31-f9a3-8c47d523ef4a",
        "colab": {
          "base_uri": "https://localhost:8080/",
          "height": 323
        }
      },
      "cell_type": "code",
      "source": [
        "#Segunda linea\n",
        "lines[1].split()"
      ],
      "execution_count": 48,
      "outputs": [
        {
          "output_type": "execute_result",
          "data": {
            "text/plain": [
              "['00003',\n",
              " '01JUL2017:00:00:00',\n",
              " '3340',\n",
              " '0,00',\n",
              " '$',\n",
              " '876.047,06',\n",
              " '$',\n",
              " '0,00',\n",
              " '0',\n",
              " '0',\n",
              " '0',\n",
              " '0',\n",
              " '0',\n",
              " '0',\n",
              " '0',\n",
              " '876047,06',\n",
              " '3340']"
            ]
          },
          "metadata": {
            "tags": []
          },
          "execution_count": 48
        }
      ]
    },
    {
      "metadata": {
        "id": "XjXdYPX82-ra",
        "colab_type": "text"
      },
      "cell_type": "markdown",
      "source": [
        "Se evidencia que al realizar el SPLIT de cada linea, se tienen 2 datos mas por el formato de moneda '$'."
      ]
    },
    {
      "metadata": {
        "id": "wgr5I_DYYJVo",
        "colab_type": "code",
        "colab": {}
      },
      "cell_type": "code",
      "source": [
        "#Creamos la base con las columnas adicionales\n",
        "movs = pd.DataFrame(columns = ['ID', 'FECHA_INFORMACION', 'SALDO_AHORROS', 'SALDO_FONDOS', 'pesos', 'SALDO_CREDITO1',\n",
        "                            'pesos2', 'SALDO_CREDITO2', 'SALDO_TARJETA', 'MONTO_COMPRAS1', 'MONTO_CAJERO1', 'MONTO_COMPRAS2',\n",
        "                             'MONTO_CAJERO2', 'MONTO_ABONOS_NOMINA', 'INDICADOR_MORA', 'SALDO_ACTIVO', 'SALDO_PASIVO'] )"
      ],
      "execution_count": 0,
      "outputs": []
    },
    {
      "metadata": {
        "id": "mP7HqLdeYJVs",
        "colab_type": "code",
        "outputId": "66a4a62d-414c-4bdc-841b-9343460fdcfc",
        "colab": {
          "base_uri": "https://localhost:8080/",
          "height": 35
        }
      },
      "cell_type": "code",
      "source": [
        "#Cargue de la base linea a linea\n",
        "import datetime\n",
        "a = datetime.datetime.now()\n",
        "for i in range(1,len(lines)):\n",
        "    movs.loc[i-1] = lines[i].split()\n",
        "\n",
        "b = datetime.datetime.now()\n",
        "delta = b - a\n",
        "print(delta)"
      ],
      "execution_count": 50,
      "outputs": [
        {
          "output_type": "stream",
          "text": [
            "0:08:27.991210\n"
          ],
          "name": "stdout"
        }
      ]
    },
    {
      "metadata": {
        "id": "ZMmewRo5YJVt",
        "colab_type": "code",
        "outputId": "e687209b-272d-4ca3-b875-36aa3efe4b9c",
        "colab": {
          "base_uri": "https://localhost:8080/",
          "height": 224
        }
      },
      "cell_type": "code",
      "source": [
        "#Primeros registros de la base de movimientos\n",
        "movs.head()"
      ],
      "execution_count": 51,
      "outputs": [
        {
          "output_type": "execute_result",
          "data": {
            "text/html": [
              "<div>\n",
              "<style scoped>\n",
              "    .dataframe tbody tr th:only-of-type {\n",
              "        vertical-align: middle;\n",
              "    }\n",
              "\n",
              "    .dataframe tbody tr th {\n",
              "        vertical-align: top;\n",
              "    }\n",
              "\n",
              "    .dataframe thead th {\n",
              "        text-align: right;\n",
              "    }\n",
              "</style>\n",
              "<table border=\"1\" class=\"dataframe\">\n",
              "  <thead>\n",
              "    <tr style=\"text-align: right;\">\n",
              "      <th></th>\n",
              "      <th>ID</th>\n",
              "      <th>FECHA_INFORMACION</th>\n",
              "      <th>SALDO_AHORROS</th>\n",
              "      <th>SALDO_FONDOS</th>\n",
              "      <th>pesos</th>\n",
              "      <th>SALDO_CREDITO1</th>\n",
              "      <th>pesos2</th>\n",
              "      <th>SALDO_CREDITO2</th>\n",
              "      <th>SALDO_TARJETA</th>\n",
              "      <th>MONTO_COMPRAS1</th>\n",
              "      <th>MONTO_CAJERO1</th>\n",
              "      <th>MONTO_COMPRAS2</th>\n",
              "      <th>MONTO_CAJERO2</th>\n",
              "      <th>MONTO_ABONOS_NOMINA</th>\n",
              "      <th>INDICADOR_MORA</th>\n",
              "      <th>SALDO_ACTIVO</th>\n",
              "      <th>SALDO_PASIVO</th>\n",
              "    </tr>\n",
              "  </thead>\n",
              "  <tbody>\n",
              "    <tr>\n",
              "      <th>0</th>\n",
              "      <td>00003</td>\n",
              "      <td>01JUL2017:00:00:00</td>\n",
              "      <td>3340</td>\n",
              "      <td>0,00</td>\n",
              "      <td>$</td>\n",
              "      <td>876.047,06</td>\n",
              "      <td>$</td>\n",
              "      <td>0,00</td>\n",
              "      <td>0</td>\n",
              "      <td>0</td>\n",
              "      <td>0</td>\n",
              "      <td>0</td>\n",
              "      <td>0</td>\n",
              "      <td>0</td>\n",
              "      <td>0</td>\n",
              "      <td>876047,06</td>\n",
              "      <td>3340</td>\n",
              "    </tr>\n",
              "    <tr>\n",
              "      <th>1</th>\n",
              "      <td>00171</td>\n",
              "      <td>01MAY2017:00:00:00</td>\n",
              "      <td>1.07013e+06</td>\n",
              "      <td>0,00</td>\n",
              "      <td>$</td>\n",
              "      <td>7.828.500,12</td>\n",
              "      <td>$</td>\n",
              "      <td>0,00</td>\n",
              "      <td>0</td>\n",
              "      <td>0</td>\n",
              "      <td>0</td>\n",
              "      <td>0</td>\n",
              "      <td>460000</td>\n",
              "      <td>897220</td>\n",
              "      <td>0</td>\n",
              "      <td>7828500,12</td>\n",
              "      <td>1070133,18</td>\n",
              "    </tr>\n",
              "    <tr>\n",
              "      <th>2</th>\n",
              "      <td>00313</td>\n",
              "      <td>01OCT2017:00:00:00</td>\n",
              "      <td>0</td>\n",
              "      <td>0,00</td>\n",
              "      <td>$</td>\n",
              "      <td>0,00</td>\n",
              "      <td>$</td>\n",
              "      <td>0,00</td>\n",
              "      <td>0</td>\n",
              "      <td>0</td>\n",
              "      <td>0</td>\n",
              "      <td>0</td>\n",
              "      <td>0</td>\n",
              "      <td>0</td>\n",
              "      <td>0</td>\n",
              "      <td>0</td>\n",
              "      <td>0</td>\n",
              "    </tr>\n",
              "    <tr>\n",
              "      <th>3</th>\n",
              "      <td>00644</td>\n",
              "      <td>01MAY2017:00:00:00</td>\n",
              "      <td>2204.88</td>\n",
              "      <td>0,00</td>\n",
              "      <td>$</td>\n",
              "      <td>8.863.156,75</td>\n",
              "      <td>$</td>\n",
              "      <td>0,00</td>\n",
              "      <td>2.15317e+06</td>\n",
              "      <td>359023</td>\n",
              "      <td>0</td>\n",
              "      <td>8000</td>\n",
              "      <td>160000</td>\n",
              "      <td>748000</td>\n",
              "      <td>0</td>\n",
              "      <td>11016329,89</td>\n",
              "      <td>2204,88</td>\n",
              "    </tr>\n",
              "    <tr>\n",
              "      <th>4</th>\n",
              "      <td>01445</td>\n",
              "      <td>01DEC2016:00:00:00</td>\n",
              "      <td>692926</td>\n",
              "      <td>0,00</td>\n",
              "      <td>$</td>\n",
              "      <td>0,00</td>\n",
              "      <td>$</td>\n",
              "      <td>0,00</td>\n",
              "      <td>0</td>\n",
              "      <td>0</td>\n",
              "      <td>0</td>\n",
              "      <td>0</td>\n",
              "      <td>0</td>\n",
              "      <td>606720</td>\n",
              "      <td>0</td>\n",
              "      <td>0</td>\n",
              "      <td>692926,32</td>\n",
              "    </tr>\n",
              "  </tbody>\n",
              "</table>\n",
              "</div>"
            ],
            "text/plain": [
              "      ID   FECHA_INFORMACION SALDO_AHORROS SALDO_FONDOS pesos SALDO_CREDITO1  \\\n",
              "0  00003  01JUL2017:00:00:00          3340         0,00     $     876.047,06   \n",
              "1  00171  01MAY2017:00:00:00   1.07013e+06         0,00     $   7.828.500,12   \n",
              "2  00313  01OCT2017:00:00:00             0         0,00     $           0,00   \n",
              "3  00644  01MAY2017:00:00:00       2204.88         0,00     $   8.863.156,75   \n",
              "4  01445  01DEC2016:00:00:00        692926         0,00     $           0,00   \n",
              "\n",
              "  pesos2 SALDO_CREDITO2 SALDO_TARJETA MONTO_COMPRAS1 MONTO_CAJERO1  \\\n",
              "0      $           0,00             0              0             0   \n",
              "1      $           0,00             0              0             0   \n",
              "2      $           0,00             0              0             0   \n",
              "3      $           0,00   2.15317e+06         359023             0   \n",
              "4      $           0,00             0              0             0   \n",
              "\n",
              "  MONTO_COMPRAS2 MONTO_CAJERO2 MONTO_ABONOS_NOMINA INDICADOR_MORA  \\\n",
              "0              0             0                   0              0   \n",
              "1              0        460000              897220              0   \n",
              "2              0             0                   0              0   \n",
              "3           8000        160000              748000              0   \n",
              "4              0             0              606720              0   \n",
              "\n",
              "  SALDO_ACTIVO SALDO_PASIVO  \n",
              "0    876047,06         3340  \n",
              "1   7828500,12   1070133,18  \n",
              "2            0            0  \n",
              "3  11016329,89      2204,88  \n",
              "4            0    692926,32  "
            ]
          },
          "metadata": {
            "tags": []
          },
          "execution_count": 51
        }
      ]
    },
    {
      "metadata": {
        "id": "R-BJ226F-zS_",
        "colab_type": "code",
        "outputId": "53d5a079-ce07-4f4f-afb8-0fd29da64b1c",
        "colab": {
          "base_uri": "https://localhost:8080/",
          "height": 413
        }
      },
      "cell_type": "code",
      "source": [
        "movs.info()"
      ],
      "execution_count": 52,
      "outputs": [
        {
          "output_type": "stream",
          "text": [
            "<class 'pandas.core.frame.DataFrame'>\n",
            "Int64Index: 31440 entries, 0 to 31439\n",
            "Data columns (total 17 columns):\n",
            "ID                     31440 non-null object\n",
            "FECHA_INFORMACION      31440 non-null object\n",
            "SALDO_AHORROS          31440 non-null object\n",
            "SALDO_FONDOS           31440 non-null object\n",
            "pesos                  31440 non-null object\n",
            "SALDO_CREDITO1         31440 non-null object\n",
            "pesos2                 31440 non-null object\n",
            "SALDO_CREDITO2         31440 non-null object\n",
            "SALDO_TARJETA          31440 non-null object\n",
            "MONTO_COMPRAS1         31440 non-null object\n",
            "MONTO_CAJERO1          31440 non-null object\n",
            "MONTO_COMPRAS2         31440 non-null object\n",
            "MONTO_CAJERO2          31440 non-null object\n",
            "MONTO_ABONOS_NOMINA    31440 non-null object\n",
            "INDICADOR_MORA         31440 non-null object\n",
            "SALDO_ACTIVO           31440 non-null object\n",
            "SALDO_PASIVO           31440 non-null object\n",
            "dtypes: object(17)\n",
            "memory usage: 4.3+ MB\n"
          ],
          "name": "stdout"
        }
      ]
    },
    {
      "metadata": {
        "id": "XbWcCFpy4EcL",
        "colab_type": "text"
      },
      "cell_type": "markdown",
      "source": [
        "###TRANSFORMACION DE VARIABLES"
      ]
    },
    {
      "metadata": {
        "id": "k-W7px8M-2i6",
        "colab_type": "code",
        "colab": {}
      },
      "cell_type": "code",
      "source": [
        "#Convertir las variables ID e INDICADOR MORA a numericas \n",
        "movs['ID'] = movs ['ID'].convert_objects(convert_numeric=True)\n",
        "movs['INDICADOR_MORA'] = movs ['INDICADOR_MORA'].convert_objects(convert_numeric=True)\n",
        "# movs.dtypes"
      ],
      "execution_count": 0,
      "outputs": []
    },
    {
      "metadata": {
        "id": "mDzfTqrF4ONn",
        "colab_type": "code",
        "colab": {
          "base_uri": "https://localhost:8080/",
          "height": 413
        },
        "outputId": "7778ce0b-30ab-4919-bde3-05199b9cfce1"
      },
      "cell_type": "code",
      "source": [
        "movs.info()"
      ],
      "execution_count": 55,
      "outputs": [
        {
          "output_type": "stream",
          "text": [
            "<class 'pandas.core.frame.DataFrame'>\n",
            "Int64Index: 31440 entries, 0 to 31439\n",
            "Data columns (total 17 columns):\n",
            "ID                     31440 non-null int64\n",
            "FECHA_INFORMACION      31440 non-null object\n",
            "SALDO_AHORROS          31440 non-null object\n",
            "SALDO_FONDOS           31440 non-null object\n",
            "pesos                  31440 non-null object\n",
            "SALDO_CREDITO1         31440 non-null object\n",
            "pesos2                 31440 non-null object\n",
            "SALDO_CREDITO2         31440 non-null object\n",
            "SALDO_TARJETA          31440 non-null object\n",
            "MONTO_COMPRAS1         31440 non-null object\n",
            "MONTO_CAJERO1          31440 non-null object\n",
            "MONTO_COMPRAS2         31440 non-null object\n",
            "MONTO_CAJERO2          31440 non-null object\n",
            "MONTO_ABONOS_NOMINA    31440 non-null object\n",
            "INDICADOR_MORA         31440 non-null int64\n",
            "SALDO_ACTIVO           31440 non-null object\n",
            "SALDO_PASIVO           31440 non-null object\n",
            "dtypes: int64(2), object(15)\n",
            "memory usage: 4.3+ MB\n"
          ],
          "name": "stdout"
        }
      ]
    },
    {
      "metadata": {
        "id": "fAJD9Vm6YJV2",
        "colab_type": "code",
        "colab": {}
      },
      "cell_type": "code",
      "source": [
        "#Eliminar las columnas innecesarias\n",
        "movs = movs.drop(columns=['pesos', 'pesos2'])"
      ],
      "execution_count": 0,
      "outputs": []
    },
    {
      "metadata": {
        "id": "SMSeKfnvYJV3",
        "colab_type": "code",
        "outputId": "6976190f-8d91-46d8-bd15-cf381b63481f",
        "colab": {
          "base_uri": "https://localhost:8080/",
          "height": 224
        }
      },
      "cell_type": "code",
      "source": [
        "# movs[['SALDO_AHORROS','SALDO_FONDOS']].astype('float64')\n",
        "movs[['SALDO_AHORROS', 'SALDO_FONDOS',\n",
        "       'SALDO_CREDITO1', 'SALDO_CREDITO2', 'SALDO_TARJETA', 'MONTO_COMPRAS1',\n",
        "       'MONTO_CAJERO1', 'MONTO_COMPRAS2', 'MONTO_CAJERO2',\n",
        "       'MONTO_ABONOS_NOMINA']].apply(pd.to_numeric, errors='coerce').head()"
      ],
      "execution_count": 57,
      "outputs": [
        {
          "output_type": "execute_result",
          "data": {
            "text/html": [
              "<div>\n",
              "<style scoped>\n",
              "    .dataframe tbody tr th:only-of-type {\n",
              "        vertical-align: middle;\n",
              "    }\n",
              "\n",
              "    .dataframe tbody tr th {\n",
              "        vertical-align: top;\n",
              "    }\n",
              "\n",
              "    .dataframe thead th {\n",
              "        text-align: right;\n",
              "    }\n",
              "</style>\n",
              "<table border=\"1\" class=\"dataframe\">\n",
              "  <thead>\n",
              "    <tr style=\"text-align: right;\">\n",
              "      <th></th>\n",
              "      <th>SALDO_AHORROS</th>\n",
              "      <th>SALDO_FONDOS</th>\n",
              "      <th>SALDO_CREDITO1</th>\n",
              "      <th>SALDO_CREDITO2</th>\n",
              "      <th>SALDO_TARJETA</th>\n",
              "      <th>MONTO_COMPRAS1</th>\n",
              "      <th>MONTO_CAJERO1</th>\n",
              "      <th>MONTO_COMPRAS2</th>\n",
              "      <th>MONTO_CAJERO2</th>\n",
              "      <th>MONTO_ABONOS_NOMINA</th>\n",
              "    </tr>\n",
              "  </thead>\n",
              "  <tbody>\n",
              "    <tr>\n",
              "      <th>0</th>\n",
              "      <td>3340.00</td>\n",
              "      <td>NaN</td>\n",
              "      <td>NaN</td>\n",
              "      <td>NaN</td>\n",
              "      <td>0.0</td>\n",
              "      <td>0.0</td>\n",
              "      <td>0.0</td>\n",
              "      <td>0.0</td>\n",
              "      <td>0.0</td>\n",
              "      <td>0.0</td>\n",
              "    </tr>\n",
              "    <tr>\n",
              "      <th>1</th>\n",
              "      <td>1070130.00</td>\n",
              "      <td>NaN</td>\n",
              "      <td>NaN</td>\n",
              "      <td>NaN</td>\n",
              "      <td>0.0</td>\n",
              "      <td>0.0</td>\n",
              "      <td>0.0</td>\n",
              "      <td>0.0</td>\n",
              "      <td>460000.0</td>\n",
              "      <td>897220.0</td>\n",
              "    </tr>\n",
              "    <tr>\n",
              "      <th>2</th>\n",
              "      <td>0.00</td>\n",
              "      <td>NaN</td>\n",
              "      <td>NaN</td>\n",
              "      <td>NaN</td>\n",
              "      <td>0.0</td>\n",
              "      <td>0.0</td>\n",
              "      <td>0.0</td>\n",
              "      <td>0.0</td>\n",
              "      <td>0.0</td>\n",
              "      <td>0.0</td>\n",
              "    </tr>\n",
              "    <tr>\n",
              "      <th>3</th>\n",
              "      <td>2204.88</td>\n",
              "      <td>NaN</td>\n",
              "      <td>NaN</td>\n",
              "      <td>NaN</td>\n",
              "      <td>2153170.0</td>\n",
              "      <td>359023.0</td>\n",
              "      <td>0.0</td>\n",
              "      <td>8000.0</td>\n",
              "      <td>160000.0</td>\n",
              "      <td>748000.0</td>\n",
              "    </tr>\n",
              "    <tr>\n",
              "      <th>4</th>\n",
              "      <td>692926.00</td>\n",
              "      <td>NaN</td>\n",
              "      <td>NaN</td>\n",
              "      <td>NaN</td>\n",
              "      <td>0.0</td>\n",
              "      <td>0.0</td>\n",
              "      <td>0.0</td>\n",
              "      <td>0.0</td>\n",
              "      <td>0.0</td>\n",
              "      <td>606720.0</td>\n",
              "    </tr>\n",
              "  </tbody>\n",
              "</table>\n",
              "</div>"
            ],
            "text/plain": [
              "   SALDO_AHORROS  SALDO_FONDOS  SALDO_CREDITO1  SALDO_CREDITO2  SALDO_TARJETA  \\\n",
              "0        3340.00           NaN             NaN             NaN            0.0   \n",
              "1     1070130.00           NaN             NaN             NaN            0.0   \n",
              "2           0.00           NaN             NaN             NaN            0.0   \n",
              "3        2204.88           NaN             NaN             NaN      2153170.0   \n",
              "4      692926.00           NaN             NaN             NaN            0.0   \n",
              "\n",
              "   MONTO_COMPRAS1  MONTO_CAJERO1  MONTO_COMPRAS2  MONTO_CAJERO2  \\\n",
              "0             0.0            0.0             0.0            0.0   \n",
              "1             0.0            0.0             0.0       460000.0   \n",
              "2             0.0            0.0             0.0            0.0   \n",
              "3        359023.0            0.0          8000.0       160000.0   \n",
              "4             0.0            0.0             0.0            0.0   \n",
              "\n",
              "   MONTO_ABONOS_NOMINA  \n",
              "0                  0.0  \n",
              "1             897220.0  \n",
              "2                  0.0  \n",
              "3             748000.0  \n",
              "4             606720.0  "
            ]
          },
          "metadata": {
            "tags": []
          },
          "execution_count": 57
        }
      ]
    },
    {
      "metadata": {
        "id": "jvYYTaqZ33Fz",
        "colab_type": "text"
      },
      "cell_type": "markdown",
      "source": [
        "Debido a que hay variables con formatos irregulares, al realizar la transformación se generan NaN. Es necesario corregir los elementos erroneos para la correcta transformación."
      ]
    },
    {
      "metadata": {
        "id": "BJdUA5oAV3Y3",
        "colab_type": "code",
        "colab": {}
      },
      "cell_type": "code",
      "source": [
        "#CORRECCIÓN DE CARACTERES ERRONEOS\n",
        "movs['SALDO_CREDITO1'] = movs['SALDO_CREDITO1'].str.replace('.','')\n",
        "movs['SALDO_CREDITO1'] = movs['SALDO_CREDITO1'].str.replace(',','.')\n",
        "\n",
        "movs['SALDO_FONDOS'] = movs['SALDO_FONDOS'].str.replace(',','.')\n",
        "\n",
        "movs['SALDO_CREDITO2'] = movs['SALDO_CREDITO2'].str.replace('.','')\n",
        "movs['SALDO_CREDITO2'] = movs['SALDO_CREDITO2'].str.replace(',','.')\n",
        "\n",
        "movs['SALDO_ACTIVO'] = movs['SALDO_ACTIVO'].str.replace(',','.')\n",
        "\n",
        "movs['SALDO_PASIVO'] = movs['SALDO_PASIVO'].str.replace(',','.')"
      ],
      "execution_count": 0,
      "outputs": []
    },
    {
      "metadata": {
        "id": "6Th31XPiV4l8",
        "colab_type": "code",
        "colab": {}
      },
      "cell_type": "code",
      "source": [
        "#TRANSFORMACIÓN DE VARIABLES A NUMERICAS\n",
        "movs[['SALDO_AHORROS', 'SALDO_FONDOS','SALDO_CREDITO1', 'SALDO_CREDITO2', 'SALDO_TARJETA', 'MONTO_COMPRAS1',\n",
        "       'MONTO_CAJERO1', 'MONTO_COMPRAS2', 'MONTO_CAJERO2', 'MONTO_ABONOS_NOMINA','SALDO_ACTIVO','SALDO_PASIVO']] = movs[['SALDO_AHORROS', 'SALDO_FONDOS', \n",
        "                                                                                           'SALDO_CREDITO1', 'SALDO_CREDITO2', 'SALDO_TARJETA', 'MONTO_COMPRAS1',\n",
        "                                                                                           'MONTO_CAJERO1', 'MONTO_COMPRAS2', 'MONTO_CAJERO2',\n",
        "                                                                                           'MONTO_ABONOS_NOMINA','SALDO_ACTIVO','SALDO_PASIVO']].apply(pd.to_numeric)"
      ],
      "execution_count": 0,
      "outputs": []
    },
    {
      "metadata": {
        "id": "4XqpLB5lV9GL",
        "colab_type": "code",
        "outputId": "fd00aeda-6e9c-40fa-fcac-67ea58ae450f",
        "colab": {
          "base_uri": "https://localhost:8080/",
          "height": 224
        }
      },
      "cell_type": "code",
      "source": [
        "movs.head()"
      ],
      "execution_count": 65,
      "outputs": [
        {
          "output_type": "execute_result",
          "data": {
            "text/html": [
              "<div>\n",
              "<style scoped>\n",
              "    .dataframe tbody tr th:only-of-type {\n",
              "        vertical-align: middle;\n",
              "    }\n",
              "\n",
              "    .dataframe tbody tr th {\n",
              "        vertical-align: top;\n",
              "    }\n",
              "\n",
              "    .dataframe thead th {\n",
              "        text-align: right;\n",
              "    }\n",
              "</style>\n",
              "<table border=\"1\" class=\"dataframe\">\n",
              "  <thead>\n",
              "    <tr style=\"text-align: right;\">\n",
              "      <th></th>\n",
              "      <th>ID</th>\n",
              "      <th>FECHA_INFORMACION</th>\n",
              "      <th>SALDO_AHORROS</th>\n",
              "      <th>SALDO_FONDOS</th>\n",
              "      <th>SALDO_CREDITO1</th>\n",
              "      <th>SALDO_CREDITO2</th>\n",
              "      <th>SALDO_TARJETA</th>\n",
              "      <th>MONTO_COMPRAS1</th>\n",
              "      <th>MONTO_CAJERO1</th>\n",
              "      <th>MONTO_COMPRAS2</th>\n",
              "      <th>MONTO_CAJERO2</th>\n",
              "      <th>MONTO_ABONOS_NOMINA</th>\n",
              "      <th>INDICADOR_MORA</th>\n",
              "      <th>SALDO_ACTIVO</th>\n",
              "      <th>SALDO_PASIVO</th>\n",
              "    </tr>\n",
              "  </thead>\n",
              "  <tbody>\n",
              "    <tr>\n",
              "      <th>0</th>\n",
              "      <td>3</td>\n",
              "      <td>01JUL2017:00:00:00</td>\n",
              "      <td>3340.00</td>\n",
              "      <td>0.0</td>\n",
              "      <td>876047.06</td>\n",
              "      <td>0.0</td>\n",
              "      <td>0.0</td>\n",
              "      <td>0.0</td>\n",
              "      <td>0.0</td>\n",
              "      <td>0.0</td>\n",
              "      <td>0.0</td>\n",
              "      <td>0.0</td>\n",
              "      <td>0</td>\n",
              "      <td>876047.06</td>\n",
              "      <td>3340.00</td>\n",
              "    </tr>\n",
              "    <tr>\n",
              "      <th>1</th>\n",
              "      <td>171</td>\n",
              "      <td>01MAY2017:00:00:00</td>\n",
              "      <td>1070130.00</td>\n",
              "      <td>0.0</td>\n",
              "      <td>7828500.12</td>\n",
              "      <td>0.0</td>\n",
              "      <td>0.0</td>\n",
              "      <td>0.0</td>\n",
              "      <td>0.0</td>\n",
              "      <td>0.0</td>\n",
              "      <td>460000.0</td>\n",
              "      <td>897220.0</td>\n",
              "      <td>0</td>\n",
              "      <td>7828500.12</td>\n",
              "      <td>1070133.18</td>\n",
              "    </tr>\n",
              "    <tr>\n",
              "      <th>2</th>\n",
              "      <td>313</td>\n",
              "      <td>01OCT2017:00:00:00</td>\n",
              "      <td>0.00</td>\n",
              "      <td>0.0</td>\n",
              "      <td>0.00</td>\n",
              "      <td>0.0</td>\n",
              "      <td>0.0</td>\n",
              "      <td>0.0</td>\n",
              "      <td>0.0</td>\n",
              "      <td>0.0</td>\n",
              "      <td>0.0</td>\n",
              "      <td>0.0</td>\n",
              "      <td>0</td>\n",
              "      <td>0.00</td>\n",
              "      <td>0.00</td>\n",
              "    </tr>\n",
              "    <tr>\n",
              "      <th>3</th>\n",
              "      <td>644</td>\n",
              "      <td>01MAY2017:00:00:00</td>\n",
              "      <td>2204.88</td>\n",
              "      <td>0.0</td>\n",
              "      <td>8863156.75</td>\n",
              "      <td>0.0</td>\n",
              "      <td>2153170.0</td>\n",
              "      <td>359023.0</td>\n",
              "      <td>0.0</td>\n",
              "      <td>8000.0</td>\n",
              "      <td>160000.0</td>\n",
              "      <td>748000.0</td>\n",
              "      <td>0</td>\n",
              "      <td>11016329.89</td>\n",
              "      <td>2204.88</td>\n",
              "    </tr>\n",
              "    <tr>\n",
              "      <th>4</th>\n",
              "      <td>1445</td>\n",
              "      <td>01DEC2016:00:00:00</td>\n",
              "      <td>692926.00</td>\n",
              "      <td>0.0</td>\n",
              "      <td>0.00</td>\n",
              "      <td>0.0</td>\n",
              "      <td>0.0</td>\n",
              "      <td>0.0</td>\n",
              "      <td>0.0</td>\n",
              "      <td>0.0</td>\n",
              "      <td>0.0</td>\n",
              "      <td>606720.0</td>\n",
              "      <td>0</td>\n",
              "      <td>0.00</td>\n",
              "      <td>692926.32</td>\n",
              "    </tr>\n",
              "  </tbody>\n",
              "</table>\n",
              "</div>"
            ],
            "text/plain": [
              "     ID   FECHA_INFORMACION  SALDO_AHORROS  SALDO_FONDOS  SALDO_CREDITO1  \\\n",
              "0     3  01JUL2017:00:00:00        3340.00           0.0       876047.06   \n",
              "1   171  01MAY2017:00:00:00     1070130.00           0.0      7828500.12   \n",
              "2   313  01OCT2017:00:00:00           0.00           0.0            0.00   \n",
              "3   644  01MAY2017:00:00:00        2204.88           0.0      8863156.75   \n",
              "4  1445  01DEC2016:00:00:00      692926.00           0.0            0.00   \n",
              "\n",
              "   SALDO_CREDITO2  SALDO_TARJETA  MONTO_COMPRAS1  MONTO_CAJERO1  \\\n",
              "0             0.0            0.0             0.0            0.0   \n",
              "1             0.0            0.0             0.0            0.0   \n",
              "2             0.0            0.0             0.0            0.0   \n",
              "3             0.0      2153170.0        359023.0            0.0   \n",
              "4             0.0            0.0             0.0            0.0   \n",
              "\n",
              "   MONTO_COMPRAS2  MONTO_CAJERO2  MONTO_ABONOS_NOMINA  INDICADOR_MORA  \\\n",
              "0             0.0            0.0                  0.0               0   \n",
              "1             0.0       460000.0             897220.0               0   \n",
              "2             0.0            0.0                  0.0               0   \n",
              "3          8000.0       160000.0             748000.0               0   \n",
              "4             0.0            0.0             606720.0               0   \n",
              "\n",
              "   SALDO_ACTIVO  SALDO_PASIVO  \n",
              "0     876047.06       3340.00  \n",
              "1    7828500.12    1070133.18  \n",
              "2          0.00          0.00  \n",
              "3   11016329.89       2204.88  \n",
              "4          0.00     692926.32  "
            ]
          },
          "metadata": {
            "tags": []
          },
          "execution_count": 65
        }
      ]
    },
    {
      "metadata": {
        "id": "MU2Z-XFPV9nm",
        "colab_type": "code",
        "outputId": "b336fc18-e062-471d-a8bc-3f9454683863",
        "colab": {
          "base_uri": "https://localhost:8080/",
          "height": 305
        }
      },
      "cell_type": "code",
      "source": [
        "movs.isnull().sum()"
      ],
      "execution_count": 66,
      "outputs": [
        {
          "output_type": "execute_result",
          "data": {
            "text/plain": [
              "ID                     0\n",
              "FECHA_INFORMACION      0\n",
              "SALDO_AHORROS          0\n",
              "SALDO_FONDOS           0\n",
              "SALDO_CREDITO1         0\n",
              "SALDO_CREDITO2         0\n",
              "SALDO_TARJETA          0\n",
              "MONTO_COMPRAS1         0\n",
              "MONTO_CAJERO1          0\n",
              "MONTO_COMPRAS2         0\n",
              "MONTO_CAJERO2          0\n",
              "MONTO_ABONOS_NOMINA    0\n",
              "INDICADOR_MORA         0\n",
              "SALDO_ACTIVO           0\n",
              "SALDO_PASIVO           0\n",
              "dtype: int64"
            ]
          },
          "metadata": {
            "tags": []
          },
          "execution_count": 66
        }
      ]
    },
    {
      "metadata": {
        "id": "V3K8nyb4WUk5",
        "colab_type": "code",
        "outputId": "605baeee-187e-4153-8ce6-7a1c2faab8a6",
        "colab": {
          "base_uri": "https://localhost:8080/",
          "height": 308
        }
      },
      "cell_type": "code",
      "source": [
        "movs.describe()\n",
        "# movs.info()"
      ],
      "execution_count": 0,
      "outputs": [
        {
          "output_type": "execute_result",
          "data": {
            "text/html": [
              "<div>\n",
              "<style scoped>\n",
              "    .dataframe tbody tr th:only-of-type {\n",
              "        vertical-align: middle;\n",
              "    }\n",
              "\n",
              "    .dataframe tbody tr th {\n",
              "        vertical-align: top;\n",
              "    }\n",
              "\n",
              "    .dataframe thead th {\n",
              "        text-align: right;\n",
              "    }\n",
              "</style>\n",
              "<table border=\"1\" class=\"dataframe\">\n",
              "  <thead>\n",
              "    <tr style=\"text-align: right;\">\n",
              "      <th></th>\n",
              "      <th>ID</th>\n",
              "      <th>SALDO_AHORROS</th>\n",
              "      <th>SALDO_FONDOS</th>\n",
              "      <th>SALDO_CREDITO1</th>\n",
              "      <th>SALDO_CREDITO2</th>\n",
              "      <th>SALDO_TARJETA</th>\n",
              "      <th>MONTO_COMPRAS1</th>\n",
              "      <th>MONTO_CAJERO1</th>\n",
              "      <th>MONTO_COMPRAS2</th>\n",
              "      <th>MONTO_CAJERO2</th>\n",
              "      <th>MONTO_ABONOS_NOMINA</th>\n",
              "      <th>INDICADOR_MORA</th>\n",
              "      <th>SALDO_ACTIVO</th>\n",
              "      <th>SALDO_PASIVO</th>\n",
              "    </tr>\n",
              "  </thead>\n",
              "  <tbody>\n",
              "    <tr>\n",
              "      <th>count</th>\n",
              "      <td>31440.000000</td>\n",
              "      <td>3.144000e+04</td>\n",
              "      <td>3.144000e+04</td>\n",
              "      <td>3.144000e+04</td>\n",
              "      <td>3.144000e+04</td>\n",
              "      <td>3.144000e+04</td>\n",
              "      <td>3.144000e+04</td>\n",
              "      <td>3.144000e+04</td>\n",
              "      <td>3.144000e+04</td>\n",
              "      <td>3.144000e+04</td>\n",
              "      <td>3.144000e+04</td>\n",
              "      <td>31440.000000</td>\n",
              "      <td>3.144000e+04</td>\n",
              "      <td>3.144000e+04</td>\n",
              "    </tr>\n",
              "    <tr>\n",
              "      <th>mean</th>\n",
              "      <td>1245.013581</td>\n",
              "      <td>6.145143e+05</td>\n",
              "      <td>1.011476e+05</td>\n",
              "      <td>2.125163e+06</td>\n",
              "      <td>2.038797e+05</td>\n",
              "      <td>6.082164e+05</td>\n",
              "      <td>5.245179e+04</td>\n",
              "      <td>2.005084e+04</td>\n",
              "      <td>6.154962e+04</td>\n",
              "      <td>6.121321e+05</td>\n",
              "      <td>6.981118e+05</td>\n",
              "      <td>0.014377</td>\n",
              "      <td>2.937260e+06</td>\n",
              "      <td>7.315603e+05</td>\n",
              "    </tr>\n",
              "    <tr>\n",
              "      <th>std</th>\n",
              "      <td>719.758159</td>\n",
              "      <td>1.632780e+06</td>\n",
              "      <td>7.283073e+05</td>\n",
              "      <td>4.445635e+06</td>\n",
              "      <td>1.442148e+06</td>\n",
              "      <td>1.656331e+06</td>\n",
              "      <td>3.796909e+05</td>\n",
              "      <td>1.634780e+05</td>\n",
              "      <td>2.915263e+05</td>\n",
              "      <td>9.684137e+05</td>\n",
              "      <td>1.011727e+06</td>\n",
              "      <td>0.119039</td>\n",
              "      <td>4.840862e+06</td>\n",
              "      <td>1.785686e+06</td>\n",
              "    </tr>\n",
              "    <tr>\n",
              "      <th>min</th>\n",
              "      <td>1.000000</td>\n",
              "      <td>-1.738720e+03</td>\n",
              "      <td>0.000000e+00</td>\n",
              "      <td>0.000000e+00</td>\n",
              "      <td>0.000000e+00</td>\n",
              "      <td>0.000000e+00</td>\n",
              "      <td>0.000000e+00</td>\n",
              "      <td>0.000000e+00</td>\n",
              "      <td>0.000000e+00</td>\n",
              "      <td>0.000000e+00</td>\n",
              "      <td>0.000000e+00</td>\n",
              "      <td>0.000000</td>\n",
              "      <td>0.000000e+00</td>\n",
              "      <td>-1.225200e+02</td>\n",
              "    </tr>\n",
              "    <tr>\n",
              "      <th>25%</th>\n",
              "      <td>622.000000</td>\n",
              "      <td>3.425000e+02</td>\n",
              "      <td>0.000000e+00</td>\n",
              "      <td>0.000000e+00</td>\n",
              "      <td>0.000000e+00</td>\n",
              "      <td>0.000000e+00</td>\n",
              "      <td>0.000000e+00</td>\n",
              "      <td>0.000000e+00</td>\n",
              "      <td>0.000000e+00</td>\n",
              "      <td>0.000000e+00</td>\n",
              "      <td>0.000000e+00</td>\n",
              "      <td>0.000000</td>\n",
              "      <td>0.000000e+00</td>\n",
              "      <td>8.720000e+02</td>\n",
              "    </tr>\n",
              "    <tr>\n",
              "      <th>50%</th>\n",
              "      <td>1244.000000</td>\n",
              "      <td>7.545170e+04</td>\n",
              "      <td>0.000000e+00</td>\n",
              "      <td>0.000000e+00</td>\n",
              "      <td>0.000000e+00</td>\n",
              "      <td>0.000000e+00</td>\n",
              "      <td>0.000000e+00</td>\n",
              "      <td>0.000000e+00</td>\n",
              "      <td>0.000000e+00</td>\n",
              "      <td>0.000000e+00</td>\n",
              "      <td>0.000000e+00</td>\n",
              "      <td>0.000000</td>\n",
              "      <td>0.000000e+00</td>\n",
              "      <td>9.436170e+04</td>\n",
              "    </tr>\n",
              "    <tr>\n",
              "      <th>75%</th>\n",
              "      <td>1866.000000</td>\n",
              "      <td>4.480658e+05</td>\n",
              "      <td>0.000000e+00</td>\n",
              "      <td>1.342990e+06</td>\n",
              "      <td>0.000000e+00</td>\n",
              "      <td>1.914562e+05</td>\n",
              "      <td>0.000000e+00</td>\n",
              "      <td>0.000000e+00</td>\n",
              "      <td>0.000000e+00</td>\n",
              "      <td>1.050000e+06</td>\n",
              "      <td>1.202605e+06</td>\n",
              "      <td>0.000000</td>\n",
              "      <td>4.184343e+06</td>\n",
              "      <td>5.413268e+05</td>\n",
              "    </tr>\n",
              "    <tr>\n",
              "      <th>max</th>\n",
              "      <td>2500.000000</td>\n",
              "      <td>9.329870e+07</td>\n",
              "      <td>9.780793e+06</td>\n",
              "      <td>6.700000e+07</td>\n",
              "      <td>1.756400e+07</td>\n",
              "      <td>2.075380e+07</td>\n",
              "      <td>1.449950e+07</td>\n",
              "      <td>8.990000e+06</td>\n",
              "      <td>1.077210e+07</td>\n",
              "      <td>1.888000e+07</td>\n",
              "      <td>2.800310e+07</td>\n",
              "      <td>1.000000</td>\n",
              "      <td>6.965860e+07</td>\n",
              "      <td>9.329867e+07</td>\n",
              "    </tr>\n",
              "  </tbody>\n",
              "</table>\n",
              "</div>"
            ],
            "text/plain": [
              "                 ID  SALDO_AHORROS  SALDO_FONDOS  SALDO_CREDITO1  \\\n",
              "count  31440.000000   3.144000e+04  3.144000e+04    3.144000e+04   \n",
              "mean    1245.013581   6.145143e+05  1.011476e+05    2.125163e+06   \n",
              "std      719.758159   1.632780e+06  7.283073e+05    4.445635e+06   \n",
              "min        1.000000  -1.738720e+03  0.000000e+00    0.000000e+00   \n",
              "25%      622.000000   3.425000e+02  0.000000e+00    0.000000e+00   \n",
              "50%     1244.000000   7.545170e+04  0.000000e+00    0.000000e+00   \n",
              "75%     1866.000000   4.480658e+05  0.000000e+00    1.342990e+06   \n",
              "max     2500.000000   9.329870e+07  9.780793e+06    6.700000e+07   \n",
              "\n",
              "       SALDO_CREDITO2  SALDO_TARJETA  MONTO_COMPRAS1  MONTO_CAJERO1  \\\n",
              "count    3.144000e+04   3.144000e+04    3.144000e+04   3.144000e+04   \n",
              "mean     2.038797e+05   6.082164e+05    5.245179e+04   2.005084e+04   \n",
              "std      1.442148e+06   1.656331e+06    3.796909e+05   1.634780e+05   \n",
              "min      0.000000e+00   0.000000e+00    0.000000e+00   0.000000e+00   \n",
              "25%      0.000000e+00   0.000000e+00    0.000000e+00   0.000000e+00   \n",
              "50%      0.000000e+00   0.000000e+00    0.000000e+00   0.000000e+00   \n",
              "75%      0.000000e+00   1.914562e+05    0.000000e+00   0.000000e+00   \n",
              "max      1.756400e+07   2.075380e+07    1.449950e+07   8.990000e+06   \n",
              "\n",
              "       MONTO_COMPRAS2  MONTO_CAJERO2  MONTO_ABONOS_NOMINA  INDICADOR_MORA  \\\n",
              "count    3.144000e+04   3.144000e+04         3.144000e+04    31440.000000   \n",
              "mean     6.154962e+04   6.121321e+05         6.981118e+05        0.014377   \n",
              "std      2.915263e+05   9.684137e+05         1.011727e+06        0.119039   \n",
              "min      0.000000e+00   0.000000e+00         0.000000e+00        0.000000   \n",
              "25%      0.000000e+00   0.000000e+00         0.000000e+00        0.000000   \n",
              "50%      0.000000e+00   0.000000e+00         0.000000e+00        0.000000   \n",
              "75%      0.000000e+00   1.050000e+06         1.202605e+06        0.000000   \n",
              "max      1.077210e+07   1.888000e+07         2.800310e+07        1.000000   \n",
              "\n",
              "       SALDO_ACTIVO  SALDO_PASIVO  \n",
              "count  3.144000e+04  3.144000e+04  \n",
              "mean   2.937260e+06  7.315603e+05  \n",
              "std    4.840862e+06  1.785686e+06  \n",
              "min    0.000000e+00 -1.225200e+02  \n",
              "25%    0.000000e+00  8.720000e+02  \n",
              "50%    0.000000e+00  9.436170e+04  \n",
              "75%    4.184343e+06  5.413268e+05  \n",
              "max    6.965860e+07  9.329867e+07  "
            ]
          },
          "metadata": {
            "tags": []
          },
          "execution_count": 63
        }
      ]
    },
    {
      "metadata": {
        "id": "O83ukevl5D9i",
        "colab_type": "text"
      },
      "cell_type": "markdown",
      "source": [
        "**VARIABLE FECHA INFORMACIÓN**"
      ]
    },
    {
      "metadata": {
        "id": "DIM8li7zWWEp",
        "colab_type": "code",
        "outputId": "1a487b96-b724-4e4e-93d2-551d0b9c2dc9",
        "colab": {
          "base_uri": "https://localhost:8080/",
          "height": 107
        }
      },
      "cell_type": "code",
      "source": [
        "movs['FECHA_INFORMACION'].describe()"
      ],
      "execution_count": 67,
      "outputs": [
        {
          "output_type": "execute_result",
          "data": {
            "text/plain": [
              "count                  31440\n",
              "unique                    13\n",
              "top       01DEC2016:00:00:00\n",
              "freq                    2500\n",
              "Name: FECHA_INFORMACION, dtype: object"
            ]
          },
          "metadata": {
            "tags": []
          },
          "execution_count": 67
        }
      ]
    },
    {
      "metadata": {
        "id": "n6nZ6GCEWYIG",
        "colab_type": "code",
        "outputId": "000bec6d-0b0c-4dc5-d33f-686d549f1f27",
        "colab": {
          "base_uri": "https://localhost:8080/",
          "height": 197
        }
      },
      "cell_type": "code",
      "source": [
        "random.sample(set(movs['FECHA_INFORMACION']), 10)"
      ],
      "execution_count": 68,
      "outputs": [
        {
          "output_type": "execute_result",
          "data": {
            "text/plain": [
              "['01JUL2017:00:00:00',\n",
              " '01MAR2017:00:00:00',\n",
              " '01FEB2017:00:00:00',\n",
              " '01SEP2017:00:00:00',\n",
              " '01JAN2017:00:00:00',\n",
              " '01JUN2017:00:00:00',\n",
              " '01AUG2017:00:00:00',\n",
              " '01DEC2016:00:00:00',\n",
              " '01MAY2017:00:00:00',\n",
              " '01APR2017:00:00:00']"
            ]
          },
          "metadata": {
            "tags": []
          },
          "execution_count": 68
        }
      ]
    },
    {
      "metadata": {
        "id": "HvaQJxvNWZyv",
        "colab_type": "code",
        "colab": {}
      },
      "cell_type": "code",
      "source": [
        "#Tranformar Fecha información\n",
        "movs['FECHA_INFORMACION'] = movs['FECHA_INFORMACION'].str.replace(':00:00:00','')"
      ],
      "execution_count": 0,
      "outputs": []
    },
    {
      "metadata": {
        "id": "GF43E43xWcBF",
        "colab_type": "code",
        "outputId": "66db092c-a774-4dea-8352-cf54c4977a1d",
        "colab": {
          "base_uri": "https://localhost:8080/",
          "height": 125
        }
      },
      "cell_type": "code",
      "source": [
        "# locale.setlocale(locale.LC_ALL, (\"en_EN\", \"UTF-8\"))\n",
        "movs['FECHA_INFORMACION'] = pd.to_datetime(movs['FECHA_INFORMACION'], format='%d%b%Y')\n",
        "movs['FECHA_INFORMACION'].head()"
      ],
      "execution_count": 70,
      "outputs": [
        {
          "output_type": "execute_result",
          "data": {
            "text/plain": [
              "0   2017-07-01\n",
              "1   2017-05-01\n",
              "2   2017-10-01\n",
              "3   2017-05-01\n",
              "4   2016-12-01\n",
              "Name: FECHA_INFORMACION, dtype: datetime64[ns]"
            ]
          },
          "metadata": {
            "tags": []
          },
          "execution_count": 70
        }
      ]
    },
    {
      "metadata": {
        "id": "Eqbni6g9WhUb",
        "colab_type": "code",
        "outputId": "c4228b1e-8b79-4101-8ce0-f3608ea0c14a",
        "colab": {
          "base_uri": "https://localhost:8080/",
          "height": 224
        }
      },
      "cell_type": "code",
      "source": [
        "movs.head()"
      ],
      "execution_count": 71,
      "outputs": [
        {
          "output_type": "execute_result",
          "data": {
            "text/html": [
              "<div>\n",
              "<style scoped>\n",
              "    .dataframe tbody tr th:only-of-type {\n",
              "        vertical-align: middle;\n",
              "    }\n",
              "\n",
              "    .dataframe tbody tr th {\n",
              "        vertical-align: top;\n",
              "    }\n",
              "\n",
              "    .dataframe thead th {\n",
              "        text-align: right;\n",
              "    }\n",
              "</style>\n",
              "<table border=\"1\" class=\"dataframe\">\n",
              "  <thead>\n",
              "    <tr style=\"text-align: right;\">\n",
              "      <th></th>\n",
              "      <th>ID</th>\n",
              "      <th>FECHA_INFORMACION</th>\n",
              "      <th>SALDO_AHORROS</th>\n",
              "      <th>SALDO_FONDOS</th>\n",
              "      <th>SALDO_CREDITO1</th>\n",
              "      <th>SALDO_CREDITO2</th>\n",
              "      <th>SALDO_TARJETA</th>\n",
              "      <th>MONTO_COMPRAS1</th>\n",
              "      <th>MONTO_CAJERO1</th>\n",
              "      <th>MONTO_COMPRAS2</th>\n",
              "      <th>MONTO_CAJERO2</th>\n",
              "      <th>MONTO_ABONOS_NOMINA</th>\n",
              "      <th>INDICADOR_MORA</th>\n",
              "      <th>SALDO_ACTIVO</th>\n",
              "      <th>SALDO_PASIVO</th>\n",
              "    </tr>\n",
              "  </thead>\n",
              "  <tbody>\n",
              "    <tr>\n",
              "      <th>0</th>\n",
              "      <td>3</td>\n",
              "      <td>2017-07-01</td>\n",
              "      <td>3340.00</td>\n",
              "      <td>0.0</td>\n",
              "      <td>876047.06</td>\n",
              "      <td>0.0</td>\n",
              "      <td>0.0</td>\n",
              "      <td>0.0</td>\n",
              "      <td>0.0</td>\n",
              "      <td>0.0</td>\n",
              "      <td>0.0</td>\n",
              "      <td>0.0</td>\n",
              "      <td>0</td>\n",
              "      <td>876047.06</td>\n",
              "      <td>3340.00</td>\n",
              "    </tr>\n",
              "    <tr>\n",
              "      <th>1</th>\n",
              "      <td>171</td>\n",
              "      <td>2017-05-01</td>\n",
              "      <td>1070130.00</td>\n",
              "      <td>0.0</td>\n",
              "      <td>7828500.12</td>\n",
              "      <td>0.0</td>\n",
              "      <td>0.0</td>\n",
              "      <td>0.0</td>\n",
              "      <td>0.0</td>\n",
              "      <td>0.0</td>\n",
              "      <td>460000.0</td>\n",
              "      <td>897220.0</td>\n",
              "      <td>0</td>\n",
              "      <td>7828500.12</td>\n",
              "      <td>1070133.18</td>\n",
              "    </tr>\n",
              "    <tr>\n",
              "      <th>2</th>\n",
              "      <td>313</td>\n",
              "      <td>2017-10-01</td>\n",
              "      <td>0.00</td>\n",
              "      <td>0.0</td>\n",
              "      <td>0.00</td>\n",
              "      <td>0.0</td>\n",
              "      <td>0.0</td>\n",
              "      <td>0.0</td>\n",
              "      <td>0.0</td>\n",
              "      <td>0.0</td>\n",
              "      <td>0.0</td>\n",
              "      <td>0.0</td>\n",
              "      <td>0</td>\n",
              "      <td>0.00</td>\n",
              "      <td>0.00</td>\n",
              "    </tr>\n",
              "    <tr>\n",
              "      <th>3</th>\n",
              "      <td>644</td>\n",
              "      <td>2017-05-01</td>\n",
              "      <td>2204.88</td>\n",
              "      <td>0.0</td>\n",
              "      <td>8863156.75</td>\n",
              "      <td>0.0</td>\n",
              "      <td>2153170.0</td>\n",
              "      <td>359023.0</td>\n",
              "      <td>0.0</td>\n",
              "      <td>8000.0</td>\n",
              "      <td>160000.0</td>\n",
              "      <td>748000.0</td>\n",
              "      <td>0</td>\n",
              "      <td>11016329.89</td>\n",
              "      <td>2204.88</td>\n",
              "    </tr>\n",
              "    <tr>\n",
              "      <th>4</th>\n",
              "      <td>1445</td>\n",
              "      <td>2016-12-01</td>\n",
              "      <td>692926.00</td>\n",
              "      <td>0.0</td>\n",
              "      <td>0.00</td>\n",
              "      <td>0.0</td>\n",
              "      <td>0.0</td>\n",
              "      <td>0.0</td>\n",
              "      <td>0.0</td>\n",
              "      <td>0.0</td>\n",
              "      <td>0.0</td>\n",
              "      <td>606720.0</td>\n",
              "      <td>0</td>\n",
              "      <td>0.00</td>\n",
              "      <td>692926.32</td>\n",
              "    </tr>\n",
              "  </tbody>\n",
              "</table>\n",
              "</div>"
            ],
            "text/plain": [
              "     ID FECHA_INFORMACION  SALDO_AHORROS  SALDO_FONDOS  SALDO_CREDITO1  \\\n",
              "0     3        2017-07-01        3340.00           0.0       876047.06   \n",
              "1   171        2017-05-01     1070130.00           0.0      7828500.12   \n",
              "2   313        2017-10-01           0.00           0.0            0.00   \n",
              "3   644        2017-05-01        2204.88           0.0      8863156.75   \n",
              "4  1445        2016-12-01      692926.00           0.0            0.00   \n",
              "\n",
              "   SALDO_CREDITO2  SALDO_TARJETA  MONTO_COMPRAS1  MONTO_CAJERO1  \\\n",
              "0             0.0            0.0             0.0            0.0   \n",
              "1             0.0            0.0             0.0            0.0   \n",
              "2             0.0            0.0             0.0            0.0   \n",
              "3             0.0      2153170.0        359023.0            0.0   \n",
              "4             0.0            0.0             0.0            0.0   \n",
              "\n",
              "   MONTO_COMPRAS2  MONTO_CAJERO2  MONTO_ABONOS_NOMINA  INDICADOR_MORA  \\\n",
              "0             0.0            0.0                  0.0               0   \n",
              "1             0.0       460000.0             897220.0               0   \n",
              "2             0.0            0.0                  0.0               0   \n",
              "3          8000.0       160000.0             748000.0               0   \n",
              "4             0.0            0.0             606720.0               0   \n",
              "\n",
              "   SALDO_ACTIVO  SALDO_PASIVO  \n",
              "0     876047.06       3340.00  \n",
              "1    7828500.12    1070133.18  \n",
              "2          0.00          0.00  \n",
              "3   11016329.89       2204.88  \n",
              "4          0.00     692926.32  "
            ]
          },
          "metadata": {
            "tags": []
          },
          "execution_count": 71
        }
      ]
    },
    {
      "metadata": {
        "id": "UxASY0d0Wi8s",
        "colab_type": "code",
        "outputId": "3338b8d6-0f49-4aaa-d894-3479483ba8fd",
        "colab": {
          "base_uri": "https://localhost:8080/",
          "height": 377
        }
      },
      "cell_type": "code",
      "source": [
        "movs.info()"
      ],
      "execution_count": 72,
      "outputs": [
        {
          "output_type": "stream",
          "text": [
            "<class 'pandas.core.frame.DataFrame'>\n",
            "Int64Index: 31440 entries, 0 to 31439\n",
            "Data columns (total 15 columns):\n",
            "ID                     31440 non-null int64\n",
            "FECHA_INFORMACION      31440 non-null datetime64[ns]\n",
            "SALDO_AHORROS          31440 non-null float64\n",
            "SALDO_FONDOS           31440 non-null float64\n",
            "SALDO_CREDITO1         31440 non-null float64\n",
            "SALDO_CREDITO2         31440 non-null float64\n",
            "SALDO_TARJETA          31440 non-null float64\n",
            "MONTO_COMPRAS1         31440 non-null float64\n",
            "MONTO_CAJERO1          31440 non-null float64\n",
            "MONTO_COMPRAS2         31440 non-null float64\n",
            "MONTO_CAJERO2          31440 non-null float64\n",
            "MONTO_ABONOS_NOMINA    31440 non-null float64\n",
            "INDICADOR_MORA         31440 non-null int64\n",
            "SALDO_ACTIVO           31440 non-null float64\n",
            "SALDO_PASIVO           31440 non-null float64\n",
            "dtypes: datetime64[ns](1), float64(12), int64(2)\n",
            "memory usage: 3.8 MB\n"
          ],
          "name": "stdout"
        }
      ]
    },
    {
      "metadata": {
        "id": "qJwe4M-IWmxb",
        "colab_type": "code",
        "outputId": "f7c259f2-5e06-46a8-9a25-a3ffff51ec6a",
        "colab": {
          "base_uri": "https://localhost:8080/",
          "height": 365
        }
      },
      "cell_type": "code",
      "source": [
        "movs['ID'].value_counts().hist()"
      ],
      "execution_count": 0,
      "outputs": [
        {
          "output_type": "execute_result",
          "data": {
            "text/plain": [
              "<matplotlib.axes._subplots.AxesSubplot at 0x7f0ea14590f0>"
            ]
          },
          "metadata": {
            "tags": []
          },
          "execution_count": 70
        },
        {
          "output_type": "display_data",
          "data": {
            "image/png": "[encoded data removed]",
            "text/plain": [
              "<Figure size 576x396 with 1 Axes>"
            ]
          },
          "metadata": {
            "tags": []
          }
        }
      ]
    },
    {
      "metadata": {
        "id": "M_lU_5B55cIz",
        "colab_type": "text"
      },
      "cell_type": "markdown",
      "source": [
        "En la gran mayoria, por cada cliente hay 13 transacciones. "
      ]
    },
    {
      "metadata": {
        "id": "95QiSWUbWmnA",
        "colab_type": "code",
        "outputId": "600ed6e4-a46f-46de-cf62-69d672d4f3ee",
        "colab": {
          "base_uri": "https://localhost:8080/",
          "height": 35
        }
      },
      "cell_type": "code",
      "source": [
        "#Clientes con 13 movimientos\n",
        "frec = movs['ID'].value_counts()\n",
        "frec[frec==13].count()"
      ],
      "execution_count": 0,
      "outputs": [
        {
          "output_type": "execute_result",
          "data": {
            "text/plain": [
              "2297"
            ]
          },
          "metadata": {
            "tags": []
          },
          "execution_count": 71
        }
      ]
    },
    {
      "metadata": {
        "id": "uFafn8dIWpkl",
        "colab_type": "code",
        "outputId": "4098f297-8fef-4602-fa87-548a4d7d5496",
        "colab": {
          "base_uri": "https://localhost:8080/",
          "height": 428
        }
      },
      "cell_type": "code",
      "source": [
        "#Ejemplo de llos movimientos de un cliente:\n",
        "c = 60\n",
        "movs[movs['ID']==c].sort_values(['FECHA_INFORMACION'])\n",
        "# df[df['CLIENTE_CC']==3]"
      ],
      "execution_count": 0,
      "outputs": [
        {
          "output_type": "execute_result",
          "data": {
            "text/html": [
              "<div>\n",
              "<style scoped>\n",
              "    .dataframe tbody tr th:only-of-type {\n",
              "        vertical-align: middle;\n",
              "    }\n",
              "\n",
              "    .dataframe tbody tr th {\n",
              "        vertical-align: top;\n",
              "    }\n",
              "\n",
              "    .dataframe thead th {\n",
              "        text-align: right;\n",
              "    }\n",
              "</style>\n",
              "<table border=\"1\" class=\"dataframe\">\n",
              "  <thead>\n",
              "    <tr style=\"text-align: right;\">\n",
              "      <th></th>\n",
              "      <th>ID</th>\n",
              "      <th>FECHA_INFORMACION</th>\n",
              "      <th>SALDO_AHORROS</th>\n",
              "      <th>SALDO_FONDOS</th>\n",
              "      <th>SALDO_CREDITO1</th>\n",
              "      <th>SALDO_CREDITO2</th>\n",
              "      <th>SALDO_TARJETA</th>\n",
              "      <th>MONTO_COMPRAS1</th>\n",
              "      <th>MONTO_CAJERO1</th>\n",
              "      <th>MONTO_COMPRAS2</th>\n",
              "      <th>MONTO_CAJERO2</th>\n",
              "      <th>MONTO_ABONOS_NOMINA</th>\n",
              "      <th>INDICADOR_MORA</th>\n",
              "      <th>SALDO_ACTIVO</th>\n",
              "      <th>SALDO_PASIVO</th>\n",
              "    </tr>\n",
              "  </thead>\n",
              "  <tbody>\n",
              "    <tr>\n",
              "      <th>26162</th>\n",
              "      <td>60</td>\n",
              "      <td>2016-12-01</td>\n",
              "      <td>58.9</td>\n",
              "      <td>0.0</td>\n",
              "      <td>0.0</td>\n",
              "      <td>0.0</td>\n",
              "      <td>2083900.0</td>\n",
              "      <td>0.0</td>\n",
              "      <td>0.0</td>\n",
              "      <td>0.0</td>\n",
              "      <td>0.0</td>\n",
              "      <td>0.0</td>\n",
              "      <td>0</td>\n",
              "      <td>2083898.87</td>\n",
              "      <td>58.9</td>\n",
              "    </tr>\n",
              "    <tr>\n",
              "      <th>21358</th>\n",
              "      <td>60</td>\n",
              "      <td>2017-01-01</td>\n",
              "      <td>58.9</td>\n",
              "      <td>0.0</td>\n",
              "      <td>0.0</td>\n",
              "      <td>0.0</td>\n",
              "      <td>1958490.0</td>\n",
              "      <td>0.0</td>\n",
              "      <td>0.0</td>\n",
              "      <td>0.0</td>\n",
              "      <td>0.0</td>\n",
              "      <td>0.0</td>\n",
              "      <td>0</td>\n",
              "      <td>1958488.97</td>\n",
              "      <td>58.9</td>\n",
              "    </tr>\n",
              "    <tr>\n",
              "      <th>18300</th>\n",
              "      <td>60</td>\n",
              "      <td>2017-02-01</td>\n",
              "      <td>58.9</td>\n",
              "      <td>0.0</td>\n",
              "      <td>0.0</td>\n",
              "      <td>0.0</td>\n",
              "      <td>1940130.0</td>\n",
              "      <td>0.0</td>\n",
              "      <td>0.0</td>\n",
              "      <td>0.0</td>\n",
              "      <td>0.0</td>\n",
              "      <td>0.0</td>\n",
              "      <td>0</td>\n",
              "      <td>1940129.57</td>\n",
              "      <td>58.9</td>\n",
              "    </tr>\n",
              "    <tr>\n",
              "      <th>10843</th>\n",
              "      <td>60</td>\n",
              "      <td>2017-03-01</td>\n",
              "      <td>58.9</td>\n",
              "      <td>0.0</td>\n",
              "      <td>0.0</td>\n",
              "      <td>0.0</td>\n",
              "      <td>1951270.0</td>\n",
              "      <td>0.0</td>\n",
              "      <td>0.0</td>\n",
              "      <td>0.0</td>\n",
              "      <td>0.0</td>\n",
              "      <td>0.0</td>\n",
              "      <td>0</td>\n",
              "      <td>1951266.29</td>\n",
              "      <td>58.9</td>\n",
              "    </tr>\n",
              "    <tr>\n",
              "      <th>26194</th>\n",
              "      <td>60</td>\n",
              "      <td>2017-04-01</td>\n",
              "      <td>58.9</td>\n",
              "      <td>0.0</td>\n",
              "      <td>0.0</td>\n",
              "      <td>0.0</td>\n",
              "      <td>1951270.0</td>\n",
              "      <td>0.0</td>\n",
              "      <td>0.0</td>\n",
              "      <td>0.0</td>\n",
              "      <td>0.0</td>\n",
              "      <td>0.0</td>\n",
              "      <td>0</td>\n",
              "      <td>1951266.29</td>\n",
              "      <td>58.9</td>\n",
              "    </tr>\n",
              "    <tr>\n",
              "      <th>743</th>\n",
              "      <td>60</td>\n",
              "      <td>2017-05-01</td>\n",
              "      <td>58.9</td>\n",
              "      <td>0.0</td>\n",
              "      <td>0.0</td>\n",
              "      <td>0.0</td>\n",
              "      <td>1951270.0</td>\n",
              "      <td>0.0</td>\n",
              "      <td>0.0</td>\n",
              "      <td>0.0</td>\n",
              "      <td>0.0</td>\n",
              "      <td>0.0</td>\n",
              "      <td>1</td>\n",
              "      <td>1951266.29</td>\n",
              "      <td>58.9</td>\n",
              "    </tr>\n",
              "    <tr>\n",
              "      <th>9126</th>\n",
              "      <td>60</td>\n",
              "      <td>2017-06-01</td>\n",
              "      <td>58.9</td>\n",
              "      <td>0.0</td>\n",
              "      <td>0.0</td>\n",
              "      <td>0.0</td>\n",
              "      <td>1951270.0</td>\n",
              "      <td>0.0</td>\n",
              "      <td>0.0</td>\n",
              "      <td>0.0</td>\n",
              "      <td>0.0</td>\n",
              "      <td>0.0</td>\n",
              "      <td>1</td>\n",
              "      <td>1951266.29</td>\n",
              "      <td>58.9</td>\n",
              "    </tr>\n",
              "    <tr>\n",
              "      <th>17558</th>\n",
              "      <td>60</td>\n",
              "      <td>2017-07-01</td>\n",
              "      <td>58.9</td>\n",
              "      <td>0.0</td>\n",
              "      <td>0.0</td>\n",
              "      <td>0.0</td>\n",
              "      <td>1951270.0</td>\n",
              "      <td>0.0</td>\n",
              "      <td>0.0</td>\n",
              "      <td>0.0</td>\n",
              "      <td>0.0</td>\n",
              "      <td>0.0</td>\n",
              "      <td>1</td>\n",
              "      <td>1951266.29</td>\n",
              "      <td>58.9</td>\n",
              "    </tr>\n",
              "    <tr>\n",
              "      <th>12421</th>\n",
              "      <td>60</td>\n",
              "      <td>2017-08-01</td>\n",
              "      <td>58.9</td>\n",
              "      <td>0.0</td>\n",
              "      <td>0.0</td>\n",
              "      <td>0.0</td>\n",
              "      <td>1951270.0</td>\n",
              "      <td>0.0</td>\n",
              "      <td>0.0</td>\n",
              "      <td>0.0</td>\n",
              "      <td>0.0</td>\n",
              "      <td>0.0</td>\n",
              "      <td>1</td>\n",
              "      <td>1951266.29</td>\n",
              "      <td>58.9</td>\n",
              "    </tr>\n",
              "    <tr>\n",
              "      <th>20060</th>\n",
              "      <td>60</td>\n",
              "      <td>2017-09-01</td>\n",
              "      <td>58.9</td>\n",
              "      <td>0.0</td>\n",
              "      <td>0.0</td>\n",
              "      <td>0.0</td>\n",
              "      <td>1951270.0</td>\n",
              "      <td>0.0</td>\n",
              "      <td>0.0</td>\n",
              "      <td>0.0</td>\n",
              "      <td>0.0</td>\n",
              "      <td>0.0</td>\n",
              "      <td>1</td>\n",
              "      <td>1951266.29</td>\n",
              "      <td>58.9</td>\n",
              "    </tr>\n",
              "    <tr>\n",
              "      <th>12133</th>\n",
              "      <td>60</td>\n",
              "      <td>2017-10-01</td>\n",
              "      <td>58.9</td>\n",
              "      <td>0.0</td>\n",
              "      <td>0.0</td>\n",
              "      <td>0.0</td>\n",
              "      <td>1951270.0</td>\n",
              "      <td>0.0</td>\n",
              "      <td>0.0</td>\n",
              "      <td>0.0</td>\n",
              "      <td>0.0</td>\n",
              "      <td>0.0</td>\n",
              "      <td>1</td>\n",
              "      <td>1951266.29</td>\n",
              "      <td>58.9</td>\n",
              "    </tr>\n",
              "    <tr>\n",
              "      <th>24518</th>\n",
              "      <td>60</td>\n",
              "      <td>2017-11-01</td>\n",
              "      <td>58.9</td>\n",
              "      <td>0.0</td>\n",
              "      <td>0.0</td>\n",
              "      <td>0.0</td>\n",
              "      <td>1951270.0</td>\n",
              "      <td>0.0</td>\n",
              "      <td>0.0</td>\n",
              "      <td>0.0</td>\n",
              "      <td>0.0</td>\n",
              "      <td>0.0</td>\n",
              "      <td>1</td>\n",
              "      <td>1951266.29</td>\n",
              "      <td>58.9</td>\n",
              "    </tr>\n",
              "  </tbody>\n",
              "</table>\n",
              "</div>"
            ],
            "text/plain": [
              "       ID FECHA_INFORMACION  SALDO_AHORROS  SALDO_FONDOS  SALDO_CREDITO1  \\\n",
              "26162  60        2016-12-01           58.9           0.0             0.0   \n",
              "21358  60        2017-01-01           58.9           0.0             0.0   \n",
              "18300  60        2017-02-01           58.9           0.0             0.0   \n",
              "10843  60        2017-03-01           58.9           0.0             0.0   \n",
              "26194  60        2017-04-01           58.9           0.0             0.0   \n",
              "743    60        2017-05-01           58.9           0.0             0.0   \n",
              "9126   60        2017-06-01           58.9           0.0             0.0   \n",
              "17558  60        2017-07-01           58.9           0.0             0.0   \n",
              "12421  60        2017-08-01           58.9           0.0             0.0   \n",
              "20060  60        2017-09-01           58.9           0.0             0.0   \n",
              "12133  60        2017-10-01           58.9           0.0             0.0   \n",
              "24518  60        2017-11-01           58.9           0.0             0.0   \n",
              "\n",
              "       SALDO_CREDITO2  SALDO_TARJETA  MONTO_COMPRAS1  MONTO_CAJERO1  \\\n",
              "26162             0.0      2083900.0             0.0            0.0   \n",
              "21358             0.0      1958490.0             0.0            0.0   \n",
              "18300             0.0      1940130.0             0.0            0.0   \n",
              "10843             0.0      1951270.0             0.0            0.0   \n",
              "26194             0.0      1951270.0             0.0            0.0   \n",
              "743               0.0      1951270.0             0.0            0.0   \n",
              "9126              0.0      1951270.0             0.0            0.0   \n",
              "17558             0.0      1951270.0             0.0            0.0   \n",
              "12421             0.0      1951270.0             0.0            0.0   \n",
              "20060             0.0      1951270.0             0.0            0.0   \n",
              "12133             0.0      1951270.0             0.0            0.0   \n",
              "24518             0.0      1951270.0             0.0            0.0   \n",
              "\n",
              "       MONTO_COMPRAS2  MONTO_CAJERO2  MONTO_ABONOS_NOMINA  INDICADOR_MORA  \\\n",
              "26162             0.0            0.0                  0.0               0   \n",
              "21358             0.0            0.0                  0.0               0   \n",
              "18300             0.0            0.0                  0.0               0   \n",
              "10843             0.0            0.0                  0.0               0   \n",
              "26194             0.0            0.0                  0.0               0   \n",
              "743               0.0            0.0                  0.0               1   \n",
              "9126              0.0            0.0                  0.0               1   \n",
              "17558             0.0            0.0                  0.0               1   \n",
              "12421             0.0            0.0                  0.0               1   \n",
              "20060             0.0            0.0                  0.0               1   \n",
              "12133             0.0            0.0                  0.0               1   \n",
              "24518             0.0            0.0                  0.0               1   \n",
              "\n",
              "       SALDO_ACTIVO  SALDO_PASIVO  \n",
              "26162    2083898.87          58.9  \n",
              "21358    1958488.97          58.9  \n",
              "18300    1940129.57          58.9  \n",
              "10843    1951266.29          58.9  \n",
              "26194    1951266.29          58.9  \n",
              "743      1951266.29          58.9  \n",
              "9126     1951266.29          58.9  \n",
              "17558    1951266.29          58.9  \n",
              "12421    1951266.29          58.9  \n",
              "20060    1951266.29          58.9  \n",
              "12133    1951266.29          58.9  \n",
              "24518    1951266.29          58.9  "
            ]
          },
          "metadata": {
            "tags": []
          },
          "execution_count": 72
        }
      ]
    },
    {
      "metadata": {
        "id": "xOwDBo41Wsmz",
        "colab_type": "code",
        "outputId": "f2abb33d-f81b-40a5-dcb2-c4cdbfa5ce7e",
        "colab": {
          "base_uri": "https://localhost:8080/",
          "height": 78
        }
      },
      "cell_type": "code",
      "source": [
        "#Descricion del cliente\n",
        "df[df['CLIENTE_CC']==c]"
      ],
      "execution_count": 0,
      "outputs": [
        {
          "output_type": "execute_result",
          "data": {
            "text/html": [
              "<div>\n",
              "<style scoped>\n",
              "    .dataframe tbody tr th:only-of-type {\n",
              "        vertical-align: middle;\n",
              "    }\n",
              "\n",
              "    .dataframe tbody tr th {\n",
              "        vertical-align: top;\n",
              "    }\n",
              "\n",
              "    .dataframe thead th {\n",
              "        text-align: right;\n",
              "    }\n",
              "</style>\n",
              "<table border=\"1\" class=\"dataframe\">\n",
              "  <thead>\n",
              "    <tr style=\"text-align: right;\">\n",
              "      <th></th>\n",
              "      <th>CLIENTE_CC</th>\n",
              "      <th>FECHA_ALTA</th>\n",
              "      <th>FECHA_NACIMIENTO</th>\n",
              "      <th>SEXO</th>\n",
              "      <th>ESTADO_CIVIL</th>\n",
              "      <th>SITUACION_LABORAL</th>\n",
              "      <th>fuga</th>\n",
              "      <th>MES_DE_FUGA</th>\n",
              "    </tr>\n",
              "  </thead>\n",
              "  <tbody>\n",
              "    <tr>\n",
              "      <th>59</th>\n",
              "      <td>60</td>\n",
              "      <td>1997-08-28</td>\n",
              "      <td>19680531</td>\n",
              "      <td>M</td>\n",
              "      <td>CASADO</td>\n",
              "      <td>TEMPORAL</td>\n",
              "      <td>1.0</td>\n",
              "      <td>5.0</td>\n",
              "    </tr>\n",
              "  </tbody>\n",
              "</table>\n",
              "</div>"
            ],
            "text/plain": [
              "    CLIENTE_CC FECHA_ALTA FECHA_NACIMIENTO SEXO ESTADO_CIVIL  \\\n",
              "59          60 1997-08-28         19680531    M       CASADO   \n",
              "\n",
              "   SITUACION_LABORAL  fuga  MES_DE_FUGA  \n",
              "59          TEMPORAL   1.0          5.0  "
            ]
          },
          "metadata": {
            "tags": []
          },
          "execution_count": 73
        }
      ]
    },
    {
      "metadata": {
        "id": "75d2k4Uk6VRc",
        "colab_type": "text"
      },
      "cell_type": "markdown",
      "source": [
        "###CREACIÓN DE VARIABLES "
      ]
    },
    {
      "metadata": {
        "id": "iha7sVjE6BHj",
        "colab_type": "text"
      },
      "cell_type": "markdown",
      "source": [
        "**VARIABLE ANTIGUEDAD**"
      ]
    },
    {
      "metadata": {
        "id": "D0OCNj1hWuFL",
        "colab_type": "code",
        "outputId": "42d793ca-4ce3-48b3-a989-5c90372aaa9d",
        "colab": {
          "base_uri": "https://localhost:8080/",
          "height": 204
        }
      },
      "cell_type": "code",
      "source": [
        "#Creación de la variable ANTIGUEDAD en días de acuerdo a su fecha de vinculación como cliente \n",
        "from datetime import datetime, timedelta\n",
        "df['ANTIGUEDAD'] = datetime.strptime(str('2016-12-01'), '%Y-%m-%d') - df['FECHA_ALTA']\n",
        "df['ANTIGUEDAD'] = df['ANTIGUEDAD'] / timedelta(days=1)\n",
        "df.head()"
      ],
      "execution_count": 73,
      "outputs": [
        {
          "output_type": "execute_result",
          "data": {
            "text/html": [
              "<div>\n",
              "<style scoped>\n",
              "    .dataframe tbody tr th:only-of-type {\n",
              "        vertical-align: middle;\n",
              "    }\n",
              "\n",
              "    .dataframe tbody tr th {\n",
              "        vertical-align: top;\n",
              "    }\n",
              "\n",
              "    .dataframe thead th {\n",
              "        text-align: right;\n",
              "    }\n",
              "</style>\n",
              "<table border=\"1\" class=\"dataframe\">\n",
              "  <thead>\n",
              "    <tr style=\"text-align: right;\">\n",
              "      <th></th>\n",
              "      <th>CLIENTE_CC</th>\n",
              "      <th>FECHA_ALTA</th>\n",
              "      <th>FECHA_NACIMIENTO</th>\n",
              "      <th>SEXO</th>\n",
              "      <th>ESTADO_CIVIL</th>\n",
              "      <th>SITUACION_LABORAL</th>\n",
              "      <th>fuga</th>\n",
              "      <th>MES_DE_FUGA</th>\n",
              "      <th>ANTIGUEDAD</th>\n",
              "    </tr>\n",
              "  </thead>\n",
              "  <tbody>\n",
              "    <tr>\n",
              "      <th>0</th>\n",
              "      <td>1</td>\n",
              "      <td>1996-09-30</td>\n",
              "      <td>19300823</td>\n",
              "      <td>F</td>\n",
              "      <td>CASADO</td>\n",
              "      <td>OTROS</td>\n",
              "      <td>1.0</td>\n",
              "      <td>2.0</td>\n",
              "      <td>7367.0</td>\n",
              "    </tr>\n",
              "    <tr>\n",
              "      <th>1</th>\n",
              "      <td>2</td>\n",
              "      <td>1986-05-01</td>\n",
              "      <td>19530630</td>\n",
              "      <td>M</td>\n",
              "      <td>UNION LIBRE</td>\n",
              "      <td>FIJO</td>\n",
              "      <td>0.0</td>\n",
              "      <td>NaN</td>\n",
              "      <td>11172.0</td>\n",
              "    </tr>\n",
              "    <tr>\n",
              "      <th>2</th>\n",
              "      <td>3</td>\n",
              "      <td>1994-12-01</td>\n",
              "      <td>19540721</td>\n",
              "      <td>F</td>\n",
              "      <td>UNION LIBRE</td>\n",
              "      <td>OTROS</td>\n",
              "      <td>1.0</td>\n",
              "      <td>11.0</td>\n",
              "      <td>8036.0</td>\n",
              "    </tr>\n",
              "    <tr>\n",
              "      <th>3</th>\n",
              "      <td>4</td>\n",
              "      <td>1997-08-27</td>\n",
              "      <td>19390503</td>\n",
              "      <td>M</td>\n",
              "      <td>CASADO</td>\n",
              "      <td>OTROS</td>\n",
              "      <td>0.0</td>\n",
              "      <td>NaN</td>\n",
              "      <td>7036.0</td>\n",
              "    </tr>\n",
              "    <tr>\n",
              "      <th>4</th>\n",
              "      <td>5</td>\n",
              "      <td>1997-07-21</td>\n",
              "      <td>19311013</td>\n",
              "      <td>F</td>\n",
              "      <td>CASADO</td>\n",
              "      <td>AUTONOMO</td>\n",
              "      <td>0.0</td>\n",
              "      <td>NaN</td>\n",
              "      <td>7073.0</td>\n",
              "    </tr>\n",
              "  </tbody>\n",
              "</table>\n",
              "</div>"
            ],
            "text/plain": [
              "   CLIENTE_CC FECHA_ALTA FECHA_NACIMIENTO SEXO ESTADO_CIVIL SITUACION_LABORAL  \\\n",
              "0           1 1996-09-30         19300823    F       CASADO             OTROS   \n",
              "1           2 1986-05-01         19530630    M  UNION LIBRE              FIJO   \n",
              "2           3 1994-12-01         19540721    F  UNION LIBRE             OTROS   \n",
              "3           4 1997-08-27         19390503    M       CASADO             OTROS   \n",
              "4           5 1997-07-21         19311013    F       CASADO          AUTONOMO   \n",
              "\n",
              "   fuga  MES_DE_FUGA  ANTIGUEDAD  \n",
              "0   1.0          2.0      7367.0  \n",
              "1   0.0          NaN     11172.0  \n",
              "2   1.0         11.0      8036.0  \n",
              "3   0.0          NaN      7036.0  \n",
              "4   0.0          NaN      7073.0  "
            ]
          },
          "metadata": {
            "tags": []
          },
          "execution_count": 73
        }
      ]
    },
    {
      "metadata": {
        "id": "8OaR4wdl6eaA",
        "colab_type": "text"
      },
      "cell_type": "markdown",
      "source": [
        "Con el fin de realizar un modelo de predicción de clientes se generan las siguientes variables a partir de los movimientos de cada cliente:"
      ]
    },
    {
      "metadata": {
        "id": "drKM9E1Hn0zE",
        "colab_type": "code",
        "colab": {}
      },
      "cell_type": "code",
      "source": [
        "trans = pd.DataFrame(columns=['CLIENTE', 'SALDO_AHORROS', 'SALDO_FONDOS', 'SALDO_CREDITO1', 'SALDO_CREDITO2', \n",
        "                              'SALDO_TARJETA', 'MONTO_COMPRAS1', 'MONTO_CAJERO1', 'MONTO_COMPRAS2',\n",
        "                              'MONTO_CAJERO2', 'MONTO_ABONOS_NOMINA', 'SALDO_ACTIVO', 'SALDO_PASIVO']) "
      ],
      "execution_count": 0,
      "outputs": []
    },
    {
      "metadata": {
        "id": "DFZGuaYTi1wu",
        "colab_type": "code",
        "colab": {}
      },
      "cell_type": "code",
      "source": [
        "#Por cada cliente se generan las variables a partir de estadisticas de las transacciones\n",
        "for i in df.index:\n",
        "  temp = []\n",
        "  temp = movs[movs['ID']==df.loc[i,'CLIENTE_CC']].sort_values(['FECHA_INFORMACION'])\n",
        "  trans.loc[i,'CLIENTE'] = df.loc[i,'CLIENTE_CC']\n",
        "  trans.loc[i,'SALDO_AHORROS'] = temp['SALDO_AHORROS'].mean()\n",
        "  trans.loc[i,'SALDO_FONDOS'] = temp['SALDO_FONDOS'].mean()\n",
        "  trans.loc[i,'SALDO_CREDITO1'] = temp['SALDO_CREDITO1'].mean()\n",
        "  trans.loc[i,'SALDO_CREDITO2'] = temp['SALDO_CREDITO2'].mean()\n",
        "  trans.loc[i,'SALDO_TARJETA'] = temp['SALDO_TARJETA'].mean()\n",
        "  trans.loc[i,'MONTO_COMPRAS1'] = temp['MONTO_COMPRAS1'].sum()\n",
        "  trans.loc[i,'MONTO_CAJERO1'] = temp['MONTO_CAJERO1'].sum()\n",
        "  trans.loc[i,'MONTO_COMPRAS2'] = temp['MONTO_COMPRAS2'].sum()\n",
        "  trans.loc[i,'MONTO_CAJERO2'] = temp['MONTO_CAJERO2'].sum()\n",
        "  trans.loc[i,'MONTO_ABONOS_NOMINA'] = temp['MONTO_ABONOS_NOMINA'].mean()\n",
        "  trans.loc[i,'SALDO_ACTIVO'] = temp['SALDO_ACTIVO'].mean()\n",
        "  trans.loc[i,'SALDO_PASIVO'] = temp['SALDO_PASIVO'].mean()"
      ],
      "execution_count": 0,
      "outputs": []
    },
    {
      "metadata": {
        "id": "3OkUkkxgvX3Q",
        "colab_type": "code",
        "outputId": "bd6b58d4-4de5-4abe-f2a5-b314e67adefc",
        "colab": {
          "base_uri": "https://localhost:8080/",
          "height": 224
        }
      },
      "cell_type": "code",
      "source": [
        "trans.head()"
      ],
      "execution_count": 76,
      "outputs": [
        {
          "output_type": "execute_result",
          "data": {
            "text/html": [
              "<div>\n",
              "<style scoped>\n",
              "    .dataframe tbody tr th:only-of-type {\n",
              "        vertical-align: middle;\n",
              "    }\n",
              "\n",
              "    .dataframe tbody tr th {\n",
              "        vertical-align: top;\n",
              "    }\n",
              "\n",
              "    .dataframe thead th {\n",
              "        text-align: right;\n",
              "    }\n",
              "</style>\n",
              "<table border=\"1\" class=\"dataframe\">\n",
              "  <thead>\n",
              "    <tr style=\"text-align: right;\">\n",
              "      <th></th>\n",
              "      <th>CLIENTE</th>\n",
              "      <th>SALDO_AHORROS</th>\n",
              "      <th>SALDO_FONDOS</th>\n",
              "      <th>SALDO_CREDITO1</th>\n",
              "      <th>SALDO_CREDITO2</th>\n",
              "      <th>SALDO_TARJETA</th>\n",
              "      <th>MONTO_COMPRAS1</th>\n",
              "      <th>MONTO_CAJERO1</th>\n",
              "      <th>MONTO_COMPRAS2</th>\n",
              "      <th>MONTO_CAJERO2</th>\n",
              "      <th>MONTO_ABONOS_NOMINA</th>\n",
              "      <th>SALDO_ACTIVO</th>\n",
              "      <th>SALDO_PASIVO</th>\n",
              "    </tr>\n",
              "  </thead>\n",
              "  <tbody>\n",
              "    <tr>\n",
              "      <th>0</th>\n",
              "      <td>1</td>\n",
              "      <td>5620.1</td>\n",
              "      <td>0</td>\n",
              "      <td>0</td>\n",
              "      <td>0</td>\n",
              "      <td>0</td>\n",
              "      <td>0</td>\n",
              "      <td>0</td>\n",
              "      <td>0</td>\n",
              "      <td>0</td>\n",
              "      <td>0</td>\n",
              "      <td>0</td>\n",
              "      <td>5620.1</td>\n",
              "    </tr>\n",
              "    <tr>\n",
              "      <th>1</th>\n",
              "      <td>2</td>\n",
              "      <td>0</td>\n",
              "      <td>0</td>\n",
              "      <td>4.71526e+06</td>\n",
              "      <td>0</td>\n",
              "      <td>836644</td>\n",
              "      <td>0</td>\n",
              "      <td>0</td>\n",
              "      <td>0</td>\n",
              "      <td>0</td>\n",
              "      <td>0</td>\n",
              "      <td>5.5519e+06</td>\n",
              "      <td>0</td>\n",
              "    </tr>\n",
              "    <tr>\n",
              "      <th>2</th>\n",
              "      <td>3</td>\n",
              "      <td>3340</td>\n",
              "      <td>0</td>\n",
              "      <td>1.18444e+06</td>\n",
              "      <td>0</td>\n",
              "      <td>0</td>\n",
              "      <td>0</td>\n",
              "      <td>0</td>\n",
              "      <td>0</td>\n",
              "      <td>0</td>\n",
              "      <td>0</td>\n",
              "      <td>1.18444e+06</td>\n",
              "      <td>3340</td>\n",
              "    </tr>\n",
              "    <tr>\n",
              "      <th>3</th>\n",
              "      <td>4</td>\n",
              "      <td>620654</td>\n",
              "      <td>0</td>\n",
              "      <td>0</td>\n",
              "      <td>0</td>\n",
              "      <td>0</td>\n",
              "      <td>0</td>\n",
              "      <td>0</td>\n",
              "      <td>5.7358e+06</td>\n",
              "      <td>2.267e+07</td>\n",
              "      <td>1.20582e+06</td>\n",
              "      <td>0</td>\n",
              "      <td>620654</td>\n",
              "    </tr>\n",
              "    <tr>\n",
              "      <th>4</th>\n",
              "      <td>5</td>\n",
              "      <td>175403</td>\n",
              "      <td>0</td>\n",
              "      <td>0</td>\n",
              "      <td>0</td>\n",
              "      <td>0</td>\n",
              "      <td>0</td>\n",
              "      <td>0</td>\n",
              "      <td>0</td>\n",
              "      <td>0</td>\n",
              "      <td>0</td>\n",
              "      <td>0</td>\n",
              "      <td>419842</td>\n",
              "    </tr>\n",
              "  </tbody>\n",
              "</table>\n",
              "</div>"
            ],
            "text/plain": [
              "  CLIENTE SALDO_AHORROS SALDO_FONDOS SALDO_CREDITO1 SALDO_CREDITO2  \\\n",
              "0       1        5620.1            0              0              0   \n",
              "1       2             0            0    4.71526e+06              0   \n",
              "2       3          3340            0    1.18444e+06              0   \n",
              "3       4        620654            0              0              0   \n",
              "4       5        175403            0              0              0   \n",
              "\n",
              "  SALDO_TARJETA MONTO_COMPRAS1 MONTO_CAJERO1 MONTO_COMPRAS2 MONTO_CAJERO2  \\\n",
              "0             0              0             0              0             0   \n",
              "1        836644              0             0              0             0   \n",
              "2             0              0             0              0             0   \n",
              "3             0              0             0     5.7358e+06     2.267e+07   \n",
              "4             0              0             0              0             0   \n",
              "\n",
              "  MONTO_ABONOS_NOMINA SALDO_ACTIVO SALDO_PASIVO  \n",
              "0                   0            0       5620.1  \n",
              "1                   0   5.5519e+06            0  \n",
              "2                   0  1.18444e+06         3340  \n",
              "3         1.20582e+06            0       620654  \n",
              "4                   0            0       419842  "
            ]
          },
          "metadata": {
            "tags": []
          },
          "execution_count": 76
        }
      ]
    },
    {
      "metadata": {
        "id": "-LPkaPi7v2LP",
        "colab_type": "code",
        "outputId": "afd24870-65a4-4007-82d8-d5f82ca172fb",
        "colab": {
          "base_uri": "https://localhost:8080/",
          "height": 224
        }
      },
      "cell_type": "code",
      "source": [
        "trans.tail()"
      ],
      "execution_count": 77,
      "outputs": [
        {
          "output_type": "execute_result",
          "data": {
            "text/html": [
              "<div>\n",
              "<style scoped>\n",
              "    .dataframe tbody tr th:only-of-type {\n",
              "        vertical-align: middle;\n",
              "    }\n",
              "\n",
              "    .dataframe tbody tr th {\n",
              "        vertical-align: top;\n",
              "    }\n",
              "\n",
              "    .dataframe thead th {\n",
              "        text-align: right;\n",
              "    }\n",
              "</style>\n",
              "<table border=\"1\" class=\"dataframe\">\n",
              "  <thead>\n",
              "    <tr style=\"text-align: right;\">\n",
              "      <th></th>\n",
              "      <th>CLIENTE</th>\n",
              "      <th>SALDO_AHORROS</th>\n",
              "      <th>SALDO_FONDOS</th>\n",
              "      <th>SALDO_CREDITO1</th>\n",
              "      <th>SALDO_CREDITO2</th>\n",
              "      <th>SALDO_TARJETA</th>\n",
              "      <th>MONTO_COMPRAS1</th>\n",
              "      <th>MONTO_CAJERO1</th>\n",
              "      <th>MONTO_COMPRAS2</th>\n",
              "      <th>MONTO_CAJERO2</th>\n",
              "      <th>MONTO_ABONOS_NOMINA</th>\n",
              "      <th>SALDO_ACTIVO</th>\n",
              "      <th>SALDO_PASIVO</th>\n",
              "    </tr>\n",
              "  </thead>\n",
              "  <tbody>\n",
              "    <tr>\n",
              "      <th>2495</th>\n",
              "      <td>2496</td>\n",
              "      <td>63214.1</td>\n",
              "      <td>0</td>\n",
              "      <td>1.596e+06</td>\n",
              "      <td>0</td>\n",
              "      <td>410892</td>\n",
              "      <td>1.50603e+06</td>\n",
              "      <td>0</td>\n",
              "      <td>44900</td>\n",
              "      <td>300000</td>\n",
              "      <td>0</td>\n",
              "      <td>2.00689e+06</td>\n",
              "      <td>63214.1</td>\n",
              "    </tr>\n",
              "    <tr>\n",
              "      <th>2496</th>\n",
              "      <td>2497</td>\n",
              "      <td>341524</td>\n",
              "      <td>0</td>\n",
              "      <td>7.40244e+06</td>\n",
              "      <td>0</td>\n",
              "      <td>0</td>\n",
              "      <td>0</td>\n",
              "      <td>0</td>\n",
              "      <td>109920</td>\n",
              "      <td>1.12e+06</td>\n",
              "      <td>0</td>\n",
              "      <td>7.40244e+06</td>\n",
              "      <td>341523</td>\n",
              "    </tr>\n",
              "    <tr>\n",
              "      <th>2497</th>\n",
              "      <td>2498</td>\n",
              "      <td>274350</td>\n",
              "      <td>0</td>\n",
              "      <td>0</td>\n",
              "      <td>0</td>\n",
              "      <td>0</td>\n",
              "      <td>0</td>\n",
              "      <td>0</td>\n",
              "      <td>620401</td>\n",
              "      <td>2.4e+06</td>\n",
              "      <td>0</td>\n",
              "      <td>0</td>\n",
              "      <td>274350</td>\n",
              "    </tr>\n",
              "    <tr>\n",
              "      <th>2498</th>\n",
              "      <td>2499</td>\n",
              "      <td>52182.8</td>\n",
              "      <td>0</td>\n",
              "      <td>0</td>\n",
              "      <td>0</td>\n",
              "      <td>0</td>\n",
              "      <td>0</td>\n",
              "      <td>0</td>\n",
              "      <td>0</td>\n",
              "      <td>0</td>\n",
              "      <td>0</td>\n",
              "      <td>0</td>\n",
              "      <td>52182.7</td>\n",
              "    </tr>\n",
              "    <tr>\n",
              "      <th>2499</th>\n",
              "      <td>2500</td>\n",
              "      <td>5.92453e+06</td>\n",
              "      <td>0</td>\n",
              "      <td>0</td>\n",
              "      <td>0</td>\n",
              "      <td>0</td>\n",
              "      <td>0</td>\n",
              "      <td>0</td>\n",
              "      <td>0</td>\n",
              "      <td>0</td>\n",
              "      <td>0</td>\n",
              "      <td>0</td>\n",
              "      <td>5.92453e+06</td>\n",
              "    </tr>\n",
              "  </tbody>\n",
              "</table>\n",
              "</div>"
            ],
            "text/plain": [
              "     CLIENTE SALDO_AHORROS SALDO_FONDOS SALDO_CREDITO1 SALDO_CREDITO2  \\\n",
              "2495    2496       63214.1            0      1.596e+06              0   \n",
              "2496    2497        341524            0    7.40244e+06              0   \n",
              "2497    2498        274350            0              0              0   \n",
              "2498    2499       52182.8            0              0              0   \n",
              "2499    2500   5.92453e+06            0              0              0   \n",
              "\n",
              "     SALDO_TARJETA MONTO_COMPRAS1 MONTO_CAJERO1 MONTO_COMPRAS2 MONTO_CAJERO2  \\\n",
              "2495        410892    1.50603e+06             0          44900        300000   \n",
              "2496             0              0             0         109920      1.12e+06   \n",
              "2497             0              0             0         620401       2.4e+06   \n",
              "2498             0              0             0              0             0   \n",
              "2499             0              0             0              0             0   \n",
              "\n",
              "     MONTO_ABONOS_NOMINA SALDO_ACTIVO SALDO_PASIVO  \n",
              "2495                   0  2.00689e+06      63214.1  \n",
              "2496                   0  7.40244e+06       341523  \n",
              "2497                   0            0       274350  \n",
              "2498                   0            0      52182.7  \n",
              "2499                   0            0  5.92453e+06  "
            ]
          },
          "metadata": {
            "tags": []
          },
          "execution_count": 77
        }
      ]
    },
    {
      "metadata": {
        "id": "NaPRbnnHLCM0",
        "colab_type": "code",
        "colab": {}
      },
      "cell_type": "code",
      "source": [
        "#transformacion de las variables a tipo numericas\n",
        "trans[['SALDO_AHORROS', 'SALDO_FONDOS', 'SALDO_CREDITO1',\n",
        "       'SALDO_CREDITO2', 'SALDO_TARJETA', 'MONTO_COMPRAS1', 'MONTO_CAJERO1',\n",
        "       'MONTO_COMPRAS2', 'MONTO_CAJERO2', 'MONTO_ABONOS_NOMINA',\n",
        "       'SALDO_ACTIVO', 'SALDO_PASIVO']] = trans[['SALDO_AHORROS', 'SALDO_FONDOS', 'SALDO_CREDITO1',\n",
        "       'SALDO_CREDITO2', 'SALDO_TARJETA', 'MONTO_COMPRAS1', 'MONTO_CAJERO1',\n",
        "       'MONTO_COMPRAS2', 'MONTO_CAJERO2', 'MONTO_ABONOS_NOMINA',\n",
        "       'SALDO_ACTIVO', 'SALDO_PASIVO']].apply(pd.to_numeric)"
      ],
      "execution_count": 0,
      "outputs": []
    },
    {
      "metadata": {
        "id": "JizI9QiHw6qA",
        "colab_type": "code",
        "outputId": "3a9640bd-6dea-4549-b5b0-4075d0266f11",
        "colab": {
          "base_uri": "https://localhost:8080/",
          "height": 431
        }
      },
      "cell_type": "code",
      "source": [
        "trans.info()\n",
        "trans.columns"
      ],
      "execution_count": 79,
      "outputs": [
        {
          "output_type": "stream",
          "text": [
            "<class 'pandas.core.frame.DataFrame'>\n",
            "Int64Index: 2500 entries, 0 to 2499\n",
            "Data columns (total 13 columns):\n",
            "CLIENTE                2500 non-null object\n",
            "SALDO_AHORROS          2500 non-null float64\n",
            "SALDO_FONDOS           2500 non-null float64\n",
            "SALDO_CREDITO1         2500 non-null float64\n",
            "SALDO_CREDITO2         2500 non-null float64\n",
            "SALDO_TARJETA          2500 non-null float64\n",
            "MONTO_COMPRAS1         2500 non-null float64\n",
            "MONTO_CAJERO1          2500 non-null float64\n",
            "MONTO_COMPRAS2         2500 non-null float64\n",
            "MONTO_CAJERO2          2500 non-null float64\n",
            "MONTO_ABONOS_NOMINA    2500 non-null float64\n",
            "SALDO_ACTIVO           2500 non-null float64\n",
            "SALDO_PASIVO           2500 non-null float64\n",
            "dtypes: float64(12), object(1)\n",
            "memory usage: 353.4+ KB\n"
          ],
          "name": "stdout"
        },
        {
          "output_type": "execute_result",
          "data": {
            "text/plain": [
              "Index(['CLIENTE', 'SALDO_AHORROS', 'SALDO_FONDOS', 'SALDO_CREDITO1',\n",
              "       'SALDO_CREDITO2', 'SALDO_TARJETA', 'MONTO_COMPRAS1', 'MONTO_CAJERO1',\n",
              "       'MONTO_COMPRAS2', 'MONTO_CAJERO2', 'MONTO_ABONOS_NOMINA',\n",
              "       'SALDO_ACTIVO', 'SALDO_PASIVO'],\n",
              "      dtype='object')"
            ]
          },
          "metadata": {
            "tags": []
          },
          "execution_count": 79
        }
      ]
    },
    {
      "metadata": {
        "id": "CDnVO7Pe8CGN",
        "colab_type": "text"
      },
      "cell_type": "markdown",
      "source": [
        "**BASE COMPLETA DE CLIENTES:**"
      ]
    },
    {
      "metadata": {
        "id": "73UFsw774ouo",
        "colab_type": "code",
        "outputId": "dde004ac-696e-4a1f-d520-fc1debdb7217",
        "colab": {
          "base_uri": "https://localhost:8080/",
          "height": 253
        }
      },
      "cell_type": "code",
      "source": [
        "#Se crea una única base con todas las variables, tanto demograficas, como de sus transacciones\n",
        "clientes = pd.merge(df, trans, left_on=['CLIENTE_CC'], right_on=['CLIENTE'], how='left', sort=False)\n",
        "clientes.head()"
      ],
      "execution_count": 80,
      "outputs": [
        {
          "output_type": "execute_result",
          "data": {
            "text/html": [
              "<div>\n",
              "<style scoped>\n",
              "    .dataframe tbody tr th:only-of-type {\n",
              "        vertical-align: middle;\n",
              "    }\n",
              "\n",
              "    .dataframe tbody tr th {\n",
              "        vertical-align: top;\n",
              "    }\n",
              "\n",
              "    .dataframe thead th {\n",
              "        text-align: right;\n",
              "    }\n",
              "</style>\n",
              "<table border=\"1\" class=\"dataframe\">\n",
              "  <thead>\n",
              "    <tr style=\"text-align: right;\">\n",
              "      <th></th>\n",
              "      <th>CLIENTE_CC</th>\n",
              "      <th>FECHA_ALTA</th>\n",
              "      <th>FECHA_NACIMIENTO</th>\n",
              "      <th>SEXO</th>\n",
              "      <th>ESTADO_CIVIL</th>\n",
              "      <th>SITUACION_LABORAL</th>\n",
              "      <th>fuga</th>\n",
              "      <th>MES_DE_FUGA</th>\n",
              "      <th>ANTIGUEDAD</th>\n",
              "      <th>CLIENTE</th>\n",
              "      <th>...</th>\n",
              "      <th>SALDO_CREDITO1</th>\n",
              "      <th>SALDO_CREDITO2</th>\n",
              "      <th>SALDO_TARJETA</th>\n",
              "      <th>MONTO_COMPRAS1</th>\n",
              "      <th>MONTO_CAJERO1</th>\n",
              "      <th>MONTO_COMPRAS2</th>\n",
              "      <th>MONTO_CAJERO2</th>\n",
              "      <th>MONTO_ABONOS_NOMINA</th>\n",
              "      <th>SALDO_ACTIVO</th>\n",
              "      <th>SALDO_PASIVO</th>\n",
              "    </tr>\n",
              "  </thead>\n",
              "  <tbody>\n",
              "    <tr>\n",
              "      <th>0</th>\n",
              "      <td>1</td>\n",
              "      <td>1996-09-30</td>\n",
              "      <td>19300823</td>\n",
              "      <td>F</td>\n",
              "      <td>CASADO</td>\n",
              "      <td>OTROS</td>\n",
              "      <td>1.0</td>\n",
              "      <td>2.0</td>\n",
              "      <td>7367.0</td>\n",
              "      <td>1</td>\n",
              "      <td>...</td>\n",
              "      <td>0.000000e+00</td>\n",
              "      <td>0.0</td>\n",
              "      <td>0.000000</td>\n",
              "      <td>0.0</td>\n",
              "      <td>0.0</td>\n",
              "      <td>0.0</td>\n",
              "      <td>0.0</td>\n",
              "      <td>0.000000e+00</td>\n",
              "      <td>0.000000e+00</td>\n",
              "      <td>5620.096923</td>\n",
              "    </tr>\n",
              "    <tr>\n",
              "      <th>1</th>\n",
              "      <td>2</td>\n",
              "      <td>1986-05-01</td>\n",
              "      <td>19530630</td>\n",
              "      <td>M</td>\n",
              "      <td>UNION LIBRE</td>\n",
              "      <td>FIJO</td>\n",
              "      <td>0.0</td>\n",
              "      <td>NaN</td>\n",
              "      <td>11172.0</td>\n",
              "      <td>2</td>\n",
              "      <td>...</td>\n",
              "      <td>4.715257e+06</td>\n",
              "      <td>0.0</td>\n",
              "      <td>836643.769231</td>\n",
              "      <td>0.0</td>\n",
              "      <td>0.0</td>\n",
              "      <td>0.0</td>\n",
              "      <td>0.0</td>\n",
              "      <td>0.000000e+00</td>\n",
              "      <td>5.551901e+06</td>\n",
              "      <td>0.000000</td>\n",
              "    </tr>\n",
              "    <tr>\n",
              "      <th>2</th>\n",
              "      <td>3</td>\n",
              "      <td>1994-12-01</td>\n",
              "      <td>19540721</td>\n",
              "      <td>F</td>\n",
              "      <td>UNION LIBRE</td>\n",
              "      <td>OTROS</td>\n",
              "      <td>1.0</td>\n",
              "      <td>11.0</td>\n",
              "      <td>8036.0</td>\n",
              "      <td>3</td>\n",
              "      <td>...</td>\n",
              "      <td>1.184444e+06</td>\n",
              "      <td>0.0</td>\n",
              "      <td>0.000000</td>\n",
              "      <td>0.0</td>\n",
              "      <td>0.0</td>\n",
              "      <td>0.0</td>\n",
              "      <td>0.0</td>\n",
              "      <td>0.000000e+00</td>\n",
              "      <td>1.184444e+06</td>\n",
              "      <td>3340.000000</td>\n",
              "    </tr>\n",
              "    <tr>\n",
              "      <th>3</th>\n",
              "      <td>4</td>\n",
              "      <td>1997-08-27</td>\n",
              "      <td>19390503</td>\n",
              "      <td>M</td>\n",
              "      <td>CASADO</td>\n",
              "      <td>OTROS</td>\n",
              "      <td>0.0</td>\n",
              "      <td>NaN</td>\n",
              "      <td>7036.0</td>\n",
              "      <td>4</td>\n",
              "      <td>...</td>\n",
              "      <td>0.000000e+00</td>\n",
              "      <td>0.0</td>\n",
              "      <td>0.000000</td>\n",
              "      <td>0.0</td>\n",
              "      <td>0.0</td>\n",
              "      <td>5735800.0</td>\n",
              "      <td>22670000.0</td>\n",
              "      <td>1.205821e+06</td>\n",
              "      <td>0.000000e+00</td>\n",
              "      <td>620654.273846</td>\n",
              "    </tr>\n",
              "    <tr>\n",
              "      <th>4</th>\n",
              "      <td>5</td>\n",
              "      <td>1997-07-21</td>\n",
              "      <td>19311013</td>\n",
              "      <td>F</td>\n",
              "      <td>CASADO</td>\n",
              "      <td>AUTONOMO</td>\n",
              "      <td>0.0</td>\n",
              "      <td>NaN</td>\n",
              "      <td>7073.0</td>\n",
              "      <td>5</td>\n",
              "      <td>...</td>\n",
              "      <td>0.000000e+00</td>\n",
              "      <td>0.0</td>\n",
              "      <td>0.000000</td>\n",
              "      <td>0.0</td>\n",
              "      <td>0.0</td>\n",
              "      <td>0.0</td>\n",
              "      <td>0.0</td>\n",
              "      <td>0.000000e+00</td>\n",
              "      <td>0.000000e+00</td>\n",
              "      <td>419841.855385</td>\n",
              "    </tr>\n",
              "  </tbody>\n",
              "</table>\n",
              "<p>5 rows × 22 columns</p>\n",
              "</div>"
            ],
            "text/plain": [
              "  CLIENTE_CC FECHA_ALTA FECHA_NACIMIENTO SEXO ESTADO_CIVIL SITUACION_LABORAL  \\\n",
              "0          1 1996-09-30         19300823    F       CASADO             OTROS   \n",
              "1          2 1986-05-01         19530630    M  UNION LIBRE              FIJO   \n",
              "2          3 1994-12-01         19540721    F  UNION LIBRE             OTROS   \n",
              "3          4 1997-08-27         19390503    M       CASADO             OTROS   \n",
              "4          5 1997-07-21         19311013    F       CASADO          AUTONOMO   \n",
              "\n",
              "   fuga  MES_DE_FUGA  ANTIGUEDAD CLIENTE      ...        SALDO_CREDITO1  \\\n",
              "0   1.0          2.0      7367.0       1      ...          0.000000e+00   \n",
              "1   0.0          NaN     11172.0       2      ...          4.715257e+06   \n",
              "2   1.0         11.0      8036.0       3      ...          1.184444e+06   \n",
              "3   0.0          NaN      7036.0       4      ...          0.000000e+00   \n",
              "4   0.0          NaN      7073.0       5      ...          0.000000e+00   \n",
              "\n",
              "   SALDO_CREDITO2  SALDO_TARJETA  MONTO_COMPRAS1  MONTO_CAJERO1  \\\n",
              "0             0.0       0.000000             0.0            0.0   \n",
              "1             0.0  836643.769231             0.0            0.0   \n",
              "2             0.0       0.000000             0.0            0.0   \n",
              "3             0.0       0.000000             0.0            0.0   \n",
              "4             0.0       0.000000             0.0            0.0   \n",
              "\n",
              "   MONTO_COMPRAS2  MONTO_CAJERO2  MONTO_ABONOS_NOMINA  SALDO_ACTIVO  \\\n",
              "0             0.0            0.0         0.000000e+00  0.000000e+00   \n",
              "1             0.0            0.0         0.000000e+00  5.551901e+06   \n",
              "2             0.0            0.0         0.000000e+00  1.184444e+06   \n",
              "3       5735800.0     22670000.0         1.205821e+06  0.000000e+00   \n",
              "4             0.0            0.0         0.000000e+00  0.000000e+00   \n",
              "\n",
              "    SALDO_PASIVO  \n",
              "0    5620.096923  \n",
              "1       0.000000  \n",
              "2    3340.000000  \n",
              "3  620654.273846  \n",
              "4  419841.855385  \n",
              "\n",
              "[5 rows x 22 columns]"
            ]
          },
          "metadata": {
            "tags": []
          },
          "execution_count": 80
        }
      ]
    },
    {
      "metadata": {
        "id": "sI37Rbgc5__g",
        "colab_type": "code",
        "outputId": "57b43397-5788-4a79-a553-997ecb3327ff",
        "colab": {
          "base_uri": "https://localhost:8080/",
          "height": 224
        }
      },
      "cell_type": "code",
      "source": [
        "#se eliminan variables que no sirven para el modelo\n",
        "clientes.drop(['fuga', 'CLIENTE_CC','FECHA_ALTA','FECHA_NACIMIENTO'], axis=1).head()"
      ],
      "execution_count": 81,
      "outputs": [
        {
          "output_type": "execute_result",
          "data": {
            "text/html": [
              "<div>\n",
              "<style scoped>\n",
              "    .dataframe tbody tr th:only-of-type {\n",
              "        vertical-align: middle;\n",
              "    }\n",
              "\n",
              "    .dataframe tbody tr th {\n",
              "        vertical-align: top;\n",
              "    }\n",
              "\n",
              "    .dataframe thead th {\n",
              "        text-align: right;\n",
              "    }\n",
              "</style>\n",
              "<table border=\"1\" class=\"dataframe\">\n",
              "  <thead>\n",
              "    <tr style=\"text-align: right;\">\n",
              "      <th></th>\n",
              "      <th>SEXO</th>\n",
              "      <th>ESTADO_CIVIL</th>\n",
              "      <th>SITUACION_LABORAL</th>\n",
              "      <th>MES_DE_FUGA</th>\n",
              "      <th>ANTIGUEDAD</th>\n",
              "      <th>CLIENTE</th>\n",
              "      <th>SALDO_AHORROS</th>\n",
              "      <th>SALDO_FONDOS</th>\n",
              "      <th>SALDO_CREDITO1</th>\n",
              "      <th>SALDO_CREDITO2</th>\n",
              "      <th>SALDO_TARJETA</th>\n",
              "      <th>MONTO_COMPRAS1</th>\n",
              "      <th>MONTO_CAJERO1</th>\n",
              "      <th>MONTO_COMPRAS2</th>\n",
              "      <th>MONTO_CAJERO2</th>\n",
              "      <th>MONTO_ABONOS_NOMINA</th>\n",
              "      <th>SALDO_ACTIVO</th>\n",
              "      <th>SALDO_PASIVO</th>\n",
              "    </tr>\n",
              "  </thead>\n",
              "  <tbody>\n",
              "    <tr>\n",
              "      <th>0</th>\n",
              "      <td>F</td>\n",
              "      <td>CASADO</td>\n",
              "      <td>OTROS</td>\n",
              "      <td>2.0</td>\n",
              "      <td>7367.0</td>\n",
              "      <td>1</td>\n",
              "      <td>5620.096923</td>\n",
              "      <td>0.0</td>\n",
              "      <td>0.000000e+00</td>\n",
              "      <td>0.0</td>\n",
              "      <td>0.000000</td>\n",
              "      <td>0.0</td>\n",
              "      <td>0.0</td>\n",
              "      <td>0.0</td>\n",
              "      <td>0.0</td>\n",
              "      <td>0.000000e+00</td>\n",
              "      <td>0.000000e+00</td>\n",
              "      <td>5620.096923</td>\n",
              "    </tr>\n",
              "    <tr>\n",
              "      <th>1</th>\n",
              "      <td>M</td>\n",
              "      <td>UNION LIBRE</td>\n",
              "      <td>FIJO</td>\n",
              "      <td>NaN</td>\n",
              "      <td>11172.0</td>\n",
              "      <td>2</td>\n",
              "      <td>0.000000</td>\n",
              "      <td>0.0</td>\n",
              "      <td>4.715257e+06</td>\n",
              "      <td>0.0</td>\n",
              "      <td>836643.769231</td>\n",
              "      <td>0.0</td>\n",
              "      <td>0.0</td>\n",
              "      <td>0.0</td>\n",
              "      <td>0.0</td>\n",
              "      <td>0.000000e+00</td>\n",
              "      <td>5.551901e+06</td>\n",
              "      <td>0.000000</td>\n",
              "    </tr>\n",
              "    <tr>\n",
              "      <th>2</th>\n",
              "      <td>F</td>\n",
              "      <td>UNION LIBRE</td>\n",
              "      <td>OTROS</td>\n",
              "      <td>11.0</td>\n",
              "      <td>8036.0</td>\n",
              "      <td>3</td>\n",
              "      <td>3340.000000</td>\n",
              "      <td>0.0</td>\n",
              "      <td>1.184444e+06</td>\n",
              "      <td>0.0</td>\n",
              "      <td>0.000000</td>\n",
              "      <td>0.0</td>\n",
              "      <td>0.0</td>\n",
              "      <td>0.0</td>\n",
              "      <td>0.0</td>\n",
              "      <td>0.000000e+00</td>\n",
              "      <td>1.184444e+06</td>\n",
              "      <td>3340.000000</td>\n",
              "    </tr>\n",
              "    <tr>\n",
              "      <th>3</th>\n",
              "      <td>M</td>\n",
              "      <td>CASADO</td>\n",
              "      <td>OTROS</td>\n",
              "      <td>NaN</td>\n",
              "      <td>7036.0</td>\n",
              "      <td>4</td>\n",
              "      <td>620654.307692</td>\n",
              "      <td>0.0</td>\n",
              "      <td>0.000000e+00</td>\n",
              "      <td>0.0</td>\n",
              "      <td>0.000000</td>\n",
              "      <td>0.0</td>\n",
              "      <td>0.0</td>\n",
              "      <td>5735800.0</td>\n",
              "      <td>22670000.0</td>\n",
              "      <td>1.205821e+06</td>\n",
              "      <td>0.000000e+00</td>\n",
              "      <td>620654.273846</td>\n",
              "    </tr>\n",
              "    <tr>\n",
              "      <th>4</th>\n",
              "      <td>F</td>\n",
              "      <td>CASADO</td>\n",
              "      <td>AUTONOMO</td>\n",
              "      <td>NaN</td>\n",
              "      <td>7073.0</td>\n",
              "      <td>5</td>\n",
              "      <td>175402.692308</td>\n",
              "      <td>0.0</td>\n",
              "      <td>0.000000e+00</td>\n",
              "      <td>0.0</td>\n",
              "      <td>0.000000</td>\n",
              "      <td>0.0</td>\n",
              "      <td>0.0</td>\n",
              "      <td>0.0</td>\n",
              "      <td>0.0</td>\n",
              "      <td>0.000000e+00</td>\n",
              "      <td>0.000000e+00</td>\n",
              "      <td>419841.855385</td>\n",
              "    </tr>\n",
              "  </tbody>\n",
              "</table>\n",
              "</div>"
            ],
            "text/plain": [
              "  SEXO ESTADO_CIVIL SITUACION_LABORAL  MES_DE_FUGA  ANTIGUEDAD CLIENTE  \\\n",
              "0    F       CASADO             OTROS          2.0      7367.0       1   \n",
              "1    M  UNION LIBRE              FIJO          NaN     11172.0       2   \n",
              "2    F  UNION LIBRE             OTROS         11.0      8036.0       3   \n",
              "3    M       CASADO             OTROS          NaN      7036.0       4   \n",
              "4    F       CASADO          AUTONOMO          NaN      7073.0       5   \n",
              "\n",
              "   SALDO_AHORROS  SALDO_FONDOS  SALDO_CREDITO1  SALDO_CREDITO2  SALDO_TARJETA  \\\n",
              "0    5620.096923           0.0    0.000000e+00             0.0       0.000000   \n",
              "1       0.000000           0.0    4.715257e+06             0.0  836643.769231   \n",
              "2    3340.000000           0.0    1.184444e+06             0.0       0.000000   \n",
              "3  620654.307692           0.0    0.000000e+00             0.0       0.000000   \n",
              "4  175402.692308           0.0    0.000000e+00             0.0       0.000000   \n",
              "\n",
              "   MONTO_COMPRAS1  MONTO_CAJERO1  MONTO_COMPRAS2  MONTO_CAJERO2  \\\n",
              "0             0.0            0.0             0.0            0.0   \n",
              "1             0.0            0.0             0.0            0.0   \n",
              "2             0.0            0.0             0.0            0.0   \n",
              "3             0.0            0.0       5735800.0     22670000.0   \n",
              "4             0.0            0.0             0.0            0.0   \n",
              "\n",
              "   MONTO_ABONOS_NOMINA  SALDO_ACTIVO   SALDO_PASIVO  \n",
              "0         0.000000e+00  0.000000e+00    5620.096923  \n",
              "1         0.000000e+00  5.551901e+06       0.000000  \n",
              "2         0.000000e+00  1.184444e+06    3340.000000  \n",
              "3         1.205821e+06  0.000000e+00  620654.273846  \n",
              "4         0.000000e+00  0.000000e+00  419841.855385  "
            ]
          },
          "metadata": {
            "tags": []
          },
          "execution_count": 81
        }
      ]
    },
    {
      "metadata": {
        "id": "ng9Ritpe8WkM",
        "colab_type": "text"
      },
      "cell_type": "markdown",
      "source": [
        "**CREACION DE DUMMIES DE LAS VARIABLES CATEGORICAS**"
      ]
    },
    {
      "metadata": {
        "id": "09Xs7Xwy-dAj",
        "colab_type": "code",
        "colab": {}
      },
      "cell_type": "code",
      "source": [
        "#VARIABLE SEXO\n",
        "clientes['SEXO'].replace(['F','M'],['1','0'],inplace=True)\n",
        "clientes['SEXO'] = clientes['SEXO'].apply(pd.to_numeric)"
      ],
      "execution_count": 0,
      "outputs": []
    },
    {
      "metadata": {
        "id": "ClHQRMPq7e0Z",
        "colab_type": "code",
        "outputId": "c2d015e5-f56d-481b-80fe-ca1ca509721d",
        "colab": {
          "base_uri": "https://localhost:8080/",
          "height": 270
        }
      },
      "cell_type": "code",
      "source": [
        "#Agrego las variables DUMMIES a la base\n",
        "clientes2 = pd.concat([clientes, pd.get_dummies(clientes[['ESTADO_CIVIL','SITUACION_LABORAL']])], axis=1)\n",
        "clientes2.head()"
      ],
      "execution_count": 83,
      "outputs": [
        {
          "output_type": "execute_result",
          "data": {
            "text/html": [
              "<div>\n",
              "<style scoped>\n",
              "    .dataframe tbody tr th:only-of-type {\n",
              "        vertical-align: middle;\n",
              "    }\n",
              "\n",
              "    .dataframe tbody tr th {\n",
              "        vertical-align: top;\n",
              "    }\n",
              "\n",
              "    .dataframe thead th {\n",
              "        text-align: right;\n",
              "    }\n",
              "</style>\n",
              "<table border=\"1\" class=\"dataframe\">\n",
              "  <thead>\n",
              "    <tr style=\"text-align: right;\">\n",
              "      <th></th>\n",
              "      <th>CLIENTE_CC</th>\n",
              "      <th>FECHA_ALTA</th>\n",
              "      <th>FECHA_NACIMIENTO</th>\n",
              "      <th>SEXO</th>\n",
              "      <th>ESTADO_CIVIL</th>\n",
              "      <th>SITUACION_LABORAL</th>\n",
              "      <th>fuga</th>\n",
              "      <th>MES_DE_FUGA</th>\n",
              "      <th>ANTIGUEDAD</th>\n",
              "      <th>CLIENTE</th>\n",
              "      <th>...</th>\n",
              "      <th>ESTADO_CIVIL_DIVORCIADO</th>\n",
              "      <th>ESTADO_CIVIL_SEPARADO</th>\n",
              "      <th>ESTADO_CIVIL_SOLTERO</th>\n",
              "      <th>ESTADO_CIVIL_UNION LIBRE</th>\n",
              "      <th>ESTADO_CIVIL_VIUDO</th>\n",
              "      <th>SITUACION_LABORAL_AUTONOMO</th>\n",
              "      <th>SITUACION_LABORAL_DESCONOCIDO</th>\n",
              "      <th>SITUACION_LABORAL_FIJO</th>\n",
              "      <th>SITUACION_LABORAL_OTROS</th>\n",
              "      <th>SITUACION_LABORAL_TEMPORAL</th>\n",
              "    </tr>\n",
              "  </thead>\n",
              "  <tbody>\n",
              "    <tr>\n",
              "      <th>0</th>\n",
              "      <td>1</td>\n",
              "      <td>1996-09-30</td>\n",
              "      <td>19300823</td>\n",
              "      <td>1</td>\n",
              "      <td>CASADO</td>\n",
              "      <td>OTROS</td>\n",
              "      <td>1.0</td>\n",
              "      <td>2.0</td>\n",
              "      <td>7367.0</td>\n",
              "      <td>1</td>\n",
              "      <td>...</td>\n",
              "      <td>0</td>\n",
              "      <td>0</td>\n",
              "      <td>0</td>\n",
              "      <td>0</td>\n",
              "      <td>0</td>\n",
              "      <td>0</td>\n",
              "      <td>0</td>\n",
              "      <td>0</td>\n",
              "      <td>1</td>\n",
              "      <td>0</td>\n",
              "    </tr>\n",
              "    <tr>\n",
              "      <th>1</th>\n",
              "      <td>2</td>\n",
              "      <td>1986-05-01</td>\n",
              "      <td>19530630</td>\n",
              "      <td>0</td>\n",
              "      <td>UNION LIBRE</td>\n",
              "      <td>FIJO</td>\n",
              "      <td>0.0</td>\n",
              "      <td>NaN</td>\n",
              "      <td>11172.0</td>\n",
              "      <td>2</td>\n",
              "      <td>...</td>\n",
              "      <td>0</td>\n",
              "      <td>0</td>\n",
              "      <td>0</td>\n",
              "      <td>1</td>\n",
              "      <td>0</td>\n",
              "      <td>0</td>\n",
              "      <td>0</td>\n",
              "      <td>1</td>\n",
              "      <td>0</td>\n",
              "      <td>0</td>\n",
              "    </tr>\n",
              "    <tr>\n",
              "      <th>2</th>\n",
              "      <td>3</td>\n",
              "      <td>1994-12-01</td>\n",
              "      <td>19540721</td>\n",
              "      <td>1</td>\n",
              "      <td>UNION LIBRE</td>\n",
              "      <td>OTROS</td>\n",
              "      <td>1.0</td>\n",
              "      <td>11.0</td>\n",
              "      <td>8036.0</td>\n",
              "      <td>3</td>\n",
              "      <td>...</td>\n",
              "      <td>0</td>\n",
              "      <td>0</td>\n",
              "      <td>0</td>\n",
              "      <td>1</td>\n",
              "      <td>0</td>\n",
              "      <td>0</td>\n",
              "      <td>0</td>\n",
              "      <td>0</td>\n",
              "      <td>1</td>\n",
              "      <td>0</td>\n",
              "    </tr>\n",
              "    <tr>\n",
              "      <th>3</th>\n",
              "      <td>4</td>\n",
              "      <td>1997-08-27</td>\n",
              "      <td>19390503</td>\n",
              "      <td>0</td>\n",
              "      <td>CASADO</td>\n",
              "      <td>OTROS</td>\n",
              "      <td>0.0</td>\n",
              "      <td>NaN</td>\n",
              "      <td>7036.0</td>\n",
              "      <td>4</td>\n",
              "      <td>...</td>\n",
              "      <td>0</td>\n",
              "      <td>0</td>\n",
              "      <td>0</td>\n",
              "      <td>0</td>\n",
              "      <td>0</td>\n",
              "      <td>0</td>\n",
              "      <td>0</td>\n",
              "      <td>0</td>\n",
              "      <td>1</td>\n",
              "      <td>0</td>\n",
              "    </tr>\n",
              "    <tr>\n",
              "      <th>4</th>\n",
              "      <td>5</td>\n",
              "      <td>1997-07-21</td>\n",
              "      <td>19311013</td>\n",
              "      <td>1</td>\n",
              "      <td>CASADO</td>\n",
              "      <td>AUTONOMO</td>\n",
              "      <td>0.0</td>\n",
              "      <td>NaN</td>\n",
              "      <td>7073.0</td>\n",
              "      <td>5</td>\n",
              "      <td>...</td>\n",
              "      <td>0</td>\n",
              "      <td>0</td>\n",
              "      <td>0</td>\n",
              "      <td>0</td>\n",
              "      <td>0</td>\n",
              "      <td>1</td>\n",
              "      <td>0</td>\n",
              "      <td>0</td>\n",
              "      <td>0</td>\n",
              "      <td>0</td>\n",
              "    </tr>\n",
              "  </tbody>\n",
              "</table>\n",
              "<p>5 rows × 33 columns</p>\n",
              "</div>"
            ],
            "text/plain": [
              "  CLIENTE_CC FECHA_ALTA FECHA_NACIMIENTO  SEXO ESTADO_CIVIL SITUACION_LABORAL  \\\n",
              "0          1 1996-09-30         19300823     1       CASADO             OTROS   \n",
              "1          2 1986-05-01         19530630     0  UNION LIBRE              FIJO   \n",
              "2          3 1994-12-01         19540721     1  UNION LIBRE             OTROS   \n",
              "3          4 1997-08-27         19390503     0       CASADO             OTROS   \n",
              "4          5 1997-07-21         19311013     1       CASADO          AUTONOMO   \n",
              "\n",
              "   fuga  MES_DE_FUGA  ANTIGUEDAD CLIENTE             ...              \\\n",
              "0   1.0          2.0      7367.0       1             ...               \n",
              "1   0.0          NaN     11172.0       2             ...               \n",
              "2   1.0         11.0      8036.0       3             ...               \n",
              "3   0.0          NaN      7036.0       4             ...               \n",
              "4   0.0          NaN      7073.0       5             ...               \n",
              "\n",
              "   ESTADO_CIVIL_DIVORCIADO  ESTADO_CIVIL_SEPARADO  ESTADO_CIVIL_SOLTERO  \\\n",
              "0                        0                      0                     0   \n",
              "1                        0                      0                     0   \n",
              "2                        0                      0                     0   \n",
              "3                        0                      0                     0   \n",
              "4                        0                      0                     0   \n",
              "\n",
              "   ESTADO_CIVIL_UNION LIBRE  ESTADO_CIVIL_VIUDO  SITUACION_LABORAL_AUTONOMO  \\\n",
              "0                         0                   0                           0   \n",
              "1                         1                   0                           0   \n",
              "2                         1                   0                           0   \n",
              "3                         0                   0                           0   \n",
              "4                         0                   0                           1   \n",
              "\n",
              "   SITUACION_LABORAL_DESCONOCIDO  SITUACION_LABORAL_FIJO  \\\n",
              "0                              0                       0   \n",
              "1                              0                       1   \n",
              "2                              0                       0   \n",
              "3                              0                       0   \n",
              "4                              0                       0   \n",
              "\n",
              "   SITUACION_LABORAL_OTROS  SITUACION_LABORAL_TEMPORAL  \n",
              "0                        1                           0  \n",
              "1                        0                           0  \n",
              "2                        1                           0  \n",
              "3                        1                           0  \n",
              "4                        0                           0  \n",
              "\n",
              "[5 rows x 33 columns]"
            ]
          },
          "metadata": {
            "tags": []
          },
          "execution_count": 83
        }
      ]
    },
    {
      "metadata": {
        "id": "F6xZdNOUC_vg",
        "colab_type": "code",
        "outputId": "17c8d5c2-19ad-4cff-ace0-e2683fbe2c39",
        "colab": {
          "base_uri": "https://localhost:8080/",
          "height": 270
        }
      },
      "cell_type": "code",
      "source": [
        "#Elimino las variables categoricas\n",
        "cl = clientes2.drop(['CLIENTE_CC','FECHA_ALTA','FECHA_NACIMIENTO','ESTADO_CIVIL','SITUACION_LABORAL','MES_DE_FUGA','CLIENTE'], axis=1)\n",
        "cl.head()"
      ],
      "execution_count": 84,
      "outputs": [
        {
          "output_type": "execute_result",
          "data": {
            "text/html": [
              "<div>\n",
              "<style scoped>\n",
              "    .dataframe tbody tr th:only-of-type {\n",
              "        vertical-align: middle;\n",
              "    }\n",
              "\n",
              "    .dataframe tbody tr th {\n",
              "        vertical-align: top;\n",
              "    }\n",
              "\n",
              "    .dataframe thead th {\n",
              "        text-align: right;\n",
              "    }\n",
              "</style>\n",
              "<table border=\"1\" class=\"dataframe\">\n",
              "  <thead>\n",
              "    <tr style=\"text-align: right;\">\n",
              "      <th></th>\n",
              "      <th>SEXO</th>\n",
              "      <th>fuga</th>\n",
              "      <th>ANTIGUEDAD</th>\n",
              "      <th>SALDO_AHORROS</th>\n",
              "      <th>SALDO_FONDOS</th>\n",
              "      <th>SALDO_CREDITO1</th>\n",
              "      <th>SALDO_CREDITO2</th>\n",
              "      <th>SALDO_TARJETA</th>\n",
              "      <th>MONTO_COMPRAS1</th>\n",
              "      <th>MONTO_CAJERO1</th>\n",
              "      <th>...</th>\n",
              "      <th>ESTADO_CIVIL_DIVORCIADO</th>\n",
              "      <th>ESTADO_CIVIL_SEPARADO</th>\n",
              "      <th>ESTADO_CIVIL_SOLTERO</th>\n",
              "      <th>ESTADO_CIVIL_UNION LIBRE</th>\n",
              "      <th>ESTADO_CIVIL_VIUDO</th>\n",
              "      <th>SITUACION_LABORAL_AUTONOMO</th>\n",
              "      <th>SITUACION_LABORAL_DESCONOCIDO</th>\n",
              "      <th>SITUACION_LABORAL_FIJO</th>\n",
              "      <th>SITUACION_LABORAL_OTROS</th>\n",
              "      <th>SITUACION_LABORAL_TEMPORAL</th>\n",
              "    </tr>\n",
              "  </thead>\n",
              "  <tbody>\n",
              "    <tr>\n",
              "      <th>0</th>\n",
              "      <td>1</td>\n",
              "      <td>1.0</td>\n",
              "      <td>7367.0</td>\n",
              "      <td>5620.096923</td>\n",
              "      <td>0.0</td>\n",
              "      <td>0.000000e+00</td>\n",
              "      <td>0.0</td>\n",
              "      <td>0.000000</td>\n",
              "      <td>0.0</td>\n",
              "      <td>0.0</td>\n",
              "      <td>...</td>\n",
              "      <td>0</td>\n",
              "      <td>0</td>\n",
              "      <td>0</td>\n",
              "      <td>0</td>\n",
              "      <td>0</td>\n",
              "      <td>0</td>\n",
              "      <td>0</td>\n",
              "      <td>0</td>\n",
              "      <td>1</td>\n",
              "      <td>0</td>\n",
              "    </tr>\n",
              "    <tr>\n",
              "      <th>1</th>\n",
              "      <td>0</td>\n",
              "      <td>0.0</td>\n",
              "      <td>11172.0</td>\n",
              "      <td>0.000000</td>\n",
              "      <td>0.0</td>\n",
              "      <td>4.715257e+06</td>\n",
              "      <td>0.0</td>\n",
              "      <td>836643.769231</td>\n",
              "      <td>0.0</td>\n",
              "      <td>0.0</td>\n",
              "      <td>...</td>\n",
              "      <td>0</td>\n",
              "      <td>0</td>\n",
              "      <td>0</td>\n",
              "      <td>1</td>\n",
              "      <td>0</td>\n",
              "      <td>0</td>\n",
              "      <td>0</td>\n",
              "      <td>1</td>\n",
              "      <td>0</td>\n",
              "      <td>0</td>\n",
              "    </tr>\n",
              "    <tr>\n",
              "      <th>2</th>\n",
              "      <td>1</td>\n",
              "      <td>1.0</td>\n",
              "      <td>8036.0</td>\n",
              "      <td>3340.000000</td>\n",
              "      <td>0.0</td>\n",
              "      <td>1.184444e+06</td>\n",
              "      <td>0.0</td>\n",
              "      <td>0.000000</td>\n",
              "      <td>0.0</td>\n",
              "      <td>0.0</td>\n",
              "      <td>...</td>\n",
              "      <td>0</td>\n",
              "      <td>0</td>\n",
              "      <td>0</td>\n",
              "      <td>1</td>\n",
              "      <td>0</td>\n",
              "      <td>0</td>\n",
              "      <td>0</td>\n",
              "      <td>0</td>\n",
              "      <td>1</td>\n",
              "      <td>0</td>\n",
              "    </tr>\n",
              "    <tr>\n",
              "      <th>3</th>\n",
              "      <td>0</td>\n",
              "      <td>0.0</td>\n",
              "      <td>7036.0</td>\n",
              "      <td>620654.307692</td>\n",
              "      <td>0.0</td>\n",
              "      <td>0.000000e+00</td>\n",
              "      <td>0.0</td>\n",
              "      <td>0.000000</td>\n",
              "      <td>0.0</td>\n",
              "      <td>0.0</td>\n",
              "      <td>...</td>\n",
              "      <td>0</td>\n",
              "      <td>0</td>\n",
              "      <td>0</td>\n",
              "      <td>0</td>\n",
              "      <td>0</td>\n",
              "      <td>0</td>\n",
              "      <td>0</td>\n",
              "      <td>0</td>\n",
              "      <td>1</td>\n",
              "      <td>0</td>\n",
              "    </tr>\n",
              "    <tr>\n",
              "      <th>4</th>\n",
              "      <td>1</td>\n",
              "      <td>0.0</td>\n",
              "      <td>7073.0</td>\n",
              "      <td>175402.692308</td>\n",
              "      <td>0.0</td>\n",
              "      <td>0.000000e+00</td>\n",
              "      <td>0.0</td>\n",
              "      <td>0.000000</td>\n",
              "      <td>0.0</td>\n",
              "      <td>0.0</td>\n",
              "      <td>...</td>\n",
              "      <td>0</td>\n",
              "      <td>0</td>\n",
              "      <td>0</td>\n",
              "      <td>0</td>\n",
              "      <td>0</td>\n",
              "      <td>1</td>\n",
              "      <td>0</td>\n",
              "      <td>0</td>\n",
              "      <td>0</td>\n",
              "      <td>0</td>\n",
              "    </tr>\n",
              "  </tbody>\n",
              "</table>\n",
              "<p>5 rows × 26 columns</p>\n",
              "</div>"
            ],
            "text/plain": [
              "   SEXO  fuga  ANTIGUEDAD  SALDO_AHORROS  SALDO_FONDOS  SALDO_CREDITO1  \\\n",
              "0     1   1.0      7367.0    5620.096923           0.0    0.000000e+00   \n",
              "1     0   0.0     11172.0       0.000000           0.0    4.715257e+06   \n",
              "2     1   1.0      8036.0    3340.000000           0.0    1.184444e+06   \n",
              "3     0   0.0      7036.0  620654.307692           0.0    0.000000e+00   \n",
              "4     1   0.0      7073.0  175402.692308           0.0    0.000000e+00   \n",
              "\n",
              "   SALDO_CREDITO2  SALDO_TARJETA  MONTO_COMPRAS1  MONTO_CAJERO1  \\\n",
              "0             0.0       0.000000             0.0            0.0   \n",
              "1             0.0  836643.769231             0.0            0.0   \n",
              "2             0.0       0.000000             0.0            0.0   \n",
              "3             0.0       0.000000             0.0            0.0   \n",
              "4             0.0       0.000000             0.0            0.0   \n",
              "\n",
              "              ...              ESTADO_CIVIL_DIVORCIADO  ESTADO_CIVIL_SEPARADO  \\\n",
              "0             ...                                    0                      0   \n",
              "1             ...                                    0                      0   \n",
              "2             ...                                    0                      0   \n",
              "3             ...                                    0                      0   \n",
              "4             ...                                    0                      0   \n",
              "\n",
              "   ESTADO_CIVIL_SOLTERO  ESTADO_CIVIL_UNION LIBRE  ESTADO_CIVIL_VIUDO  \\\n",
              "0                     0                         0                   0   \n",
              "1                     0                         1                   0   \n",
              "2                     0                         1                   0   \n",
              "3                     0                         0                   0   \n",
              "4                     0                         0                   0   \n",
              "\n",
              "   SITUACION_LABORAL_AUTONOMO  SITUACION_LABORAL_DESCONOCIDO  \\\n",
              "0                           0                              0   \n",
              "1                           0                              0   \n",
              "2                           0                              0   \n",
              "3                           0                              0   \n",
              "4                           1                              0   \n",
              "\n",
              "   SITUACION_LABORAL_FIJO  SITUACION_LABORAL_OTROS  SITUACION_LABORAL_TEMPORAL  \n",
              "0                       0                        1                           0  \n",
              "1                       1                        0                           0  \n",
              "2                       0                        1                           0  \n",
              "3                       0                        1                           0  \n",
              "4                       0                        0                           0  \n",
              "\n",
              "[5 rows x 26 columns]"
            ]
          },
          "metadata": {
            "tags": []
          },
          "execution_count": 84
        }
      ]
    },
    {
      "metadata": {
        "id": "FFLtqR4gHNAM",
        "colab_type": "code",
        "outputId": "66494ef2-c416-4617-e1b1-d5d2b789f6e0",
        "colab": {
          "base_uri": "https://localhost:8080/",
          "height": 575
        }
      },
      "cell_type": "code",
      "source": [
        "cl.info()"
      ],
      "execution_count": 85,
      "outputs": [
        {
          "output_type": "stream",
          "text": [
            "<class 'pandas.core.frame.DataFrame'>\n",
            "Int64Index: 2500 entries, 0 to 2499\n",
            "Data columns (total 26 columns):\n",
            "SEXO                             2500 non-null int64\n",
            "fuga                             2500 non-null float64\n",
            "ANTIGUEDAD                       2500 non-null float64\n",
            "SALDO_AHORROS                    2500 non-null float64\n",
            "SALDO_FONDOS                     2500 non-null float64\n",
            "SALDO_CREDITO1                   2500 non-null float64\n",
            "SALDO_CREDITO2                   2500 non-null float64\n",
            "SALDO_TARJETA                    2500 non-null float64\n",
            "MONTO_COMPRAS1                   2500 non-null float64\n",
            "MONTO_CAJERO1                    2500 non-null float64\n",
            "MONTO_COMPRAS2                   2500 non-null float64\n",
            "MONTO_CAJERO2                    2500 non-null float64\n",
            "MONTO_ABONOS_NOMINA              2500 non-null float64\n",
            "SALDO_ACTIVO                     2500 non-null float64\n",
            "SALDO_PASIVO                     2500 non-null float64\n",
            "ESTADO_CIVIL_CASADO              2500 non-null uint8\n",
            "ESTADO_CIVIL_DIVORCIADO          2500 non-null uint8\n",
            "ESTADO_CIVIL_SEPARADO            2500 non-null uint8\n",
            "ESTADO_CIVIL_SOLTERO             2500 non-null uint8\n",
            "ESTADO_CIVIL_UNION LIBRE         2500 non-null uint8\n",
            "ESTADO_CIVIL_VIUDO               2500 non-null uint8\n",
            "SITUACION_LABORAL_AUTONOMO       2500 non-null uint8\n",
            "SITUACION_LABORAL_DESCONOCIDO    2500 non-null uint8\n",
            "SITUACION_LABORAL_FIJO           2500 non-null uint8\n",
            "SITUACION_LABORAL_OTROS          2500 non-null uint8\n",
            "SITUACION_LABORAL_TEMPORAL       2500 non-null uint8\n",
            "dtypes: float64(14), int64(1), uint8(11)\n",
            "memory usage: 339.4 KB\n"
          ],
          "name": "stdout"
        }
      ]
    },
    {
      "metadata": {
        "id": "goX2U0PU8zC_",
        "colab_type": "text"
      },
      "cell_type": "markdown",
      "source": [
        "###ANÁLISIS DE VARIABLES:"
      ]
    },
    {
      "metadata": {
        "id": "ivVqzk6K83tv",
        "colab_type": "text"
      },
      "cell_type": "markdown",
      "source": [
        "Para analizar las variables se realiza un modelo de** RANDOM FOREST** con el cual tendremos un valor relativo de importancia de cada variable:"
      ]
    },
    {
      "metadata": {
        "id": "6ygAd2EN7ehI",
        "colab_type": "code",
        "outputId": "744b1edb-0cbe-46b8-e3e4-9df90e02ec18",
        "colab": {
          "base_uri": "https://localhost:8080/",
          "height": 126
        }
      },
      "cell_type": "code",
      "source": [
        "#MODELO RANDOM FOREST CLASSIFIER\n",
        "from sklearn.ensemble import RandomForestClassifier\n",
        "rnd_clf = RandomForestClassifier(n_estimators=1000, n_jobs=-1, random_state=42)\n",
        "rnd_clf.fit(cl.drop(['fuga'], axis=1), cl['fuga'])"
      ],
      "execution_count": 0,
      "outputs": [
        {
          "output_type": "execute_result",
          "data": {
            "text/plain": [
              "RandomForestClassifier(bootstrap=True, class_weight=None, criterion='gini',\n",
              "            max_depth=None, max_features='auto', max_leaf_nodes=None,\n",
              "            min_impurity_decrease=0.0, min_impurity_split=None,\n",
              "            min_samples_leaf=1, min_samples_split=2,\n",
              "            min_weight_fraction_leaf=0.0, n_estimators=1000, n_jobs=-1,\n",
              "            oob_score=False, random_state=42, verbose=0, warm_start=False)"
            ]
          },
          "metadata": {
            "tags": []
          },
          "execution_count": 92
        }
      ]
    },
    {
      "metadata": {
        "id": "bmK02qIa9Rav",
        "colab_type": "text"
      },
      "cell_type": "markdown",
      "source": [
        "**IMPORTANCIA RELATIVA DE LAS VARIABLES:**"
      ]
    },
    {
      "metadata": {
        "id": "VMYsAnDUEkpO",
        "colab_type": "code",
        "outputId": "4393751b-ba6b-4388-a00d-c4f76864f168",
        "colab": {
          "base_uri": "https://localhost:8080/",
          "height": 472
        }
      },
      "cell_type": "code",
      "source": [
        "for name, importance in zip(cl.drop(['fuga'], axis=1).columns, rnd_clf.feature_importances_):\n",
        "  print(name, \"=\", importance)"
      ],
      "execution_count": 0,
      "outputs": [
        {
          "output_type": "stream",
          "text": [
            "SEXO = 0.015091369176382256\n",
            "ANTIGUEDAD = 0.09153818996849337\n",
            "SALDO_AHORROS = 0.1107920023137841\n",
            "SALDO_FONDOS = 0.01243912933260683\n",
            "SALDO_CREDITO1 = 0.06585459711206545\n",
            "SALDO_CREDITO2 = 0.008914268270799301\n",
            "SALDO_TARJETA = 0.04396051397668648\n",
            "MONTO_COMPRAS1 = 0.03389243990404536\n",
            "MONTO_CAJERO1 = 0.01925832425971412\n",
            "MONTO_COMPRAS2 = 0.033635131078156105\n",
            "MONTO_CAJERO2 = 0.07759835554950813\n",
            "MONTO_ABONOS_NOMINA = 0.12407556298702815\n",
            "SALDO_ACTIVO = 0.13957523014118917\n",
            "SALDO_PASIVO = 0.13591791577654377\n",
            "ESTADO_CIVIL_CASADO = 0.0107295932104169\n",
            "ESTADO_CIVIL_DIVORCIADO = 0.003550806053138717\n",
            "ESTADO_CIVIL_SEPARADO = 0.00477824792703403\n",
            "ESTADO_CIVIL_SOLTERO = 0.011050647710284562\n",
            "ESTADO_CIVIL_UNION LIBRE = 0.008045833954823696\n",
            "ESTADO_CIVIL_VIUDO = 0.003621930138653054\n",
            "SITUACION_LABORAL_AUTONOMO = 0.005909806822000896\n",
            "SITUACION_LABORAL_DESCONOCIDO = 0.004452671643434912\n",
            "SITUACION_LABORAL_FIJO = 0.010861715660983238\n",
            "SITUACION_LABORAL_OTROS = 0.015265119384937001\n",
            "SITUACION_LABORAL_TEMPORAL = 0.009190597647290128\n"
          ],
          "name": "stdout"
        }
      ]
    },
    {
      "metadata": {
        "id": "zqmQlbbQFdHD",
        "colab_type": "code",
        "outputId": "9a01e428-2cee-42a8-cfb0-3bb17da8152c",
        "colab": {
          "base_uri": "https://localhost:8080/",
          "height": 376
        }
      },
      "cell_type": "code",
      "source": [
        "features = cl.drop(['fuga'], axis=1).columns\n",
        "importances = rnd_clf.feature_importances_\n",
        "indices = np.argsort(importances)\n",
        "\n",
        "plt.title('Feature Importances')\n",
        "plt.barh(range(len(indices)), importances[indices], color='b', align='center')\n",
        "plt.yticks(range(len(indices)), [features[i] for i in indices])\n",
        "plt.xlabel('Relative Importance')\n",
        "plt.show()"
      ],
      "execution_count": 0,
      "outputs": [
        {
          "output_type": "display_data",
          "data": {
            "image/png": "[encoded data removed]",
            "text/plain": [
              "<Figure size 576x396 with 1 Axes>"
            ]
          },
          "metadata": {
            "tags": []
          }
        }
      ]
    },
    {
      "metadata": {
        "id": "MXnghW2d9Z4U",
        "colab_type": "text"
      },
      "cell_type": "markdown",
      "source": [
        "Segun el modelo, las variables más importantes, o las que mejor pueden explicar la variabilidad de la FUGA de los clientes, son \n",
        "- SALDO ACTIVO\n",
        "- SALDO PASIVO\n",
        "- MONTO ABONOS DE NOMINA\n",
        "- SALDO AHORROS\n",
        "- ANTIGUEDAD"
      ]
    },
    {
      "metadata": {
        "id": "AzavgrcT98p5",
        "colab_type": "text"
      },
      "cell_type": "markdown",
      "source": [
        "**DESCRIPTIVAS DE LAS 5 VARIABLES MÁS IMPORTANTES:**"
      ]
    },
    {
      "metadata": {
        "id": "SJjU6tpRSyBh",
        "colab_type": "code",
        "outputId": "5a47691c-10b7-4303-ae16-90157ab6e391",
        "colab": {
          "base_uri": "https://localhost:8080/",
          "height": 528
        }
      },
      "cell_type": "code",
      "source": [
        "fig, ax = plt.subplots(figsize=(10, 7))\n",
        "ax = sns.boxplot(x=\"fuga\", y=\"SALDO_ACTIVO\", data=cl)\n",
        "ax.set_title('CLIENTES FUGADOS POR PROMEDIO DE SALDO_ACTIVO', fontsize=25)\n",
        "ax.set_xticklabels([\"NO\",\"SI\"], fontsize=13)\n",
        "ax.set_xlabel(\"FUGA\", fontsize=15)\n",
        "ax.set_ylabel(\"PROMEDIO SALDO ACTIVO\", fontsize=15)"
      ],
      "execution_count": 0,
      "outputs": [
        {
          "output_type": "stream",
          "text": [
            "/usr/local/lib/python3.6/dist-packages/seaborn/categorical.py:454: FutureWarning: remove_na is deprecated and is a private function. Do not use.\n",
            "  box_data = remove_na(group_data)\n"
          ],
          "name": "stderr"
        },
        {
          "output_type": "execute_result",
          "data": {
            "text/plain": [
              "Text(0, 0.5, 'PROMEDIO SALDO ACTIVO')"
            ]
          },
          "metadata": {
            "tags": []
          },
          "execution_count": 95
        },
        {
          "output_type": "display_data",
          "data": {
            "image/png": "[encoded data removed]",
            "text/plain": [
              "<Figure size 720x504 with 1 Axes>"
            ]
          },
          "metadata": {
            "tags": []
          }
        }
      ]
    },
    {
      "metadata": {
        "id": "Ml3eb-CVMRqS",
        "colab_type": "code",
        "outputId": "f8df1fd5-1133-4d8e-b029-ce353ff46c5a",
        "colab": {
          "base_uri": "https://localhost:8080/",
          "height": 528
        }
      },
      "cell_type": "code",
      "source": [
        "fig, ax = plt.subplots(figsize=(10, 7))\n",
        "ax = sns.boxplot(x=\"fuga\", y=\"SALDO_PASIVO\", data=cl)\n",
        "ax.set_title('CLIENTES FUGADOS POR PROMEDIO DE SALDO_PASIVO', fontsize=25)\n",
        "ax.set_xticklabels([\"NO\",\"SI\"], fontsize=13)\n",
        "ax.set_xlabel(\"FUGA\", fontsize=15)\n",
        "ax.set_ylabel(\"PROMEDIO SALDO PASIVO\", fontsize=15)"
      ],
      "execution_count": 0,
      "outputs": [
        {
          "output_type": "stream",
          "text": [
            "/usr/local/lib/python3.6/dist-packages/seaborn/categorical.py:454: FutureWarning: remove_na is deprecated and is a private function. Do not use.\n",
            "  box_data = remove_na(group_data)\n"
          ],
          "name": "stderr"
        },
        {
          "output_type": "execute_result",
          "data": {
            "text/plain": [
              "Text(0, 0.5, 'PROMEDIO SALDO PASIVO')"
            ]
          },
          "metadata": {
            "tags": []
          },
          "execution_count": 96
        },
        {
          "output_type": "display_data",
          "data": {
            "image/png": "[encoded data removed]",
            "text/plain": [
              "<Figure size 720x504 with 1 Axes>"
            ]
          },
          "metadata": {
            "tags": []
          }
        }
      ]
    },
    {
      "metadata": {
        "id": "PrItH62_-Jvp",
        "colab_type": "text"
      },
      "cell_type": "markdown",
      "source": [
        "Como se evidencia en las anteriores gráficas, los clientes que mayormente tienden a fugarse, son los que tienen saldos activos y pasivos BAJOS."
      ]
    },
    {
      "metadata": {
        "id": "lO7LpMsETBPo",
        "colab_type": "code",
        "outputId": "966282f0-ff68-4e7b-ab7d-e19f63a7c867",
        "colab": {
          "base_uri": "https://localhost:8080/",
          "height": 528
        }
      },
      "cell_type": "code",
      "source": [
        "fig, ax = plt.subplots(figsize=(10, 7))\n",
        "ax = sns.boxplot(x=\"fuga\", y=\"MONTO_ABONOS_NOMINA\", data=cl)\n",
        "ax.set_title('CLIENTES FUGADOS POR PROMEDIO MONTO_ABONOS_NOMINA', fontsize=25)\n",
        "ax.set_xticklabels([\"NO\",\"SI\"], fontsize=13)\n",
        "ax.set_xlabel(\"FUGA\", fontsize=15)\n",
        "ax.set_ylabel(\"PROMEDIO MONTO_ABONOS_NOMINA\", fontsize=15)"
      ],
      "execution_count": 0,
      "outputs": [
        {
          "output_type": "stream",
          "text": [
            "/usr/local/lib/python3.6/dist-packages/seaborn/categorical.py:454: FutureWarning: remove_na is deprecated and is a private function. Do not use.\n",
            "  box_data = remove_na(group_data)\n"
          ],
          "name": "stderr"
        },
        {
          "output_type": "execute_result",
          "data": {
            "text/plain": [
              "Text(0, 0.5, 'PROMEDIO MONTO_ABONOS_NOMINA')"
            ]
          },
          "metadata": {
            "tags": []
          },
          "execution_count": 97
        },
        {
          "output_type": "display_data",
          "data": {
            "image/png": "[encoded data removed]",
            "text/plain": [
              "<Figure size 720x504 with 1 Axes>"
            ]
          },
          "metadata": {
            "tags": []
          }
        }
      ]
    },
    {
      "metadata": {
        "id": "XfwCzbrq-ZMc",
        "colab_type": "text"
      },
      "cell_type": "markdown",
      "source": [
        "Tambien los clientes que más tienden a fugarse son en su mayoria los clientes que tienen montos de abonos de nomina BAJOS."
      ]
    },
    {
      "metadata": {
        "id": "bUCp2MowJPCa",
        "colab_type": "code",
        "outputId": "76a79e53-b9cf-48e2-b703-7fe5233745e7",
        "colab": {
          "base_uri": "https://localhost:8080/",
          "height": 528
        }
      },
      "cell_type": "code",
      "source": [
        "fig, ax = plt.subplots(figsize=(10, 7))\n",
        "ax = sns.boxplot(x=\"fuga\", y=\"SALDO_AHORROS\", data=cl)\n",
        "ax.set_title('CLIENTES FUGADOS POR PROMEDIO DE SALDO_AHORROS', fontsize=25)\n",
        "ax.set_xticklabels([\"NO\",\"SI\"], fontsize=13)\n",
        "ax.set_xlabel(\"FUGA\", fontsize=15)\n",
        "ax.set_ylabel(\"PROMEDIO SALDO AHORROS\", fontsize=15)"
      ],
      "execution_count": 0,
      "outputs": [
        {
          "output_type": "stream",
          "text": [
            "/usr/local/lib/python3.6/dist-packages/seaborn/categorical.py:454: FutureWarning: remove_na is deprecated and is a private function. Do not use.\n",
            "  box_data = remove_na(group_data)\n"
          ],
          "name": "stderr"
        },
        {
          "output_type": "execute_result",
          "data": {
            "text/plain": [
              "Text(0, 0.5, 'PROMEDIO SALDO AHORROS')"
            ]
          },
          "metadata": {
            "tags": []
          },
          "execution_count": 98
        },
        {
          "output_type": "display_data",
          "data": {
            "image/png": "[encoded data removed]",
            "text/plain": [
              "<Figure size 720x504 with 1 Axes>"
            ]
          },
          "metadata": {
            "tags": []
          }
        }
      ]
    },
    {
      "metadata": {
        "id": "9gTt1xeh-rfU",
        "colab_type": "text"
      },
      "cell_type": "markdown",
      "source": [
        "De la misma manera que la anterior variable, los clientes que mas tienden a fugarse son los que tienen un promedio de Saldo Ahorros BAJO. "
      ]
    },
    {
      "metadata": {
        "id": "dmwwimdFH6NJ",
        "colab_type": "code",
        "outputId": "6fa84130-4f88-4d4e-e186-04ddba9b3767",
        "colab": {
          "base_uri": "https://localhost:8080/",
          "height": 528
        }
      },
      "cell_type": "code",
      "source": [
        "fig, ax = plt.subplots(figsize=(10, 7))\n",
        "ax = sns.boxplot(x=\"fuga\", y=\"ANTIGUEDAD\", data=cl)\n",
        "ax.set_title('CLIENTES FUGADOS POR ANTIGUEDAD(días)', fontsize=25)\n",
        "ax.set_xticklabels([\"NO\",\"SI\"], fontsize=13)\n",
        "ax.set_xlabel(\"FUGA\", fontsize=15)\n",
        "ax.set_ylabel(\"DÍAS\", fontsize=15)"
      ],
      "execution_count": 0,
      "outputs": [
        {
          "output_type": "stream",
          "text": [
            "/usr/local/lib/python3.6/dist-packages/seaborn/categorical.py:454: FutureWarning: remove_na is deprecated and is a private function. Do not use.\n",
            "  box_data = remove_na(group_data)\n"
          ],
          "name": "stderr"
        },
        {
          "output_type": "execute_result",
          "data": {
            "text/plain": [
              "Text(0, 0.5, 'DÍAS')"
            ]
          },
          "metadata": {
            "tags": []
          },
          "execution_count": 99
        },
        {
          "output_type": "display_data",
          "data": {
            "image/png": "[encoded data removed]",
            "text/plain": [
              "<Figure size 720x504 with 1 Axes>"
            ]
          },
          "metadata": {
            "tags": []
          }
        }
      ]
    },
    {
      "metadata": {
        "id": "LFef0I_X_Biu",
        "colab_type": "text"
      },
      "cell_type": "markdown",
      "source": [
        "Aunque la variable ANTIGUEDAD parece no tener mucha relevancia, en la gráfica se evidencia una tendencia a que los clientes más nuevos tienden en alguna medida a fugarse."
      ]
    },
    {
      "metadata": {
        "id": "VGE0aV4I_UQ7",
        "colab_type": "text"
      },
      "cell_type": "markdown",
      "source": [
        "###MODELO DE PREDICCIÓN DE FUGA DE CLIENTES:"
      ]
    },
    {
      "metadata": {
        "id": "Wzwbpzjl_ZAI",
        "colab_type": "text"
      },
      "cell_type": "markdown",
      "source": [
        "Con el fin de que se reduzcan las fugas de los clientes, se propone un modelo de predicción con el cual se pretende que la compañia tome medidas que disminuyan la fuga de los clientes de la manera más precisa para evitar sobrecostos en campañas  de fidelización. \n"
      ]
    },
    {
      "metadata": {
        "id": "xQIfAarzPogZ",
        "colab_type": "code",
        "colab": {}
      },
      "cell_type": "code",
      "source": [
        "#Partición de la Base en train y test al 70% y 30% respectivamente:\n",
        "from sklearn.model_selection import train_test_split\n",
        "X_train, X_test, y_train, y_test = train_test_split(cl.drop(['fuga'], axis=1), cl['fuga'], stratify=cl['fuga'],\n",
        "                                                    test_size=0.3,random_state=19) # 70% training and 30% test"
      ],
      "execution_count": 0,
      "outputs": []
    },
    {
      "metadata": {
        "id": "ox2MhiR3LoJ7",
        "colab_type": "text"
      },
      "cell_type": "markdown",
      "source": [
        "**MODELO SUPPORT VECTOR MACHINE CLASSIFIER**"
      ]
    },
    {
      "metadata": {
        "id": "QgOLt-7gPo7R",
        "colab_type": "code",
        "outputId": "013e9375-ec83-4fb3-dd53-ca1649d756d1",
        "colab": {
          "base_uri": "https://localhost:8080/",
          "height": 89
        }
      },
      "cell_type": "code",
      "source": [
        "#Entrenamiento del modelo:\n",
        "from sklearn import svm\n",
        "clf = svm.SVC(gamma='auto')\n",
        "clf.fit(X_train, y_train)  "
      ],
      "execution_count": 106,
      "outputs": [
        {
          "output_type": "execute_result",
          "data": {
            "text/plain": [
              "SVC(C=1.0, cache_size=200, class_weight=None, coef0=0.0,\n",
              "  decision_function_shape='ovr', degree=3, gamma='auto', kernel='rbf',\n",
              "  max_iter=-1, probability=False, random_state=None, shrinking=True,\n",
              "  tol=0.001, verbose=False)"
            ]
          },
          "metadata": {
            "tags": []
          },
          "execution_count": 106
        }
      ]
    },
    {
      "metadata": {
        "id": "5Xbpcqt_QXmh",
        "colab_type": "code",
        "colab": {}
      },
      "cell_type": "code",
      "source": [
        "#Prueba del modelo con los datos de TEST\n",
        "y_pred = clf.predict(X_test)"
      ],
      "execution_count": 0,
      "outputs": []
    },
    {
      "metadata": {
        "id": "dpgmkcLjQdSp",
        "colab_type": "code",
        "outputId": "d6373d12-714a-45fe-b138-6a9381ad170a",
        "colab": {
          "base_uri": "https://localhost:8080/",
          "height": 35
        }
      },
      "cell_type": "code",
      "source": [
        "from sklearn import metrics\n",
        "\n",
        "print(\"Accuracy:\",metrics.accuracy_score(y_test, y_pred))"
      ],
      "execution_count": 108,
      "outputs": [
        {
          "output_type": "stream",
          "text": [
            "Accuracy: 0.7106666666666667\n"
          ],
          "name": "stdout"
        }
      ]
    },
    {
      "metadata": {
        "id": "9uCExrWdBv03",
        "colab_type": "text"
      },
      "cell_type": "markdown",
      "source": [
        "El modelo presenta una precisión del 71.6% para la predicción de los "
      ]
    },
    {
      "metadata": {
        "id": "yY6IUvpLDgsL",
        "colab_type": "code",
        "colab": {
          "base_uri": "https://localhost:8080/",
          "height": 35
        },
        "outputId": "1e42686a-61f2-427a-913e-fea0b5273f50"
      },
      "cell_type": "code",
      "source": [
        "metrics.f1_score(y_test, y_pred, average='weighted', labels=np.unique(y_pred))"
      ],
      "execution_count": 91,
      "outputs": [
        {
          "output_type": "execute_result",
          "data": {
            "text/plain": [
              "0.8308651597817616"
            ]
          },
          "metadata": {
            "tags": []
          },
          "execution_count": 91
        }
      ]
    },
    {
      "metadata": {
        "id": "gouq4vfNGCvk",
        "colab_type": "code",
        "colab": {
          "base_uri": "https://localhost:8080/",
          "height": 53
        },
        "outputId": "13a4fcaa-08df-414a-a16b-85bdbb96c40d"
      },
      "cell_type": "code",
      "source": [
        "metrics.confusion_matrix(y_test, y_pred)"
      ],
      "execution_count": 112,
      "outputs": [
        {
          "output_type": "execute_result",
          "data": {
            "text/plain": [
              "array([[533,   0],\n",
              "       [217,   0]])"
            ]
          },
          "metadata": {
            "tags": []
          },
          "execution_count": 112
        }
      ]
    },
    {
      "metadata": {
        "id": "h6_PtCP5K_2b",
        "colab_type": "text"
      },
      "cell_type": "markdown",
      "source": [
        "Pero, para el modelo de SVM, se puede observar en la matriz de confusión que la precision del modelo no es muy buena"
      ]
    },
    {
      "metadata": {
        "id": "l1FRIHuSI8yI",
        "colab_type": "code",
        "colab": {}
      },
      "cell_type": "code",
      "source": [
        "y_pred = calibrated.predict(X_test)"
      ],
      "execution_count": 0,
      "outputs": []
    },
    {
      "metadata": {
        "id": "2G9-fLR9LOXG",
        "colab_type": "text"
      },
      "cell_type": "markdown",
      "source": [
        "**MODELO DE REGRESION LOGISTICA**"
      ]
    },
    {
      "metadata": {
        "id": "sSZ9_uSrJ3q-",
        "colab_type": "code",
        "colab": {
          "base_uri": "https://localhost:8080/",
          "height": 109
        },
        "outputId": "d6dcccc5-98aa-4743-f0fe-00e7a07d7dcd"
      },
      "cell_type": "code",
      "source": [
        "from sklearn.linear_model import LogisticRegression\n",
        "logreg = LogisticRegression()\n",
        "logreg.fit(X_train, y_train)\n",
        "print('Accuracy of Logistic regression classifier on training set: {:.2f}'\n",
        "     .format(logreg.score(X_train, y_train)))\n",
        "print('Accuracy of Logistic regression classifier on test set: {:.2f}'\n",
        "     .format(logreg.score(X_test, y_test)))"
      ],
      "execution_count": 113,
      "outputs": [
        {
          "output_type": "stream",
          "text": [
            "Accuracy of Logistic regression classifier on training set: 0.76\n",
            "Accuracy of Logistic regression classifier on test set: 0.75\n"
          ],
          "name": "stdout"
        },
        {
          "output_type": "stream",
          "text": [
            "/usr/local/lib/python3.6/dist-packages/sklearn/linear_model/logistic.py:433: FutureWarning: Default solver will be changed to 'lbfgs' in 0.22. Specify a solver to silence this warning.\n",
            "  FutureWarning)\n"
          ],
          "name": "stderr"
        }
      ]
    },
    {
      "metadata": {
        "id": "JHPzW3T8KWFM",
        "colab_type": "code",
        "colab": {
          "base_uri": "https://localhost:8080/",
          "height": 53
        },
        "outputId": "48a6573e-ea67-4b5d-be1b-72a3660e1de4"
      },
      "cell_type": "code",
      "source": [
        "y_pred = logreg.predict(X_test)\n",
        "metrics.confusion_matrix(y_test, y_pred)"
      ],
      "execution_count": 118,
      "outputs": [
        {
          "output_type": "execute_result",
          "data": {
            "text/plain": [
              "array([[513,  20],\n",
              "       [166,  51]])"
            ]
          },
          "metadata": {
            "tags": []
          },
          "execution_count": 118
        }
      ]
    },
    {
      "metadata": {
        "id": "dpyZbr4BLSmX",
        "colab_type": "text"
      },
      "cell_type": "markdown",
      "source": [
        "**MODELO DE ARBOLES**"
      ]
    },
    {
      "metadata": {
        "id": "Se3gY3-QKAIQ",
        "colab_type": "code",
        "colab": {
          "base_uri": "https://localhost:8080/",
          "height": 53
        },
        "outputId": "b30a51e6-5f44-4e0b-964a-ad265919ca53"
      },
      "cell_type": "code",
      "source": [
        "from sklearn.tree import DecisionTreeClassifier\n",
        "clf = DecisionTreeClassifier().fit(X_train, y_train)\n",
        "print('Accuracy of Decision Tree classifier on training set: {:.2f}'\n",
        "     .format(clf.score(X_train, y_train)))\n",
        "print('Accuracy of Decision Tree classifier on test set: {:.2f}'\n",
        "     .format(clf.score(X_test, y_test)))"
      ],
      "execution_count": 120,
      "outputs": [
        {
          "output_type": "stream",
          "text": [
            "Accuracy of Decision Tree classifier on training set: 1.00\n",
            "Accuracy of Decision Tree classifier on test set: 0.78\n"
          ],
          "name": "stdout"
        }
      ]
    },
    {
      "metadata": {
        "id": "_q_ypPfoKZaC",
        "colab_type": "code",
        "colab": {
          "base_uri": "https://localhost:8080/",
          "height": 53
        },
        "outputId": "78a02662-1a07-4dd7-b372-2482118ede6c"
      },
      "cell_type": "code",
      "source": [
        "y_pred = clf.predict(X_test)\n",
        "metrics.confusion_matrix(y_test, y_pred)"
      ],
      "execution_count": 121,
      "outputs": [
        {
          "output_type": "execute_result",
          "data": {
            "text/plain": [
              "array([[449,  84],\n",
              "       [ 79, 138]])"
            ]
          },
          "metadata": {
            "tags": []
          },
          "execution_count": 121
        }
      ]
    },
    {
      "metadata": {
        "id": "Nbho7flyLfbt",
        "colab_type": "text"
      },
      "cell_type": "markdown",
      "source": [
        "**MODELO DE KVECINOS**"
      ]
    },
    {
      "metadata": {
        "id": "INjHXMDRKF-W",
        "colab_type": "code",
        "colab": {
          "base_uri": "https://localhost:8080/",
          "height": 53
        },
        "outputId": "5624eae2-dc5b-47b4-c9fe-d6b355ed152e"
      },
      "cell_type": "code",
      "source": [
        "from sklearn.neighbors import KNeighborsClassifier\n",
        "knn = KNeighborsClassifier()\n",
        "knn.fit(X_train, y_train)\n",
        "print('Accuracy of K-NN classifier on training set: {:.2f}'\n",
        "     .format(knn.score(X_train, y_train)))\n",
        "print('Accuracy of K-NN classifier on test set: {:.2f}'\n",
        "     .format(knn.score(X_test, y_test)))"
      ],
      "execution_count": 122,
      "outputs": [
        {
          "output_type": "stream",
          "text": [
            "Accuracy of K-NN classifier on training set: 0.87\n",
            "Accuracy of K-NN classifier on test set: 0.80\n"
          ],
          "name": "stdout"
        }
      ]
    },
    {
      "metadata": {
        "id": "0Ps6osOJKvLM",
        "colab_type": "code",
        "colab": {
          "base_uri": "https://localhost:8080/",
          "height": 53
        },
        "outputId": "54ab4521-130e-45dd-bef0-ea3220422398"
      },
      "cell_type": "code",
      "source": [
        "y_pred = knn.predict(X_test)\n",
        "metrics.confusion_matrix(y_test, y_pred)"
      ],
      "execution_count": 123,
      "outputs": [
        {
          "output_type": "execute_result",
          "data": {
            "text/plain": [
              "array([[474,  59],\n",
              "       [ 89, 128]])"
            ]
          },
          "metadata": {
            "tags": []
          },
          "execution_count": 123
        }
      ]
    },
    {
      "metadata": {
        "id": "YU5u4Q6ULukI",
        "colab_type": "text"
      },
      "cell_type": "markdown",
      "source": [
        "En conclusión, con la ejecución de los modelos se tiene que el modelo de Kvecinos es un mejor predictor de la fuga de clientes, ya que es el que más precisión tiene con un **80% de precisión.**"
      ]
    }
  ]
}